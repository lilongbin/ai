{
 "cells": [
  {
   "cell_type": "code",
   "execution_count": 1,
   "metadata": {},
   "outputs": [],
   "source": [
    "from IPython.display import Latex"
   ]
  },
  {
   "cell_type": "code",
   "execution_count": 2,
   "metadata": {},
   "outputs": [],
   "source": [
    "# 在jupyter notebook中使用handcalcs模块可能更方便\n",
    "# 使用#symbolic表示只生成过程,不计算结果\n",
    "a='''\n",
    "import handcalcs.render\n",
    "%%render\n",
    "#symbolic\n",
    "f = c/a + b # Comment 1\n",
    "g = c*f / a # Comment 2\n",
    "d = sqrt(a / b) + asin(sin(b / c)) + (a/b)**(0.5) + sqrt((a*b + b*c)/(b**2)) + sin(a/b) # Comment 3\n",
    "'''"
   ]
  },
  {
   "cell_type": "code",
   "execution_count": 3,
   "metadata": {},
   "outputs": [],
   "source": [
    "# 输出LaTeX公式,使用%%tex而非%%render就行了\n",
    "a='''\n",
    "import handcalcs.render\n",
    "%%tex\n",
    "a = 2\n",
    "b = 3\n",
    "c = 2*a + b/3\n",
    "'''"
   ]
  },
  {
   "cell_type": "code",
   "execution_count": 4,
   "metadata": {},
   "outputs": [
    {
     "data": {
      "text/latex": [
       "$\\sqrt{x^{2} + y^{2}}$"
      ],
      "text/plain": [
       "<IPython.core.display.Latex object>"
      ]
     },
     "execution_count": 4,
     "metadata": {},
     "output_type": "execute_result"
    }
   ],
   "source": [
    "# SymPy的latex()可以生成Latex表达式\n",
    "# %load_ext sympyprinting #The sympyprinting extension has moved to sympy\n",
    "import sympy as sym\n",
    "x, y = sym.symbols(\"x,y\")\n",
    "tex = sym.latex(sym.sqrt(x**2+y**2))\n",
    "Latex(\"$\" + tex + \"$\")"
   ]
  },
  {
   "cell_type": "code",
   "execution_count": 5,
   "metadata": {},
   "outputs": [],
   "source": [
    "# 首先导入Latex\n",
    "from IPython.display import Latex"
   ]
  },
  {
   "cell_type": "code",
   "execution_count": 6,
   "metadata": {},
   "outputs": [
    {
     "data": {
      "text/latex": [
       "$f(x) = 3x + 7$"
      ],
      "text/plain": [
       "<IPython.core.display.Latex object>"
      ]
     },
     "execution_count": 6,
     "metadata": {},
     "output_type": "execute_result"
    }
   ],
   "source": [
    "# 数学公式的前后要加上 $ 或 \\( 和 \\),\n",
    "# 如果用 \\[ 和 \\],或使用 $$ 和 $$,则该公式独占一行;\n",
    "# 用于显示数学表达式的默认分隔符是 $$ ... $$ 和 \\[ ... \\],而\\( ... \\）用于行内数学表达式.\n",
    "# 注意,默认情况下不使用 $...$ 行内分隔符,这是因为美元符号在非数学设置中出现的频率太高,这可能会导致某些文本意外地被视为数学公式.\n",
    "# 假设用 \\begin{equation} 和 \\end{equation},则公式除了独占一行还会自动添加序号,\n",
    "# 如果公式不想编号则使用 \\begin{equation*} 和 \\end{equation*}.\n",
    "Latex(r\"$f(x) = 3x + 7$\")"
   ]
  },
  {
   "cell_type": "code",
   "execution_count": 7,
   "metadata": {},
   "outputs": [
    {
     "data": {
      "text/latex": [
       "\\(f(x) = 3x + 7\\)"
      ],
      "text/plain": [
       "<IPython.core.display.Latex object>"
      ]
     },
     "execution_count": 7,
     "metadata": {},
     "output_type": "execute_result"
    }
   ],
   "source": [
    "Latex(r\"\\(f(x) = 3x + 7\\)\")"
   ]
  },
  {
   "cell_type": "code",
   "execution_count": 8,
   "metadata": {},
   "outputs": [
    {
     "data": {
      "text/latex": [
       "$$f(x) = 3x + 7$$"
      ],
      "text/plain": [
       "<IPython.core.display.Latex object>"
      ]
     },
     "execution_count": 8,
     "metadata": {},
     "output_type": "execute_result"
    }
   ],
   "source": [
    "Latex(r\"$$f(x) = 3x + 7$$\")"
   ]
  },
  {
   "cell_type": "code",
   "execution_count": 9,
   "metadata": {},
   "outputs": [
    {
     "data": {
      "text/latex": [
       "\\[ f(x) = 3x + 7 \\]"
      ],
      "text/plain": [
       "<IPython.core.display.Latex object>"
      ]
     },
     "execution_count": 9,
     "metadata": {},
     "output_type": "execute_result"
    }
   ],
   "source": [
    "Latex(r\"\\[ f(x) = 3x + 7 \\]\")"
   ]
  },
  {
   "cell_type": "code",
   "execution_count": 10,
   "metadata": {},
   "outputs": [
    {
     "data": {
      "text/latex": [
       "$\\Gamma(z) = \\int_0^\\infty t^{z-1}e^{-1} dt$"
      ],
      "text/plain": [
       "<IPython.core.display.Latex object>"
      ]
     },
     "execution_count": 10,
     "metadata": {},
     "output_type": "execute_result"
    }
   ],
   "source": [
    "# 普通字符在数学公式中含义一样,除了 # $ % & ~ _ ^ \\ { }\n",
    "# 若要在数学环境中表示这些符号# $ % & _ { },需要在每个字符前加上\\进行转义,即分别表示为\\# \\$ \\% \\& \\_ \\{ \\}.\n",
    "Latex(r\"$\\Gamma(z) = \\int_0^\\infty t^{z-1}e^{-1} dt$\")"
   ]
  },
  {
   "cell_type": "code",
   "execution_count": 11,
   "metadata": {},
   "outputs": [
    {
     "data": {
      "text/latex": [
       "$ \\Alpha \\Beta \\Gamma \\Delta \\Epsilon \\Zeta \\Eta \\Theta\n",
       "\\Iota \\Kappa \\Lambda \\Mu \\Nu \\Xi \\Omicron \\Pi\n",
       "\\Rho \\Sigma \\Tau \\Upsilon \\Phi \\Chi \\Psi \\Omega$"
      ],
      "text/plain": [
       "<IPython.core.display.Latex object>"
      ]
     },
     "execution_count": 11,
     "metadata": {},
     "output_type": "execute_result"
    }
   ],
   "source": [
    "# 希腊字母\n",
    "# 大写希腊字母\n",
    "Latex(r\"\"\"$ \\Alpha \\Beta \\Gamma \\Delta \\Epsilon \\Zeta \\Eta \\Theta\n",
    "\\Iota \\Kappa \\Lambda \\Mu \\Nu \\Xi \\Omicron \\Pi\n",
    "\\Rho \\Sigma \\Tau \\Upsilon \\Phi \\Chi \\Psi \\Omega$\"\"\")"
   ]
  },
  {
   "cell_type": "code",
   "execution_count": 12,
   "metadata": {},
   "outputs": [
    {
     "data": {
      "text/latex": [
       "$ \\alpha \\beta \\gamma \\delta \\epsilon \\zeta \\eta \\theta\n",
       "\\iota \\kappa \\lambda \\mu \\nu \\xi \\omicron \\pi\n",
       "\\rho \\sigma \\tau \\upsilon \\phi \\chi \\psi \\omega\n",
       "$"
      ],
      "text/plain": [
       "<IPython.core.display.Latex object>"
      ]
     },
     "execution_count": 12,
     "metadata": {},
     "output_type": "execute_result"
    }
   ],
   "source": [
    "# 小写希腊字母\n",
    "Latex(r\"\"\"$ \\alpha \\beta \\gamma \\delta \\epsilon \\zeta \\eta \\theta\n",
    "\\iota \\kappa \\lambda \\mu \\nu \\xi \\omicron \\pi\n",
    "\\rho \\sigma \\tau \\upsilon \\phi \\chi \\psi \\omega\n",
    "$\"\"\")"
   ]
  },
  {
   "cell_type": "code",
   "execution_count": 13,
   "metadata": {},
   "outputs": [
    {
     "data": {
      "text/latex": [
       "\\[\n",
       "\\angle\\alpha\\beta\\Gamma\n",
       "\\triangle\n",
       "\\perp\n",
       "t\\propto v\n",
       "\\ge\n",
       "\\leq\n",
       "\\approx\n",
       "\\sim\n",
       "\\lg X\n",
       "\\log_\\alpha X\n",
       "\\ln X\n",
       "\\]"
      ],
      "text/plain": [
       "<IPython.core.display.Latex object>"
      ]
     },
     "execution_count": 13,
     "metadata": {},
     "output_type": "execute_result"
    }
   ],
   "source": [
    "# 希腊字母\n",
    "Latex(r\"\"\"\\[\n",
    "\\angle\\alpha\\beta\\Gamma\n",
    "\\triangle\n",
    "\\perp\n",
    "t\\propto v\n",
    "\\ge\n",
    "\\leq\n",
    "\\approx\n",
    "\\sim\n",
    "\\lg X\n",
    "\\log_\\alpha X\n",
    "\\ln X\n",
    "\\]\"\"\")"
   ]
  },
  {
   "cell_type": "code",
   "execution_count": 14,
   "metadata": {},
   "outputs": [
    {
     "data": {
      "text/latex": [
       "$\\sum \\prod \\coprod \\int \\iint \\iiint \\oint$"
      ],
      "text/plain": [
       "<IPython.core.display.Latex object>"
      ]
     },
     "execution_count": 14,
     "metadata": {},
     "output_type": "execute_result"
    }
   ],
   "source": [
    "# 大尺寸运算符\n",
    "Latex(r\"$\\sum \\prod \\coprod \\int \\iint \\iiint \\oint$\")"
   ]
  },
  {
   "cell_type": "code",
   "execution_count": 15,
   "metadata": {},
   "outputs": [
    {
     "data": {
      "text/latex": [
       "$ \\bigvee \\bigwedge \\bigoplus \\bigotimes \\bigodot \\biguplus$"
      ],
      "text/plain": [
       "<IPython.core.display.Latex object>"
      ]
     },
     "execution_count": 15,
     "metadata": {},
     "output_type": "execute_result"
    }
   ],
   "source": [
    "Latex(r\"$ \\bigvee \\bigwedge \\bigoplus \\bigotimes \\bigodot \\biguplus$\")"
   ]
  },
  {
   "cell_type": "code",
   "execution_count": 16,
   "metadata": {},
   "outputs": [
    {
     "data": {
      "text/latex": [
       "$\\leftarrow \\rightarrow \\Leftarrow \\Rightarrow \\uparrow \\downarrow$"
      ],
      "text/plain": [
       "<IPython.core.display.Latex object>"
      ]
     },
     "execution_count": 16,
     "metadata": {},
     "output_type": "execute_result"
    }
   ],
   "source": [
    "# 箭头\n",
    "Latex(r\"$\\leftarrow \\rightarrow \\Leftarrow \\Rightarrow \\uparrow \\downarrow$\")"
   ]
  },
  {
   "cell_type": "code",
   "execution_count": 17,
   "metadata": {},
   "outputs": [
    {
     "data": {
      "text/latex": [
       "$\\nearrow \\searrow \\swarrow \\nwarrow \\leadsto$"
      ],
      "text/plain": [
       "<IPython.core.display.Latex object>"
      ]
     },
     "execution_count": 17,
     "metadata": {},
     "output_type": "execute_result"
    }
   ],
   "source": [
    "Latex(r\"$\\nearrow \\searrow \\swarrow \\nwarrow \\leadsto$\")"
   ]
  },
  {
   "cell_type": "code",
   "execution_count": 18,
   "metadata": {},
   "outputs": [
    {
     "data": {
      "text/latex": [
       "$ \\iff \\rightleftharpoons$"
      ],
      "text/plain": [
       "<IPython.core.display.Latex object>"
      ]
     },
     "execution_count": 18,
     "metadata": {},
     "output_type": "execute_result"
    }
   ],
   "source": [
    "Latex(r\"$ \\iff \\rightleftharpoons$\")"
   ]
  },
  {
   "cell_type": "code",
   "execution_count": 19,
   "metadata": {},
   "outputs": [
    {
     "data": {
      "text/latex": [
       "$\\mbox{对任意的$x>0$}, \\mbox{有 }f(x)>0. $"
      ],
      "text/plain": [
       "<IPython.core.display.Latex object>"
      ]
     },
     "execution_count": 19,
     "metadata": {},
     "output_type": "execute_result"
    }
   ],
   "source": [
    "# 在公式中插入文本可以通过 \\mbox{text} 在公式中添加text\n",
    "Latex(r\"$\\mbox{对任意的$x>0$}, \\mbox{有 }f(x)>0. $\")"
   ]
  },
  {
   "cell_type": "code",
   "execution_count": 20,
   "metadata": {},
   "outputs": [
    {
     "data": {
      "text/latex": [
       "\\[ a_i=b_{i+j}^{i+j}+c^{i} \\]"
      ],
      "text/plain": [
       "<IPython.core.display.Latex object>"
      ]
     },
     "execution_count": 20,
     "metadata": {},
     "output_type": "execute_result"
    }
   ],
   "source": [
    "# 上标和下标\n",
    "# 用 ^ 来表示上标\n",
    "# 用 _ 来表示下标\n",
    "# 如果有多个字符做上标或下标,要用{}括起来\n",
    "Latex(r\"\\[ a_i=b_{i+j}^{i+j}+c^{i} \\]\")"
   ]
  },
  {
   "cell_type": "code",
   "execution_count": 21,
   "metadata": {},
   "outputs": [
    {
     "data": {
      "text/latex": [
       "$f(x)=x^{x^x}$"
      ],
      "text/plain": [
       "<IPython.core.display.Latex object>"
      ]
     },
     "execution_count": 21,
     "metadata": {},
     "output_type": "execute_result"
    }
   ],
   "source": [
    "Latex(r\"$f(x)=x^{x^x}$\")"
   ]
  },
  {
   "cell_type": "code",
   "execution_count": 22,
   "metadata": {},
   "outputs": [
    {
     "data": {
      "text/latex": [
       "$ \\frac{7x+5}{1+y^2} $"
      ],
      "text/plain": [
       "<IPython.core.display.Latex object>"
      ]
     },
     "execution_count": 22,
     "metadata": {},
     "output_type": "execute_result"
    }
   ],
   "source": [
    "# 分式 \\frac{a}{b}\n",
    "# \\frac{numerator}{denominator}\n",
    "Latex(r\"$ \\frac{7x+5}{1+y^2} $\")"
   ]
  },
  {
   "cell_type": "code",
   "execution_count": 23,
   "metadata": {},
   "outputs": [
    {
     "data": {
      "text/latex": [
       "$ \\sqrt[n]{x^n+y^n} \\sqrt[3]2 \\sqrt2 $"
      ],
      "text/plain": [
       "<IPython.core.display.Latex object>"
      ]
     },
     "execution_count": 23,
     "metadata": {},
     "output_type": "execute_result"
    }
   ],
   "source": [
    "# 开方 \\sqrt[n]{a}\n",
    "# \\sqrt{expression_r_r_r}表示开平方\n",
    "# \\sqrt[n]{expression_r_r_r} 表示开 n 次方\n",
    "Latex(r\"$ \\sqrt[n]{x^n+y^n} \\sqrt[3]2 \\sqrt2 $\")"
   ]
  },
  {
   "cell_type": "code",
   "execution_count": 24,
   "metadata": {},
   "outputs": [
    {
     "data": {
      "text/latex": [
       "$ f(x_1,x_x,\\ldots,x_n)=x_1^2+x_2^2+\\cdots+x_n^2 $"
      ],
      "text/plain": [
       "<IPython.core.display.Latex object>"
      ]
     },
     "execution_count": 24,
     "metadata": {},
     "output_type": "execute_result"
    }
   ],
   "source": [
    "# 省略号（3个点）\n",
    "# \\ldots 表示跟文本底线对齐的省略号\n",
    "# \\cdots 表示跟文本中线对齐的省略号\n",
    "Latex(r\"$ f(x_1,x_x,\\ldots,x_n)=x_1^2+x_2^2+\\cdots+x_n^2 $\")"
   ]
  },
  {
   "cell_type": "code",
   "execution_count": 25,
   "metadata": {},
   "outputs": [
    {
     "data": {
      "text/latex": [
       "\\[ f(x,y,z)=3y^2z\\left(3+\\frac{7x+5}{1+y^2}\\right). \\]"
      ],
      "text/plain": [
       "<IPython.core.display.Latex object>"
      ]
     },
     "execution_count": 25,
     "metadata": {},
     "output_type": "execute_result"
    }
   ],
   "source": [
    "# 括号和分隔符\n",
    "# () 和 [ ] 和 ｜ 对应于自己,无需转义；\n",
    "# {} 对应于 \\{ \\}；\n",
    "# || 对应于 \\|。\n",
    "#当要显示大号的括号或分隔符时，要对应用 \\left 和 \\right\n",
    "Latex(r\"\\[ f(x,y,z)=3y^2z\\left(3+\\frac{7x+5}{1+y^2}\\right). \\]\")"
   ]
  },
  {
   "cell_type": "code",
   "execution_count": 26,
   "metadata": {},
   "outputs": [
    {
     "data": {
      "text/latex": [
       "$ \\left( x = \\frac{-b \\pm \\sqrt{b^2-4ac}}{2a} \\right) $"
      ],
      "text/plain": [
       "<IPython.core.display.Latex object>"
      ]
     },
     "execution_count": 26,
     "metadata": {},
     "output_type": "execute_result"
    }
   ],
   "source": [
    "# \\left\\{ 公式 \\right\\} 如果left或right后面没有符号则用.代替.\n",
    "Latex(r\"$ \\left( x = \\frac{-b \\pm \\sqrt{b^2-4ac}}{2a} \\right) $\")"
   ]
  },
  {
   "cell_type": "code",
   "execution_count": 27,
   "metadata": {},
   "outputs": [
    {
     "data": {
      "text/latex": [
       "$\n",
       "\\left\\{\n",
       "    \\begin{matrix}\n",
       "    x1 = \\frac{-b + \\sqrt{b^2-4ac}}{2a}\\\\\n",
       "    x2 = \\frac{-b - \\sqrt{b^2-4ac}}{2a}\n",
       "    \\end{matrix}\n",
       "\\right\\}\n",
       "$"
      ],
      "text/plain": [
       "<IPython.core.display.Latex object>"
      ]
     },
     "execution_count": 27,
     "metadata": {},
     "output_type": "execute_result"
    }
   ],
   "source": [
    "Latex(r\"\"\"$\n",
    "\\left\\{\n",
    "    \\begin{matrix}\n",
    "    x1 = \\frac{-b + \\sqrt{b^2-4ac}}{2a}\\\\\n",
    "    x2 = \\frac{-b - \\sqrt{b^2-4ac}}{2a}\n",
    "    \\end{matrix}\n",
    "\\right\\}\n",
    "$\"\"\")"
   ]
  },
  {
   "cell_type": "code",
   "execution_count": 28,
   "metadata": {},
   "outputs": [
    {
     "data": {
      "text/latex": [
       "$\\left. \\frac{du}{dx} \\right|_{x=0} $"
      ],
      "text/plain": [
       "<IPython.core.display.Latex object>"
      ]
     },
     "execution_count": 28,
     "metadata": {},
     "output_type": "execute_result"
    }
   ],
   "source": [
    "# \\left. 和 \\right. 只用与匹配,本身是不显示的\n",
    "Latex(r\"$\\left. \\frac{du}{dx} \\right|_{x=0} $\")"
   ]
  },
  {
   "cell_type": "code",
   "execution_count": 29,
   "metadata": {},
   "outputs": [
    {
     "data": {
      "text/latex": [
       "$ \\{a_n\\} $"
      ],
      "text/plain": [
       "<IPython.core.display.Latex object>"
      ]
     },
     "execution_count": 29,
     "metadata": {},
     "output_type": "execute_result"
    }
   ],
   "source": [
    "# 花括号\n",
    "Latex(r\"$ \\{a_n\\} $\")"
   ]
  },
  {
   "cell_type": "code",
   "execution_count": 30,
   "metadata": {},
   "outputs": [
    {
     "data": {
      "text/latex": [
       "$\n",
       "\\begin{eqnarray}\n",
       "\\cos 2\\theta\n",
       "    & = & \\cos^2 \\theta - \\sin^2 \\theta \\\\\n",
       "    & = & 2 \\cos^2 \\theta - 1.\n",
       "\\end{eqnarray}\n",
       "$"
      ],
      "text/plain": [
       "<IPython.core.display.Latex object>"
      ]
     },
     "execution_count": 30,
     "metadata": {},
     "output_type": "execute_result"
    }
   ],
   "source": [
    "# 多行的数学公式\n",
    "# 其中&是对齐点,表示在此对齐;\n",
    "Latex(r\"\"\"$\n",
    "\\begin{eqnarray}\n",
    "\\cos 2\\theta\n",
    "    & = & \\cos^2 \\theta - \\sin^2 \\theta \\\\\n",
    "    & = & 2 \\cos^2 \\theta - 1.\n",
    "\\end{eqnarray}\n",
    "$\"\"\")"
   ]
  },
  {
   "cell_type": "code",
   "execution_count": 31,
   "metadata": {},
   "outputs": [
    {
     "data": {
      "text/latex": [
       "$\n",
       "\\begin{eqnarray*}\n",
       "\\cos 2\\theta\n",
       "    & = & \\cos^2 \\theta - \\sin^2 \\theta \\\\\n",
       "    & = & 2 \\cos^2 \\theta - 1.\n",
       "\\end{eqnarray*}\n",
       "$"
      ],
      "text/plain": [
       "<IPython.core.display.Latex object>"
      ]
     },
     "execution_count": 31,
     "metadata": {},
     "output_type": "execute_result"
    }
   ],
   "source": [
    "# *使latex不自动显示序号,如果想让latex自动标上序号,则把*去掉;\n",
    "Latex(r\"\"\"$\n",
    "\\begin{eqnarray*}\n",
    "\\cos 2\\theta\n",
    "    & = & \\cos^2 \\theta - \\sin^2 \\theta \\\\\n",
    "    & = & 2 \\cos^2 \\theta - 1.\n",
    "\\end{eqnarray*}\n",
    "$\"\"\")"
   ]
  },
  {
   "cell_type": "code",
   "execution_count": 32,
   "metadata": {},
   "outputs": [
    {
     "data": {
      "text/latex": [
       "The characteristic polynomial\n",
       "$\\chi(\\lambda)$ of the\n",
       "$3 \\times 3$~matrix\n",
       "\n",
       "\\[\n",
       "\\left(\n",
       "    \\begin{array}{ccc}\n",
       "    a & b & c \\\\\n",
       "    d & e & f \\\\\n",
       "    g & h & i\n",
       "    \\end{array}\n",
       "\\right)\n",
       "\\]\n",
       "\n",
       "is given by the formula\n",
       "\n",
       "\\[\n",
       "\\chi(\\lambda) = \n",
       "\\left|\n",
       "    \\begin{array}{ccc}\n",
       "    \\lambda - a & -b & -c \\\\\n",
       "    -d & \\lambda - e & -f \\\\\n",
       "    -g & -h & \\lambda - i\n",
       "    \\end{array}\n",
       "\\right|.\n",
       "\\]"
      ],
      "text/plain": [
       "<IPython.core.display.Latex object>"
      ]
     },
     "execution_count": 32,
     "metadata": {},
     "output_type": "execute_result"
    }
   ],
   "source": [
    "# 矩阵\n",
    "# c表示向中对齐，l表示向左对齐，r表示向右对齐\n",
    "Latex(r\"\"\"The characteristic polynomial\n",
    "$\\chi(\\lambda)$ of the\n",
    "$3 \\times 3$~matrix\n",
    "\n",
    "\\[\n",
    "\\left(\n",
    "    \\begin{array}{ccc}\n",
    "    a & b & c \\\\\n",
    "    d & e & f \\\\\n",
    "    g & h & i\n",
    "    \\end{array}\n",
    "\\right)\n",
    "\\]\n",
    "\n",
    "is given by the formula\n",
    "\n",
    "\\[\n",
    "\\chi(\\lambda) = \n",
    "\\left|\n",
    "    \\begin{array}{ccc}\n",
    "    \\lambda - a & -b & -c \\\\\n",
    "    -d & \\lambda - e & -f \\\\\n",
    "    -g & -h & \\lambda - i\n",
    "    \\end{array}\n",
    "\\right|.\n",
    "\\]\"\"\")"
   ]
  },
  {
   "cell_type": "code",
   "execution_count": 33,
   "metadata": {},
   "outputs": [
    {
     "data": {
      "text/latex": [
       "$\\vec{a c}, \\overleftarrow{ab}, \\overrightarrow{c d}, \\widehat{e fg}$"
      ],
      "text/plain": [
       "<IPython.core.display.Latex object>"
      ]
     },
     "execution_count": 33,
     "metadata": {},
     "output_type": "execute_result"
    }
   ],
   "source": [
    "# 向量 \\vec\n",
    "Latex(r\"$\\vec{a c}, \\overleftarrow{ab}, \\overrightarrow{c d}, \\widehat{e fg}$\")"
   ]
  },
  {
   "cell_type": "code",
   "execution_count": 34,
   "metadata": {},
   "outputs": [
    {
     "data": {
      "text/latex": [
       "\\[ \\vec{c} = \\overrightarrow{c d}\\]"
      ],
      "text/plain": [
       "<IPython.core.display.Latex object>"
      ]
     },
     "execution_count": 34,
     "metadata": {},
     "output_type": "execute_result"
    }
   ],
   "source": [
    "# 向量\n",
    "Latex(r\"\\[ \\vec{c} = \\overrightarrow{c d}\\]\")"
   ]
  },
  {
   "cell_type": "code",
   "execution_count": 35,
   "metadata": {},
   "outputs": [
    {
     "data": {
      "text/latex": [
       "$\\overline{h i j}, \\underline{k l m}$"
      ],
      "text/plain": [
       "<IPython.core.display.Latex object>"
      ]
     },
     "execution_count": 35,
     "metadata": {},
     "output_type": "execute_result"
    }
   ],
   "source": [
    "# 上划线,下划线 \\overline \\underline\n",
    "Latex(r\"$\\overline{h i j}, \\underline{k l m}$\")"
   ]
  },
  {
   "cell_type": "code",
   "execution_count": 36,
   "metadata": {},
   "outputs": [
    {
     "data": {
      "text/latex": [
       "\\[ \\begin{matrix} 5050 \\\\ \\overbrace{ 1+2+\\cdots+100 } \\end{matrix} \\]"
      ],
      "text/plain": [
       "<IPython.core.display.Latex object>"
      ]
     },
     "execution_count": 36,
     "metadata": {},
     "output_type": "execute_result"
    }
   ],
   "source": [
    "# 上括号 \\overbrace\n",
    "Latex(r\"\\[ \\begin{matrix} 5050 \\\\ \\overbrace{ 1+2+\\cdots+100 } \\end{matrix} \\]\")"
   ]
  },
  {
   "cell_type": "code",
   "execution_count": 37,
   "metadata": {},
   "outputs": [
    {
     "data": {
      "text/latex": [
       "\\[ \\begin{matrix} \\underbrace{ 1+2+\\cdots+100 } \\\\ 5050 \\end{matrix} \\]"
      ],
      "text/plain": [
       "<IPython.core.display.Latex object>"
      ]
     },
     "execution_count": 37,
     "metadata": {},
     "output_type": "execute_result"
    }
   ],
   "source": [
    "# 下括号 \\underbrace\n",
    "Latex(r\"\\[ \\begin{matrix} \\underbrace{ 1+2+\\cdots+100 } \\\\ 5050 \\end{matrix} \\]\")"
   ]
  },
  {
   "cell_type": "code",
   "execution_count": 38,
   "metadata": {},
   "outputs": [
    {
     "data": {
      "text/latex": [
       "$f'(x),f''(x), f'''(x)$"
      ],
      "text/plain": [
       "<IPython.core.display.Latex object>"
      ]
     },
     "execution_count": 38,
     "metadata": {},
     "output_type": "execute_result"
    }
   ],
   "source": [
    "# 导数\n",
    "# 单引号--Enter键左侧\n",
    "Latex(r\"$f'(x),f''(x), f'''(x)$\")"
   ]
  },
  {
   "cell_type": "code",
   "execution_count": 39,
   "metadata": {},
   "outputs": [
    {
     "data": {
      "text/latex": [
       "$x''$"
      ],
      "text/plain": [
       "<IPython.core.display.Latex object>"
      ]
     },
     "execution_count": 39,
     "metadata": {},
     "output_type": "execute_result"
    }
   ],
   "source": [
    "Latex(r\"$x''$\")"
   ]
  },
  {
   "cell_type": "code",
   "execution_count": 40,
   "metadata": {},
   "outputs": [
    {
     "data": {
      "text/latex": [
       "\\[ x^\\prime = \\ddot{y} = \\dot{x} \\]"
      ],
      "text/plain": [
       "<IPython.core.display.Latex object>"
      ]
     },
     "execution_count": 40,
     "metadata": {},
     "output_type": "execute_result"
    }
   ],
   "source": [
    "# 导数 ^\\prime \\dot \\\\dot\n",
    "Latex(r\"\\[ x^\\prime = \\ddot{y} = \\dot{x} \\]\")"
   ]
  },
  {
   "cell_type": "code",
   "execution_count": 41,
   "metadata": {},
   "outputs": [
    {
     "data": {
      "text/latex": [
       "$\\dot{x},\\ddot{y}$"
      ],
      "text/plain": [
       "<IPython.core.display.Latex object>"
      ]
     },
     "execution_count": 41,
     "metadata": {},
     "output_type": "execute_result"
    }
   ],
   "source": [
    "# 导数 点 \\dot \\\\dot\n",
    "Latex(r\"$\\dot{x},\\ddot{y}$\")"
   ]
  },
  {
   "cell_type": "code",
   "execution_count": 42,
   "metadata": {},
   "outputs": [
    {
     "data": {
      "text/latex": [
       "$\\frac{du}{dt} and \\frac{d^2 u}{dx^2}$"
      ],
      "text/plain": [
       "<IPython.core.display.Latex object>"
      ]
     },
     "execution_count": 42,
     "metadata": {},
     "output_type": "execute_result"
    }
   ],
   "source": [
    "# 微分 d\n",
    "Latex(r\"$\\frac{du}{dt} and \\frac{d^2 u}{dx^2}$\")"
   ]
  },
  {
   "cell_type": "code",
   "execution_count": 43,
   "metadata": {},
   "outputs": [
    {
     "data": {
      "text/latex": [
       "\\[\n",
       "\\frac{\\partial u}{\\partial t}\n",
       "= h^2\n",
       "    \\left(\n",
       "    \\frac{\\partial^2 u}{\\partial x^2}\n",
       "    + \\frac{\\partial^2 u}{\\partial y^2}\n",
       "    + \\frac{\\partial^2 u}{\\partial z^2}\n",
       "    \\right)\n",
       "\\]"
      ],
      "text/plain": [
       "<IPython.core.display.Latex object>"
      ]
     },
     "execution_count": 43,
     "metadata": {},
     "output_type": "execute_result"
    }
   ],
   "source": [
    "# 偏微分 \\partial\n",
    "Latex(r\"\"\"\\[\n",
    "\\frac{\\partial u}{\\partial t}\n",
    "= h^2\n",
    "    \\left(\n",
    "    \\frac{\\partial^2 u}{\\partial x^2}\n",
    "    + \\frac{\\partial^2 u}{\\partial y^2}\n",
    "    + \\frac{\\partial^2 u}{\\partial z^2}\n",
    "    \\right)\n",
    "\\]\"\"\")"
   ]
  },
  {
   "cell_type": "code",
   "execution_count": 44,
   "metadata": {},
   "outputs": [
    {
     "data": {
      "text/latex": [
       "\\[\n",
       "    \\frac{dx}{dt} = \\sigma\\cdot(y-x),\n",
       "    \\frac{dy}{dt} = x\\cdot(\\rho-z)-y,\n",
       "    \\frac{dz}{dt} = xy-\\beta z\n",
       "\\]"
      ],
      "text/plain": [
       "<IPython.core.display.Latex object>"
      ]
     },
     "execution_count": 44,
     "metadata": {},
     "output_type": "execute_result"
    }
   ],
   "source": [
    "# 偏微分\n",
    "Latex(r\"\"\"\\[\n",
    "    \\frac{dx}{dt} = \\sigma\\cdot(y-x),\n",
    "    \\frac{dy}{dt} = x\\cdot(\\rho-z)-y,\n",
    "    \\frac{dz}{dt} = xy-\\beta z\n",
    "\\]\"\"\")"
   ]
  },
  {
   "cell_type": "code",
   "execution_count": 45,
   "metadata": {},
   "outputs": [
    {
     "data": {
      "text/latex": [
       "$ \\lim_{x \\to +\\infty}, \\inf_{x > s}$"
      ],
      "text/plain": [
       "<IPython.core.display.Latex object>"
      ]
     },
     "execution_count": 45,
     "metadata": {},
     "output_type": "execute_result"
    }
   ],
   "source": [
    "# 极限 \\lim_\n",
    "Latex(r\"$ \\lim_{x \\to +\\infty}, \\inf_{x > s}$\")"
   ]
  },
  {
   "cell_type": "code",
   "execution_count": 46,
   "metadata": {},
   "outputs": [
    {
     "data": {
      "text/latex": [
       "\\[ \\lim_{x \\to 0} \\frac{3x^2 +7x^3}{x^2 +5x^4} = 3.\\]"
      ],
      "text/plain": [
       "<IPython.core.display.Latex object>"
      ]
     },
     "execution_count": 46,
     "metadata": {},
     "output_type": "execute_result"
    }
   ],
   "source": [
    "# 极限\n",
    "Latex(r\"\\[ \\lim_{x \\to 0} \\frac{3x^2 +7x^3}{x^2 +5x^4} = 3.\\]\")"
   ]
  },
  {
   "cell_type": "code",
   "execution_count": 47,
   "metadata": {},
   "outputs": [
    {
     "data": {
      "text/latex": [
       "\\[ \\sum_{k=1}^n k^2 = \\frac{1}{2} n (n+1).\\]"
      ],
      "text/plain": [
       "<IPython.core.display.Latex object>"
      ]
     },
     "execution_count": 47,
     "metadata": {},
     "output_type": "execute_result"
    }
   ],
   "source": [
    "# 求和 \\sum_\n",
    "Latex(r\"\\[ \\sum_{k=1}^n k^2 = \\frac{1}{2} n (n+1).\\]\")"
   ]
  },
  {
   "cell_type": "code",
   "execution_count": 48,
   "metadata": {},
   "outputs": [
    {
     "data": {
      "text/latex": [
       "\\[\n",
       "\\begin{matrix}\n",
       "\\sum_{k=1}^n k^2 = \\frac{1}{2} n (n+1).\n",
       "\\end{matrix}\n",
       "\\]"
      ],
      "text/plain": [
       "<IPython.core.display.Latex object>"
      ]
     },
     "execution_count": 48,
     "metadata": {},
     "output_type": "execute_result"
    }
   ],
   "source": [
    "# 求和\n",
    "Latex(r\"\"\"\\[\n",
    "\\begin{matrix}\n",
    "\\sum_{k=1}^n k^2 = \\frac{1}{2} n (n+1).\n",
    "\\end{matrix}\n",
    "\\]\"\"\")"
   ]
  },
  {
   "cell_type": "code",
   "execution_count": 49,
   "metadata": {},
   "outputs": [
    {
     "data": {
      "text/latex": [
       "\\[S(p)=\\sum_{i=1}^{M}[y_i-f(x_i,p)]^2\\]"
      ],
      "text/plain": [
       "<IPython.core.display.Latex object>"
      ]
     },
     "execution_count": 49,
     "metadata": {},
     "output_type": "execute_result"
    }
   ],
   "source": [
    "Latex(r\"\\[ S(p)=\\sum_{i=1}^{M}[y_i-f(x_i,p)]^2 \\]\")"
   ]
  },
  {
   "cell_type": "code",
   "execution_count": 50,
   "metadata": {},
   "outputs": [
    {
     "data": {
      "text/latex": [
       "\\[\\prod_{i=1}^N x_i\\]"
      ],
      "text/plain": [
       "<IPython.core.display.Latex object>"
      ]
     },
     "execution_count": 50,
     "metadata": {},
     "output_type": "execute_result"
    }
   ],
   "source": [
    "# 求积 \\prod_\n",
    "Latex(r\"\\[\\prod_{i=1}^N x_i\\]\")"
   ]
  },
  {
   "cell_type": "code",
   "execution_count": 51,
   "metadata": {},
   "outputs": [
    {
     "data": {
      "text/latex": [
       "\\[ \\begin{matrix} \\prod_{i=1}^N x_i \\end{matrix}\\]"
      ],
      "text/plain": [
       "<IPython.core.display.Latex object>"
      ]
     },
     "execution_count": 51,
     "metadata": {},
     "output_type": "execute_result"
    }
   ],
   "source": [
    "# 求积\n",
    "Latex(r\"\\[ \\begin{matrix} \\prod_{i=1}^N x_i \\end{matrix}\\]\")"
   ]
  },
  {
   "cell_type": "code",
   "execution_count": 52,
   "metadata": {},
   "outputs": [
    {
     "data": {
      "text/latex": [
       "\\[ \\int_a^b f(x)\\,dx.\\]"
      ],
      "text/plain": [
       "<IPython.core.display.Latex object>"
      ]
     },
     "execution_count": 52,
     "metadata": {},
     "output_type": "execute_result"
    }
   ],
   "source": [
    "# 积分 \\int_\n",
    "# To obtain the correct appearance one should put extra space before the d, using \\,\n",
    "Latex(r\"\\[ \\int_a^b f(x)\\,dx. \\]\")"
   ]
  },
  {
   "cell_type": "code",
   "execution_count": 53,
   "metadata": {},
   "outputs": [
    {
     "data": {
      "text/latex": [
       "\\[ \\int_0^{+\\infty} x^n e^{-x} \\,dx = n!.\\]"
      ],
      "text/plain": [
       "<IPython.core.display.Latex object>"
      ]
     },
     "execution_count": 53,
     "metadata": {},
     "output_type": "execute_result"
    }
   ],
   "source": [
    "# 无穷积分\n",
    "Latex(r\"\\[ \\int_0^{+\\infty} x^n e^{-x} \\,dx = n!.\\]\")"
   ]
  },
  {
   "cell_type": "code",
   "execution_count": 54,
   "metadata": {},
   "outputs": [
    {
     "data": {
      "text/latex": [
       "\\[ \\int \\cos \\theta \\,d\\theta = \\sin \\theta.\\]"
      ],
      "text/plain": [
       "<IPython.core.display.Latex object>"
      ]
     },
     "execution_count": 54,
     "metadata": {},
     "output_type": "execute_result"
    }
   ],
   "source": [
    "# 不定积分 \\int\n",
    "Latex(r\"\\[ \\int \\cos \\theta \\,d\\theta = \\sin \\theta.\\]\")"
   ]
  },
  {
   "cell_type": "code",
   "execution_count": 55,
   "metadata": {},
   "outputs": [
    {
     "data": {
      "text/latex": [
       "\\[\n",
       "\\int_{x^2 + y^2 \\leq R^2} f(x,y)\\,dx\\,dy\n",
       "= \\int_{\\theta=0}^{2\\pi} \\int_{r=0}^R\n",
       "    f(r\\cos\\theta,r\\sin\\theta) r\\,dr\\,d\\theta.\n",
       "\\]"
      ],
      "text/plain": [
       "<IPython.core.display.Latex object>"
      ]
     },
     "execution_count": 55,
     "metadata": {},
     "output_type": "execute_result"
    }
   ],
   "source": [
    "# 二次积分\n",
    "Latex(r\"\"\"\\[\n",
    "\\int_{x^2 + y^2 \\leq R^2} f(x,y)\\,dx\\,dy\n",
    "= \\int_{\\theta=0}^{2\\pi} \\int_{r=0}^R\n",
    "    f(r\\cos\\theta,r\\sin\\theta) r\\,dr\\,d\\theta.\n",
    "\\]\"\"\")"
   ]
  },
  {
   "cell_type": "code",
   "execution_count": 56,
   "metadata": {},
   "outputs": [
    {
     "data": {
      "text/latex": [
       "\\[ \\int_0^R \\frac{2x\\,dx}{1+x^2} = \\log(1+R^2).\\]"
      ],
      "text/plain": [
       "<IPython.core.display.Latex object>"
      ]
     },
     "execution_count": 56,
     "metadata": {},
     "output_type": "execute_result"
    }
   ],
   "source": [
    "Latex(r\"\\[ \\int_0^R \\frac{2x\\,dx}{1+x^2} = \\log(1+R^2).\\]\")"
   ]
  },
  {
   "cell_type": "code",
   "execution_count": 57,
   "metadata": {},
   "outputs": [
    {
     "data": {
      "text/latex": [
       "\\[ \\int_0^1 \\! \\int_0^1 x^2 y^2\\,dx\\,dy.\\]"
      ],
      "text/plain": [
       "<IPython.core.display.Latex object>"
      ]
     },
     "execution_count": 57,
     "metadata": {},
     "output_type": "execute_result"
    }
   ],
   "source": [
    "# The way to improve the appearance of \n",
    "# of the integral is to use the control sequence \\! \n",
    "# to remove a thin strip of unwanted space\n",
    "Latex(r\"\\[ \\int_0^1 \\! \\int_0^1 x^2 y^2\\,dx\\,dy.\\]\")"
   ]
  },
  {
   "cell_type": "code",
   "execution_count": 58,
   "metadata": {},
   "outputs": [
    {
     "data": {
      "text/latex": [
       "\\[ \\int_0^1 \\int_0^1 x^2 y^2\\,dx\\,dy.\\]"
      ],
      "text/plain": [
       "<IPython.core.display.Latex object>"
      ]
     },
     "execution_count": 58,
     "metadata": {},
     "output_type": "execute_result"
    }
   ],
   "source": [
    "Latex(r\"\\[ \\int_0^1 \\int_0^1 x^2 y^2\\,dx\\,dy.\\]\")"
   ]
  },
  {
   "cell_type": "code",
   "execution_count": 59,
   "metadata": {},
   "outputs": [
    {
     "data": {
      "text/latex": [
       "\\[\n",
       "\\int_{-1}^1 \\! \\int_{-\\sqrt{1-x^2}}^\\sqrt{1-x^2}\n",
       "\\sqrt{1-x^2-y^2}\\,dy\\,dx\n",
       "\\]"
      ],
      "text/plain": [
       "<IPython.core.display.Latex object>"
      ]
     },
     "execution_count": 59,
     "metadata": {},
     "output_type": "execute_result"
    }
   ],
   "source": [
    "Latex(r\"\"\"\\[\n",
    "\\int_{-1}^1 \\! \\int_{-\\sqrt{1-x^2}}^\\sqrt{1-x^2}\n",
    "\\sqrt{1-x^2-y^2}\\,dy\\,dx\n",
    "\\]\"\"\")"
   ]
  },
  {
   "cell_type": "code",
   "execution_count": 60,
   "metadata": {},
   "outputs": [
    {
     "data": {
      "text/latex": [
       "\\[\n",
       "\\int_{x^2 + y^2 \\leq R^2} f(x,y)\\,dx\\,dy\n",
       "= \\int_{\\theta=0}^{2\\pi} \\int_{r=0}^R\n",
       "f(r\\cos\\theta,r\\sin\\theta) r\\,dr\\,d\\theta.\n",
       "\\]"
      ],
      "text/plain": [
       "<IPython.core.display.Latex object>"
      ]
     },
     "execution_count": 60,
     "metadata": {},
     "output_type": "execute_result"
    }
   ],
   "source": [
    "Latex(r\"\"\"\\[\n",
    "\\int_{x^2 + y^2 \\leq R^2} f(x,y)\\,dx\\,dy\n",
    "= \\int_{\\theta=0}^{2\\pi} \\int_{r=0}^R\n",
    "f(r\\cos\\theta,r\\sin\\theta) r\\,dr\\,d\\theta.\n",
    "\\]\"\"\")"
   ]
  },
  {
   "cell_type": "code",
   "execution_count": 61,
   "metadata": {},
   "outputs": [
    {
     "data": {
      "text/latex": [
       "$ \\iint_{D}^{W}\\,dx\\,dy $"
      ],
      "text/plain": [
       "<IPython.core.display.Latex object>"
      ]
     },
     "execution_count": 61,
     "metadata": {},
     "output_type": "execute_result"
    }
   ],
   "source": [
    "# 二重积分\n",
    "Latex(r\"$ \\iint_{D}^{W}\\,dx\\,dy $\")"
   ]
  },
  {
   "cell_type": "code",
   "execution_count": 62,
   "metadata": {},
   "outputs": [
    {
     "data": {
      "text/latex": [
       "$ \\iiint_{E}^{V}\\,dx\\,dy\\,dz $"
      ],
      "text/plain": [
       "<IPython.core.display.Latex object>"
      ]
     },
     "execution_count": 62,
     "metadata": {},
     "output_type": "execute_result"
    }
   ],
   "source": [
    "# 三重积分\n",
    "Latex(r\"$ \\iiint_{E}^{V}\\,dx\\,dy\\,dz $\")"
   ]
  },
  {
   "cell_type": "code",
   "execution_count": 63,
   "metadata": {},
   "outputs": [
    {
     "data": {
      "text/latex": [
       "$ \\iiiint_{F}^{U}\\,dx\\,dy\\,dz\\,dt $"
      ],
      "text/plain": [
       "<IPython.core.display.Latex object>"
      ]
     },
     "execution_count": 63,
     "metadata": {},
     "output_type": "execute_result"
    }
   ],
   "source": [
    "# 四重积分\n",
    "Latex(r\"$ \\iiiint_{F}^{U}\\,dx\\,dy\\,dz\\,dt $\")"
   ]
  },
  {
   "cell_type": "code",
   "execution_count": 64,
   "metadata": {},
   "outputs": [
    {
     "data": {
      "text/latex": [
       "\\[ f(x,y) = (1-x)^2 + 100(y-x^2)^2 \\]"
      ],
      "text/plain": [
       "<IPython.core.display.Latex object>"
      ]
     },
     "execution_count": 64,
     "metadata": {},
     "output_type": "execute_result"
    }
   ],
   "source": [
    "Latex(r\"\\[ f(x,y) = (1-x)^2 + 100(y-x^2)^2 \\]\")"
   ]
  },
  {
   "cell_type": "code",
   "execution_count": 65,
   "metadata": {},
   "outputs": [
    {
     "data": {
      "text/latex": [
       "$ \\oint_{C}x^3\\,dx+4y^2\\,dy $"
      ],
      "text/plain": [
       "<IPython.core.display.Latex object>"
      ]
     },
     "execution_count": 65,
     "metadata": {},
     "output_type": "execute_result"
    }
   ],
   "source": [
    "# 闭合的曲线,曲面积分\n",
    "Latex(r\"$ \\oint_{C}x^3\\,dx+4y^2\\,dy $\")"
   ]
  },
  {
   "cell_type": "code",
   "execution_count": 66,
   "metadata": {},
   "outputs": [
    {
     "data": {
      "text/latex": [
       "$ \\log_{a-1}^{b+c}, \\ln {(a+b)}, \\lg10 a + C $"
      ],
      "text/plain": [
       "<IPython.core.display.Latex object>"
      ]
     },
     "execution_count": 66,
     "metadata": {},
     "output_type": "execute_result"
    }
   ],
   "source": [
    "# 对数\n",
    "Latex(r\"$ \\log_{a-1}^{b+c}, \\ln {(a+b)}, \\lg10 a + C $\")"
   ]
  },
  {
   "cell_type": "code",
   "execution_count": 67,
   "metadata": {},
   "outputs": [
    {
     "data": {
      "text/latex": [
       "\\[ \\Gamma(z) = \\int_{0}^{\\infty}t^{z-1}e^{-t}\\,dt \\]"
      ],
      "text/plain": [
       "<IPython.core.display.Latex object>"
      ]
     },
     "execution_count": 67,
     "metadata": {},
     "output_type": "execute_result"
    }
   ],
   "source": [
    "# Gamma函数\n",
    "Latex(r\"\\[ \\Gamma(z) = \\int_{0}^{\\infty}t^{z-1}e^{-t}\\,dt \\]\")"
   ]
  },
  {
   "cell_type": "code",
   "execution_count": 68,
   "metadata": {},
   "outputs": [
    {
     "data": {
      "text/latex": [
       "\\[ \\sin x, cos 2^x, cos^2x, tan 30^\\circ, cot^2 45^\\circ \\]"
      ],
      "text/plain": [
       "<IPython.core.display.Latex object>"
      ]
     },
     "execution_count": 68,
     "metadata": {},
     "output_type": "execute_result"
    }
   ],
   "source": [
    "# 三角函数\n",
    "Latex(r\"\\[ \\sin x, cos 2^x, cos^2x, tan 30^\\circ, cot^2 45^\\circ \\]\")"
   ]
  },
  {
   "cell_type": "code",
   "execution_count": 69,
   "metadata": {},
   "outputs": [
    {
     "data": {
      "text/latex": [
       "\\[ \\sin\\!\\frac{\\pi}{3}=\\sin60^\\circ=\\frac{\\sqrt{3}}{2} \\]"
      ],
      "text/plain": [
       "<IPython.core.display.Latex object>"
      ]
     },
     "execution_count": 69,
     "metadata": {},
     "output_type": "execute_result"
    }
   ],
   "source": [
    "# 三角函数\n",
    "Latex(r\"\\[ \\sin\\!\\frac{\\pi}{3}=\\sin60^\\circ=\\frac{\\sqrt{3}}{2} \\]\")"
   ]
  },
  {
   "cell_type": "code",
   "execution_count": 70,
   "metadata": {},
   "outputs": [
    {
     "data": {
      "text/latex": [
       "\\[\n",
       "\\begin{cases}\n",
       "    3x + 5y +  z \\\\\n",
       "    7x - 2y + 4z \\\\\n",
       "    -6x + 3y + 2z\n",
       "\\end{cases}\n",
       "\\]"
      ],
      "text/plain": [
       "<IPython.core.display.Latex object>"
      ]
     },
     "execution_count": 70,
     "metadata": {},
     "output_type": "execute_result"
    }
   ],
   "source": [
    "# 方程组\n",
    "Latex(r\"\"\"\\[\n",
    "\\begin{cases}\n",
    "    3x + 5y +  z \\\\\n",
    "    7x - 2y + 4z \\\\\n",
    "    -6x + 3y + 2z\n",
    "\\end{cases}\n",
    "\\]\"\"\")"
   ]
  },
  {
   "cell_type": "code",
   "execution_count": 71,
   "metadata": {},
   "outputs": [
    {
     "data": {
      "text/latex": [
       "\\[\n",
       "\\begin{cases}\n",
       "    3x + 5y + z = 0 \\\\\n",
       "    7x - 2y + 4z = 0 \\\\\n",
       "    -6x + 3y + 2z = 0\n",
       "\\end{cases}\n",
       "\\]"
      ],
      "text/plain": [
       "<IPython.core.display.Latex object>"
      ]
     },
     "execution_count": 71,
     "metadata": {},
     "output_type": "execute_result"
    }
   ],
   "source": [
    "Latex(r\"\"\"\\[\n",
    "\\begin{cases}\n",
    "    3x + 5y + z = 0 \\\\\n",
    "    7x - 2y + 4z = 0 \\\\\n",
    "    -6x + 3y + 2z = 0\n",
    "\\end{cases}\n",
    "\\]\"\"\")"
   ]
  },
  {
   "cell_type": "code",
   "execution_count": 72,
   "metadata": {},
   "outputs": [
    {
     "data": {
      "text/latex": [
       "\\[\n",
       "\\begin{align}\n",
       "    \\frac{\\partial f}{\\partial x} & = -2+2x-400x(y-x^2), \\\\\n",
       "    \\frac{\\partial f}{\\partial y} & = 200y - 200x^2\n",
       "\\end{align}\n",
       "\\]"
      ],
      "text/plain": [
       "<IPython.core.display.Latex object>"
      ]
     },
     "execution_count": 72,
     "metadata": {},
     "output_type": "execute_result"
    }
   ],
   "source": [
    "Latex(r\"\"\"\\[\n",
    "\\begin{align}\n",
    "    \\frac{\\partial f}{\\partial x} & = -2+2x-400x(y-x^2), \\\\\n",
    "    \\frac{\\partial f}{\\partial y} & = 200y - 200x^2\n",
    "\\end{align}\n",
    "\\]\"\"\")"
   ]
  },
  {
   "cell_type": "code",
   "execution_count": 73,
   "metadata": {},
   "outputs": [
    {
     "data": {
      "text/latex": [
       "\\[\n",
       "\\begin{equation}\n",
       "f(x) =\n",
       "    \\begin{cases}\n",
       "    1  &  \\text{如果x为有理数,}\\\\\n",
       "    2  &  \\text{如果x为无理数,}\\\\\n",
       "    0  &  \\text{其他.}\n",
       "    \\end{cases}\n",
       "\\end{equation}\n",
       "\\]"
      ],
      "text/plain": [
       "<IPython.core.display.Latex object>"
      ]
     },
     "execution_count": 73,
     "metadata": {},
     "output_type": "execute_result"
    }
   ],
   "source": [
    "Latex(r\"\"\"\\[\n",
    "\\begin{equation}\n",
    "f(x) =\n",
    "    \\begin{cases}\n",
    "    1  &  \\text{如果x为有理数,}\\\\\n",
    "    2  &  \\text{如果x为无理数,}\\\\\n",
    "    0  &  \\text{其他.}\n",
    "    \\end{cases}\n",
    "\\end{equation}\n",
    "\\]\"\"\")"
   ]
  },
  {
   "cell_type": "code",
   "execution_count": 74,
   "metadata": {},
   "outputs": [
    {
     "data": {
      "text/latex": [
       "\\[ k'(x)=\\lim_{\\Delta x\\to 0}\\frac{k(x)-k(x-\\Delta x)}{\\Delta x} \\]"
      ],
      "text/plain": [
       "<IPython.core.display.Latex object>"
      ]
     },
     "execution_count": 74,
     "metadata": {},
     "output_type": "execute_result"
    }
   ],
   "source": [
    "# 导数与极限\n",
    "Latex(r\"\\[ k'(x)=\\lim_{\\Delta x\\to 0}\\frac{k(x)-k(x-\\Delta x)}{\\Delta x} \\]\")"
   ]
  },
  {
   "cell_type": "code",
   "execution_count": 75,
   "metadata": {},
   "outputs": [
    {
     "data": {
      "text/latex": [
       "\\[\n",
       "\\left|\n",
       "\\begin{array}{ccc}\n",
       "    \\frac{\\partial f_1}{\\partial u_1} & \\frac{\\partial f_1}{\\partial u_2} & \\frac{\\partial f_1}{\\partial u_3}\\\\\n",
       "    \\frac{\\partial f_2}{\\partial u_1} & \\frac{\\partial f_2}{\\partial u_2} & \\frac{\\partial f_3}{\\partial u_3}\\\\\n",
       "    \\frac{\\partial f_3}{\\partial u_1} & \\frac{\\partial f_3}{\\partial u_2} & \\frac{\\partial f_3}{\\partial u_3}\n",
       "\\end{array}\n",
       "\\right|\n",
       "\\]"
      ],
      "text/plain": [
       "<IPython.core.display.Latex object>"
      ]
     },
     "execution_count": 75,
     "metadata": {},
     "output_type": "execute_result"
    }
   ],
   "source": [
    "# 偏导数与矩阵\n",
    "Latex(r\"\"\"\\[\n",
    "\\left|\n",
    "\\begin{array}{ccc}\n",
    "    \\frac{\\partial f_1}{\\partial u_1} & \\frac{\\partial f_1}{\\partial u_2} & \\frac{\\partial f_1}{\\partial u_3}\\\\\n",
    "    \\frac{\\partial f_2}{\\partial u_1} & \\frac{\\partial f_2}{\\partial u_2} & \\frac{\\partial f_3}{\\partial u_3}\\\\\n",
    "    \\frac{\\partial f_3}{\\partial u_1} & \\frac{\\partial f_3}{\\partial u_2} & \\frac{\\partial f_3}{\\partial u_3}\n",
    "\\end{array}\n",
    "\\right|\n",
    "\\]\"\"\")"
   ]
  },
  {
   "cell_type": "code",
   "execution_count": 76,
   "metadata": {},
   "outputs": [
    {
     "data": {
      "text/latex": [
       "$ \\ge \\le = \\ne \\equiv \\sim \\cong $"
      ],
      "text/plain": [
       "<IPython.core.display.Latex object>"
      ]
     },
     "execution_count": 76,
     "metadata": {},
     "output_type": "execute_result"
    }
   ],
   "source": [
    "# 大小关系\n",
    "Latex(r\"$ \\ge \\le = \\ne \\equiv \\sim \\cong $\")"
   ]
  },
  {
   "cell_type": "code",
   "execution_count": 77,
   "metadata": {},
   "outputs": [
    {
     "data": {
      "text/latex": [
       "\\[ \\in \\notin \\]"
      ],
      "text/plain": [
       "<IPython.core.display.Latex object>"
      ]
     },
     "execution_count": 77,
     "metadata": {},
     "output_type": "execute_result"
    }
   ],
   "source": [
    "# 属于,不属于\n",
    "Latex(r\"\\[ \\in \\notin \\]\")"
   ]
  },
  {
   "cell_type": "code",
   "execution_count": 78,
   "metadata": {},
   "outputs": [
    {
     "data": {
      "text/latex": [
       "\\[ a \\cdot b, 1 \\times 2, 355\\div113, \\pm2 \\]"
      ],
      "text/plain": [
       "<IPython.core.display.Latex object>"
      ]
     },
     "execution_count": 78,
     "metadata": {},
     "output_type": "execute_result"
    }
   ],
   "source": [
    "# 点乘,叉乘,乘以\n",
    "Latex(r\"\\[ a \\cdot b, 1 \\times 2, 355\\div113, \\pm2 \\]\")"
   ]
  },
  {
   "cell_type": "code",
   "execution_count": 79,
   "metadata": {},
   "outputs": [
    {
     "data": {
      "text/latex": [
       "\\[ \\triangle \\odot \\angle \\perp \\]"
      ],
      "text/plain": [
       "<IPython.core.display.Latex object>"
      ]
     },
     "execution_count": 79,
     "metadata": {},
     "output_type": "execute_result"
    }
   ],
   "source": [
    "# 三角形,圆,角,垂直\n",
    "Latex(r\"\\[ \\triangle \\odot \\angle \\perp \\]\")"
   ]
  },
  {
   "cell_type": "code",
   "execution_count": 80,
   "metadata": {},
   "outputs": [
    {
     "data": {
      "text/latex": [
       "\\[ \\exists \\forall \\lnot \\lor \\land \\]"
      ],
      "text/plain": [
       "<IPython.core.display.Latex object>"
      ]
     },
     "execution_count": 80,
     "metadata": {},
     "output_type": "execute_result"
    }
   ],
   "source": [
    "# 存在,任意,非,或,且\n",
    "Latex(r\"\\[ \\exists \\forall \\lnot \\lor \\land \\]\")"
   ]
  }
 ],
 "metadata": {
  "kernelspec": {
   "display_name": "Python 3",
   "language": "python",
   "name": "python3"
  },
  "language_info": {
   "codemirror_mode": {
    "name": "ipython",
    "version": 3
   },
   "file_extension": ".py",
   "mimetype": "text/x-python",
   "name": "python",
   "nbconvert_exporter": "python",
   "pygments_lexer": "ipython3",
   "version": "3.9.2"
  }
 },
 "nbformat": 4,
 "nbformat_minor": 2
}
