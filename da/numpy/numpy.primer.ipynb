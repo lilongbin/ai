{
 "cells": [
  {
   "cell_type": "code",
   "execution_count": 1,
   "metadata": {},
   "outputs": [],
   "source": [
    "# numpy提供了两种基本的类ndarray和ufunc\n",
    "# ndarray是存储单一数据类型的多维数组，\n",
    "# ufunc是能够对数组进行快速逐元素处理的通用函数,无需用户编写循环;\n",
    "# numpy可以对所有数据进行快速的矩阵运算而无须编写循环程序;\n",
    "# numpy的算法库时C语言写的,在内部将数据存储在连续的内存上,这与其他的python内建数据结构是不同的.\n",
    "\"# 函数库导入\"\n",
    "import numpy as np"
   ]
  },
  {
   "cell_type": "code",
   "execution_count": 2,
   "metadata": {},
   "outputs": [
    {
     "name": "stdout",
     "output_type": "stream",
     "text": [
      "Wall time: 41 ms\n"
     ]
    }
   ],
   "source": [
    "# numpy可以针对全量数组进行复杂计算而不需要写python循环\n",
    "# numpy的方法比python方法要快1到2个数量级甚至更多,并且使用的内存页更少.\n",
    "import numpy as np\n",
    "my_arr = np.arange(1000000)\n",
    "my_lst = list(range(1000000))\n",
    "%time for _ in range(10): my_arr = my_arr * 2"
   ]
  },
  {
   "cell_type": "code",
   "execution_count": 3,
   "metadata": {},
   "outputs": [
    {
     "name": "stdout",
     "output_type": "stream",
     "text": [
      "Wall time: 1.22 s\n"
     ]
    }
   ],
   "source": [
    "import numpy as np\n",
    "my_lst = list(range(1000000))\n",
    "%time for _ in range(10): my_list2 = [x*2 for x in my_lst]"
   ]
  },
  {
   "cell_type": "code",
   "execution_count": 4,
   "metadata": {},
   "outputs": [
    {
     "data": {
      "text/plain": [
       "array([[ 0.08364663,  0.90426177,  1.02762416],\n",
       "       [ 1.61853703, -0.36201423,  0.44374449]])"
      ]
     },
     "execution_count": 4,
     "metadata": {},
     "output_type": "execute_result"
    }
   ],
   "source": [
    "# numpy的核心特征之一就是N-维数组对象--ndarray\n",
    "# ndarray是python中一个快速灵活的大型数据集容器.\n",
    "# ndarray数组允许使用类似于标量的操作语法在整块数据上进行批量计算\n",
    "\"后文所述数组/numpy数组或ndarr均表示同一个对象:ndarray\"\n",
    "import numpy as np\n",
    "data = np.random.randn(2, 3)\n",
    "data"
   ]
  },
  {
   "cell_type": "code",
   "execution_count": 5,
   "metadata": {},
   "outputs": [
    {
     "data": {
      "text/plain": [
       "array([[ 0.83646627,  9.04261768, 10.27624161],\n",
       "       [16.18537033, -3.62014228,  4.43744486]])"
      ]
     },
     "execution_count": 5,
     "metadata": {},
     "output_type": "execute_result"
    }
   ],
   "source": [
    "# 与标量运算就是逐元素的批量计算\n",
    "# 所有的元素都同时乘以了10\n",
    "data * 10"
   ]
  },
  {
   "cell_type": "code",
   "execution_count": 6,
   "metadata": {},
   "outputs": [
    {
     "data": {
      "text/plain": [
       "array([[ 0.16729325,  1.80852354,  2.05524832],\n",
       "       [ 3.23707407, -0.72402846,  0.88748897]])"
      ]
     },
     "execution_count": 6,
     "metadata": {},
     "output_type": "execute_result"
    }
   ],
   "source": [
    "# 向量化操作即对应元素进行运算\n",
    "data + data"
   ]
  },
  {
   "cell_type": "code",
   "execution_count": 7,
   "metadata": {},
   "outputs": [
    {
     "data": {
      "text/plain": [
       "(2, 3)"
      ]
     },
     "execution_count": 7,
     "metadata": {},
     "output_type": "execute_result"
    }
   ],
   "source": [
    "# 一个ndarray是一个通用的多维同类数据容器,即它包含的每个元素均为相同类型.\n",
    "# 每个数组都有一个shape属性,用来表征数组每一维度的数量;\n",
    "data.shape\n",
    "# shape记录每一维的数量"
   ]
  },
  {
   "cell_type": "code",
   "execution_count": 8,
   "metadata": {},
   "outputs": [
    {
     "data": {
      "text/plain": [
       "2"
      ]
     },
     "execution_count": 8,
     "metadata": {},
     "output_type": "execute_result"
    }
   ],
   "source": [
    "# ndim表示len(shape)\n",
    "data.ndim"
   ]
  },
  {
   "cell_type": "code",
   "execution_count": 9,
   "metadata": {},
   "outputs": [
    {
     "data": {
      "text/plain": [
       "dtype('float64')"
      ]
     },
     "execution_count": 9,
     "metadata": {},
     "output_type": "execute_result"
    }
   ],
   "source": [
    "# 每个数组都有一个dtype属性,用来描述数组的数据类型;\n",
    "# 除非显式地指定,否则np.array会自动推断生成的数组的数据类型.数据类型被存储在一个特殊的元数据dtype中.\n",
    "data.dtype"
   ]
  },
  {
   "cell_type": "code",
   "execution_count": 10,
   "metadata": {},
   "outputs": [
    {
     "name": "stdout",
     "output_type": "stream",
     "text": [
      "a:\n",
      "[1 2 3 4]\n",
      "type(a):<class 'numpy.ndarray'>\n",
      "a.dtype: int32\n",
      "a.shape: (4,)\n",
      "a.ndim: 1\n",
      "\n",
      "b:\n",
      "[5 6 7 8]\n",
      "type(b):<class 'numpy.ndarray'>\n",
      "b.dtype: int32\n",
      "b.shape: (4,)\n",
      "b.ndim: 1\n",
      "\n",
      "c:\n",
      "[[ 1  2  3  4]\n",
      " [ 4  5  6  7]\n",
      " [ 7  8  9 10]]\n",
      "type(c):<class 'numpy.ndarray'>\n",
      "c.dtype: int32\n",
      "c.shape: (3, 4)\n",
      "c.ndim: 2\n",
      "\n"
     ]
    }
   ],
   "source": [
    "# 创建数组\n",
    "# 直接使用array函数,array函数接收任意的序列型对象,生成一个新的包含传递数据的numpy数组.\n",
    "a = np.array([1,2,3,4])\n",
    "b = np.array((5,6,7,8))\n",
    "# 嵌套列表,例如同等长度的列表将会自动转换成多维数组.\n",
    "c = np.array([[1,2,3,4],[4,5,6,7],[7,8,9,10]])\n",
    "for x in \"abc\":\n",
    "    print(\"{}:\\n{}\".format(x, eval(x)))\n",
    "    print(\"type({}):{}\".format(x, type(eval(x))))\n",
    "    print(\"{}.dtype: {}\".format(x, eval(x).dtype))\n",
    "    print(\"{}.shape: {}\".format(x, eval(x).shape))\n",
    "    print(\"{}.ndim: {}\\n\".format(x, eval(x).ndim))"
   ]
  },
  {
   "cell_type": "code",
   "execution_count": 11,
   "metadata": {},
   "outputs": [
    {
     "data": {
      "text/plain": [
       "dtype('float64')"
      ]
     },
     "execution_count": 11,
     "metadata": {},
     "output_type": "execute_result"
    }
   ],
   "source": [
    "# 可以使用astype方法显式地转换数组的数据类型\n",
    "arr = a.astype(np.float64)\n",
    "arr.dtype"
   ]
  },
  {
   "cell_type": "code",
   "execution_count": 12,
   "metadata": {},
   "outputs": [
    {
     "data": {
      "text/plain": [
       "array([[ 0,  1,  2],\n",
       "       [ 3,  4,  5],\n",
       "       [ 6,  7,  8],\n",
       "       [ 9, 10, 11]])"
      ]
     },
     "execution_count": 12,
     "metadata": {},
     "output_type": "execute_result"
    }
   ],
   "source": [
    "# reshape()可以创建一个变型的新数组，原数组的shape保持不变\n",
    "d = np.arange(12).reshape(3,4)\n",
    "d.shape = 4,3 # 只是改变每轴的大小，并没有进行转置\n",
    "d"
   ]
  },
  {
   "cell_type": "code",
   "execution_count": 13,
   "metadata": {},
   "outputs": [
    {
     "name": "stdout",
     "output_type": "stream",
     "text": [
      "b:  [5 6 7 8]\n",
      "b.shape:  (4,)\n",
      "b.shape:  (4,)\n",
      "c.shape:  (1, 4)\n",
      "c:  [[5 6 7 8]]\n"
     ]
    }
   ],
   "source": [
    "print(\"b: \", b)\n",
    "print(\"b.shape: \", b.shape)\n",
    "c = b.reshape(1,4) # 创建一个新尺寸的(视图的)新数组,原数组的shape不变,和原数组共享数据存储区域\n",
    "print(\"b.shape: \", b.shape)\n",
    "print(\"c.shape: \", c.shape)\n",
    "print(\"c: \", c)"
   ]
  },
  {
   "cell_type": "code",
   "execution_count": 14,
   "metadata": {},
   "outputs": [
    {
     "name": "stdout",
     "output_type": "stream",
     "text": [
      "b:  [  5 100   7   8]\n",
      "c:  [[  5 100   7   8]]\n"
     ]
    }
   ],
   "source": [
    "# 原数组和reshape后数组共享数据存储区域,因此修改其中一个元素的值\n",
    "# 会导致另一个数组中也能看到变化\n",
    "b[1] = 100\n",
    "print(\"b: \", b)\n",
    "print(\"c: \", c)"
   ]
  },
  {
   "cell_type": "code",
   "execution_count": 15,
   "metadata": {},
   "outputs": [
    {
     "data": {
      "text/plain": [
       "array([0, 1, 2, 3, 4, 5, 6, 7, 8, 9])"
      ]
     },
     "execution_count": 15,
     "metadata": {},
     "output_type": "execute_result"
    }
   ],
   "source": [
    "# 数组生成函数\n",
    "# array 将输入数据(列表,元组,数组以及其他序列)转换为ndarray,如不显式指明数据类型将自动推断,默认复制所有输入数据;\n",
    "# asarray 将输入转换为ndarray,但如果输入已经是ndarray则不再复制;\n",
    "# arange python内建函数range的数组版,返回一个数组;\n",
    "# linspace 创建等差数列\n",
    "# logspace 创建等比数列\n",
    "# ones 根据给定形状和数据类型生成一个全1数组\n",
    "# ones_like 根据所给数组生成一个形状一样的全1数组;\n",
    "# zeros 根据给定形状和数据类型生成一个全0数组\n",
    "# zeros_like 根据所给数组生成一个形状一样的全0数组;\n",
    "# empty 根据给定形状生成一个没有初始值的空数组\n",
    "# empty_like 根据所给数组生成一个形状一样但没有初始值的空数组;\n",
    "# full 根据给定形状和数据类型生成一个指定数值的数组\n",
    "# full_like 根据所给数组生成一个形状一样但内容是指定数值的数组;\n",
    "# eye, identity 生成一个NxN特征矩阵(对角线位置都是1,其余位置是0)\n",
    "\n",
    "# empty(),ones(),zeros() 可以创建指定型的数组\n",
    "# empty_like(),ones_like(),zeros_like() 函数可以创建与参数数组型一样的数组\n",
    "# frombuffer(),fromstring(),fromfile(),fromfunction()等可以从数组,字节序列,文件,函数等创建数组\n",
    "\"创建数组\"\n",
    "# arange函数可以通过指定开始值终止值和步长来创建一维数组\n",
    "\"# 数组不包括终值\"\n",
    "np.arange(0,10,1)"
   ]
  },
  {
   "cell_type": "code",
   "execution_count": 16,
   "metadata": {},
   "outputs": [
    {
     "data": {
      "text/plain": [
       "array([0.        , 0.11111111, 0.22222222, 0.33333333, 0.44444444,\n",
       "       0.55555556, 0.66666667, 0.77777778, 0.88888889, 1.        ])"
      ]
     },
     "execution_count": 16,
     "metadata": {},
     "output_type": "execute_result"
    }
   ],
   "source": [
    "\"# linspace(start, end, count) 函数创建等差数列\"\n",
    "# 可以通过指定(开始值,终值,元素个数)来创建一维数组\n",
    "# 注意和arange的区别,linspace第3个参数是表示元素个数而不是步长\n",
    "\"# linspace可以通过endpoint参数指定是否包含终值,缺省是包含的\"\n",
    "np.linspace(0, 1, 10)"
   ]
  },
  {
   "cell_type": "code",
   "execution_count": 17,
   "metadata": {},
   "outputs": [
    {
     "data": {
      "text/plain": [
       "array([0. , 0.1, 0.2, 0.3, 0.4, 0.5, 0.6, 0.7, 0.8, 0.9])"
      ]
     },
     "execution_count": 17,
     "metadata": {},
     "output_type": "execute_result"
    }
   ],
   "source": [
    "np.linspace(0,1,10,endpoint=False) #不包括终值"
   ]
  },
  {
   "cell_type": "code",
   "execution_count": 18,
   "metadata": {},
   "outputs": [
    {
     "data": {
      "text/plain": [
       "array([  1.        ,   1.27427499,   1.62377674,   2.06913808,\n",
       "         2.6366509 ,   3.35981829,   4.2813324 ,   5.45559478,\n",
       "         6.95192796,   8.8586679 ,  11.28837892,  14.38449888,\n",
       "        18.32980711,  23.35721469,  29.76351442,  37.92690191,\n",
       "        48.32930239,  61.58482111,  78.47599704, 100.        ])"
      ]
     },
     "execution_count": 18,
     "metadata": {},
     "output_type": "execute_result"
    }
   ],
   "source": [
    "\"# logspace(start, end, count) 函数创建等比数列\"\n",
    "\"起始值和终值代表的是10的指数，如10^0, 10^2\"\n",
    "# 创建一个包含20个数字的等比数列\n",
    "np.logspace(0,2,20)"
   ]
  },
  {
   "cell_type": "code",
   "execution_count": 19,
   "metadata": {},
   "outputs": [
    {
     "data": {
      "text/plain": [
       "array([[         1,          0, 1634890337],\n",
       "       [ 168442489,  538976288,  540950078]])"
      ]
     },
     "execution_count": 19,
     "metadata": {},
     "output_type": "execute_result"
    }
   ],
   "source": [
    "\"# empty(),ones(),zeros()也可以创建指定型的数组\"\n",
    "np.empty((2,3), int) #只分配内存，不进行初始化"
   ]
  },
  {
   "cell_type": "code",
   "execution_count": 20,
   "metadata": {},
   "outputs": [
    {
     "data": {
      "text/plain": [
       "array([0., 0., 0., 0.])"
      ]
     },
     "execution_count": 20,
     "metadata": {},
     "output_type": "execute_result"
    }
   ],
   "source": [
    "\"np.zeros创建数组元素默认是float\"\n",
    "np.zeros(4, float)"
   ]
  },
  {
   "cell_type": "code",
   "execution_count": 21,
   "metadata": {},
   "outputs": [
    {
     "data": {
      "text/plain": [
       "array([[1, 1, 1, 1]])"
      ]
     },
     "execution_count": 21,
     "metadata": {},
     "output_type": "execute_result"
    }
   ],
   "source": [
    "\"# empty_like(),ones_like(),zeros_like() 函数可以创建与参数数组型一样的数组\"\n",
    "np.ones_like(c)"
   ]
  },
  {
   "cell_type": "code",
   "execution_count": 22,
   "metadata": {},
   "outputs": [
    {
     "data": {
      "text/plain": [
       "array([1., 2., 3., 4., 1., 2., 3., 4., 1., 2.])"
      ]
     },
     "execution_count": 22,
     "metadata": {},
     "output_type": "execute_result"
    }
   ],
   "source": [
    "# frombuffer(),fromstring(),fromfile(),fromfunction()等可以从数组,字节序列,文件,函数等创建数组\n",
    "def func(i):\n",
    "    return i%4 + 1\n",
    "# np.fromfunction(函数名, (参数列表))\n",
    "np.fromfunction(func, (10,))"
   ]
  },
  {
   "cell_type": "code",
   "execution_count": 23,
   "metadata": {},
   "outputs": [
    {
     "name": "stdout",
     "output_type": "stream",
     "text": [
      "[[ 1.  2.  3.  4.  5.  6.  7.  8.  9.]\n",
      " [ 2.  4.  6.  8. 10. 12. 14. 16. 18.]\n",
      " [ 3.  6.  9. 12. 15. 18. 21. 24. 27.]\n",
      " [ 4.  8. 12. 16. 20. 24. 28. 32. 36.]\n",
      " [ 5. 10. 15. 20. 25. 30. 35. 40. 45.]\n",
      " [ 6. 12. 18. 24. 30. 36. 42. 48. 54.]\n",
      " [ 7. 14. 21. 28. 35. 42. 49. 56. 63.]\n",
      " [ 8. 16. 24. 32. 40. 48. 56. 64. 72.]\n",
      " [ 9. 18. 27. 36. 45. 54. 63. 72. 81.]]\n"
     ]
    }
   ],
   "source": [
    "# 9*9乘法表\n",
    "def func2(i, j):\n",
    "    return (i+1) * (j+1)\n",
    "a = np.fromfunction(func2, (9,9))\n",
    "print(a)"
   ]
  },
  {
   "cell_type": "code",
   "execution_count": 24,
   "metadata": {},
   "outputs": [
    {
     "data": {
      "text/plain": [
       "array([0, 1, 2, 3, 4, 5, 6, 7, 8, 9])"
      ]
     },
     "execution_count": 24,
     "metadata": {},
     "output_type": "execute_result"
    }
   ],
   "source": [
    "a = np.arange(10)\n",
    "a"
   ]
  },
  {
   "cell_type": "code",
   "execution_count": 25,
   "metadata": {},
   "outputs": [
    {
     "data": {
      "text/plain": [
       "5"
      ]
     },
     "execution_count": 25,
     "metadata": {},
     "output_type": "execute_result"
    }
   ],
   "source": [
    "\"数组元素的存取方法\"\n",
    "# 和Python的标准方法相同\n",
    "# 支持基础索引和切片\n",
    "a[5]"
   ]
  },
  {
   "cell_type": "code",
   "execution_count": 26,
   "metadata": {},
   "outputs": [
    {
     "data": {
      "text/plain": [
       "array([  0,   1, 100,   3,   4,   5,   6,   7,   8,   9])"
      ]
     },
     "execution_count": 26,
     "metadata": {},
     "output_type": "execute_result"
    }
   ],
   "source": [
    "\"直接使用=赋值的数组(实际是一份引用),和原数组共享数据\"\n",
    "a = np.arange(10)\n",
    "b = a\n",
    "b[2] = 100\n",
    "a"
   ]
  },
  {
   "cell_type": "code",
   "execution_count": 27,
   "metadata": {},
   "outputs": [
    {
     "data": {
      "text/plain": [
       "array([3, 4])"
      ]
     },
     "execution_count": 27,
     "metadata": {},
     "output_type": "execute_result"
    }
   ],
   "source": [
    "# python 内建列表的切片会获取到一个全新的列表;\n",
    "# numpy 的数组切片得到的是原数组的视图.如果要得到一份切片的拷贝而不是视图需要显式的复制即调用copy()方法;\n",
    "\"\"\"通过下标范围获取的数组是原始数组的一个视图,和原始数组共享同一块存储空间\"\"\"\n",
    "a = np.arange(10)\n",
    "a[3:5]"
   ]
  },
  {
   "cell_type": "code",
   "execution_count": 28,
   "metadata": {},
   "outputs": [
    {
     "data": {
      "text/plain": [
       "array([0, 1, 2, 3, 4])"
      ]
     },
     "execution_count": 28,
     "metadata": {},
     "output_type": "execute_result"
    }
   ],
   "source": [
    "a[:5]"
   ]
  },
  {
   "cell_type": "code",
   "execution_count": 29,
   "metadata": {},
   "outputs": [
    {
     "data": {
      "text/plain": [
       "array([0, 1, 2, 3, 4, 5, 6, 7, 8])"
      ]
     },
     "execution_count": 29,
     "metadata": {},
     "output_type": "execute_result"
    }
   ],
   "source": [
    "a[:-1]"
   ]
  },
  {
   "cell_type": "code",
   "execution_count": 30,
   "metadata": {},
   "outputs": [
    {
     "data": {
      "text/plain": [
       "array([  0,   1, 100, 101,   4,   5,   6,   7,   8,   9])"
      ]
     },
     "execution_count": 30,
     "metadata": {},
     "output_type": "execute_result"
    }
   ],
   "source": [
    "\"通过下标范围获取的数组是原始数组的一个视图,和原始数组共享同一块存储空间\"\n",
    "a[2:4] = 100, 101\n",
    "a"
   ]
  },
  {
   "cell_type": "code",
   "execution_count": 31,
   "metadata": {},
   "outputs": [
    {
     "data": {
      "text/plain": [
       "array([  1, 101,   5,   7])"
      ]
     },
     "execution_count": 31,
     "metadata": {},
     "output_type": "execute_result"
    }
   ],
   "source": [
    "# arr[start:end:step]\n",
    "a[1:-1:2]"
   ]
  },
  {
   "cell_type": "code",
   "execution_count": 32,
   "metadata": {},
   "outputs": [
    {
     "data": {
      "text/plain": [
       "array([  9,   8,   7,   6,   5,   4, 101, 100,   1,   0])"
      ]
     },
     "execution_count": 32,
     "metadata": {},
     "output_type": "execute_result"
    }
   ],
   "source": [
    "a[::-1]"
   ]
  },
  {
   "cell_type": "code",
   "execution_count": 33,
   "metadata": {},
   "outputs": [
    {
     "data": {
      "text/plain": [
       "[0, 1, 2, 3, 4, 5, 6, 7, 8, 9]"
      ]
     },
     "execution_count": 33,
     "metadata": {},
     "output_type": "execute_result"
    }
   ],
   "source": [
    "# python list 通过下标范围获取到的数组不与原数组共享数据空间;\n",
    "# np.ndarray 通过下标范围获取的数组与原始数组共享数据空间;\n",
    "a = list(range(10))\n",
    "b = a[:]\n",
    "b[2] = 100\n",
    "a"
   ]
  },
  {
   "cell_type": "code",
   "execution_count": 34,
   "metadata": {},
   "outputs": [
    {
     "data": {
      "text/plain": [
       "array([  0,   1, 100,   3,   4,   5,   6,   7,   8,   9])"
      ]
     },
     "execution_count": 34,
     "metadata": {},
     "output_type": "execute_result"
    }
   ],
   "source": [
    "# np.ndarray 通过下标范围获取的数组与原始数组共享数据空间;\n",
    "a = np.arange(10)\n",
    "b = a[:]\n",
    "b[2] = 100\n",
    "a"
   ]
  },
  {
   "cell_type": "code",
   "execution_count": 35,
   "metadata": {},
   "outputs": [
    {
     "data": {
      "text/plain": [
       "array([10,  9,  8,  7,  6,  5,  4,  3,  2])"
      ]
     },
     "execution_count": 35,
     "metadata": {},
     "output_type": "execute_result"
    }
   ],
   "source": [
    "# 神奇索引\n",
    "# 神奇索引是numpy中的术语,用于描述使用整数数组进行数据索引;\n",
    "# 神奇索引即使用整数序列作为下标获得新数组,不和原始数组共享数据空间;\n",
    "# 神奇索引与切片不同,神奇索引总是将数据复制到一个新的数组中;\n",
    "\"numpy中参数-1常常表示由系统自动计算得到的值\"\n",
    "x = np.arange(10, 1, -1)\n",
    "x"
   ]
  },
  {
   "cell_type": "code",
   "execution_count": 36,
   "metadata": {},
   "outputs": [
    {
     "data": {
      "text/plain": [
       "array([7, 7, 9, 2])"
      ]
     },
     "execution_count": 36,
     "metadata": {},
     "output_type": "execute_result"
    }
   ],
   "source": [
    "# 神奇索引得到一个新的数组,不和原数组共享数据空间;\n",
    "b = x[[3,3,1,8]]\n",
    "b"
   ]
  },
  {
   "cell_type": "code",
   "execution_count": 37,
   "metadata": {},
   "outputs": [
    {
     "data": {
      "text/plain": [
       "array([  7,   7, 100,   2])"
      ]
     },
     "execution_count": 37,
     "metadata": {},
     "output_type": "execute_result"
    }
   ],
   "source": [
    "b[2] = 100\n",
    "b"
   ]
  },
  {
   "cell_type": "code",
   "execution_count": 38,
   "metadata": {},
   "outputs": [
    {
     "data": {
      "text/plain": [
       "array([10,  9,  8,  7,  6,  5,  4,  3,  2])"
      ]
     },
     "execution_count": 38,
     "metadata": {},
     "output_type": "execute_result"
    }
   ],
   "source": [
    "x"
   ]
  },
  {
   "cell_type": "code",
   "execution_count": 39,
   "metadata": {},
   "outputs": [
    {
     "data": {
      "text/plain": [
       "array([7, 7, 9, 2])"
      ]
     },
     "execution_count": 39,
     "metadata": {},
     "output_type": "execute_result"
    }
   ],
   "source": [
    "b = x[np.array([3,3,1,8])]\n",
    "b"
   ]
  },
  {
   "cell_type": "code",
   "execution_count": 40,
   "metadata": {},
   "outputs": [
    {
     "data": {
      "text/plain": [
       "array([  7,   7, 100,   2])"
      ]
     },
     "execution_count": 40,
     "metadata": {},
     "output_type": "execute_result"
    }
   ],
   "source": [
    "b[2] = 100\n",
    "b"
   ]
  },
  {
   "cell_type": "code",
   "execution_count": 41,
   "metadata": {},
   "outputs": [
    {
     "data": {
      "text/plain": [
       "array([10,  9,  8,  7,  6,  5,  4,  3,  2])"
      ]
     },
     "execution_count": 41,
     "metadata": {},
     "output_type": "execute_result"
    }
   ],
   "source": [
    "x"
   ]
  },
  {
   "cell_type": "code",
   "execution_count": 42,
   "metadata": {},
   "outputs": [
    {
     "data": {
      "text/plain": [
       "array([[ 0,  1,  2,  3],\n",
       "       [ 4,  5,  6,  7],\n",
       "       [ 8,  9, 10, 11],\n",
       "       [12, 13, 14, 15],\n",
       "       [16, 17, 18, 19],\n",
       "       [20, 21, 22, 23],\n",
       "       [24, 25, 26, 27],\n",
       "       [28, 29, 30, 31]])"
      ]
     },
     "execution_count": 42,
     "metadata": {},
     "output_type": "execute_result"
    }
   ],
   "source": [
    "# 注意传递多个索引数组时,会对应每个索引元组选出对应元素组成一个一维数组.\n",
    "arr = np.arange(32).reshape((8,4))\n",
    "arr"
   ]
  },
  {
   "cell_type": "code",
   "execution_count": 43,
   "metadata": {},
   "outputs": [
    {
     "data": {
      "text/plain": [
       "array([ 4, 23, 29, 10])"
      ]
     },
     "execution_count": 43,
     "metadata": {},
     "output_type": "execute_result"
    }
   ],
   "source": [
    "arr[[1,5,7,2], [0,3,1,2]]\n",
    "# 选择[1,0], [5,3], [7,1], [2,2]"
   ]
  },
  {
   "cell_type": "code",
   "execution_count": 44,
   "metadata": {},
   "outputs": [
    {
     "data": {
      "text/plain": [
       "array([[ 4,  7,  5,  6],\n",
       "       [20, 23, 21, 22],\n",
       "       [28, 31, 29, 30],\n",
       "       [ 8, 11,  9, 10]])"
      ]
     },
     "execution_count": 44,
     "metadata": {},
     "output_type": "execute_result"
    }
   ],
   "source": [
    "# 如果要选择矩阵中行列式的子集所形成的矩形区域\n",
    "arr[:, [0,3,1,2]][[1,5,7,2]]"
   ]
  },
  {
   "cell_type": "code",
   "execution_count": 45,
   "metadata": {},
   "outputs": [
    {
     "data": {
      "text/plain": [
       "array([[ 4,  7,  5,  6],\n",
       "       [20, 23, 21, 22],\n",
       "       [28, 31, 29, 30],\n",
       "       [ 8, 11,  9, 10]])"
      ]
     },
     "execution_count": 45,
     "metadata": {},
     "output_type": "execute_result"
    }
   ],
   "source": [
    "arr[[1,5,7,2]][:, [0,3,1,2]]"
   ]
  },
  {
   "cell_type": "code",
   "execution_count": 46,
   "metadata": {},
   "outputs": [
    {
     "data": {
      "text/plain": [
       "array([ 0, -3,  2, -1,  4, -2,  6,  7,  8,  9])"
      ]
     },
     "execution_count": 46,
     "metadata": {},
     "output_type": "execute_result"
    }
   ],
   "source": [
    "\"直接使用=赋值的数组(实际是一份引用),和原数组共享数据\"\n",
    "a = np.arange(10)\n",
    "b = a #直接赋值,b和a有关联关系\n",
    "b[[3,5,1]] = -1,-2,-3\n",
    "a"
   ]
  },
  {
   "cell_type": "code",
   "execution_count": 47,
   "metadata": {},
   "outputs": [
    {
     "data": {
      "text/plain": [
       "array([ 0, -3,  2, -1,  4, -2,  6,  7,  8,  9])"
      ]
     },
     "execution_count": 47,
     "metadata": {},
     "output_type": "execute_result"
    }
   ],
   "source": [
    "a = np.arange(10)\n",
    "b = a[:] #数组切片,b和a有关联关系\n",
    "b[[3,5,1]] = -1,-2,-3\n",
    "a"
   ]
  },
  {
   "cell_type": "code",
   "execution_count": 48,
   "metadata": {},
   "outputs": [
    {
     "data": {
      "text/plain": [
       "array([3, 5, 1])"
      ]
     },
     "execution_count": 48,
     "metadata": {},
     "output_type": "execute_result"
    }
   ],
   "source": [
    "a = np.arange(10)\n",
    "b = a[[3,5,1]] #神奇索引,b是一个全新数组\n",
    "b"
   ]
  },
  {
   "cell_type": "code",
   "execution_count": 49,
   "metadata": {},
   "outputs": [
    {
     "data": {
      "text/plain": [
       "array([-1, -2, -3])"
      ]
     },
     "execution_count": 49,
     "metadata": {},
     "output_type": "execute_result"
    }
   ],
   "source": [
    "b[[0,1,2]] = -1,-2,-3\n",
    "b"
   ]
  },
  {
   "cell_type": "code",
   "execution_count": 50,
   "metadata": {},
   "outputs": [
    {
     "data": {
      "text/plain": [
       "array([0, 1, 2, 3, 4, 5, 6, 7, 8, 9])"
      ]
     },
     "execution_count": 50,
     "metadata": {},
     "output_type": "execute_result"
    }
   ],
   "source": [
    "a"
   ]
  },
  {
   "cell_type": "code",
   "execution_count": 51,
   "metadata": {},
   "outputs": [
    {
     "data": {
      "text/plain": [
       "array([5, 3])"
      ]
     },
     "execution_count": 51,
     "metadata": {},
     "output_type": "execute_result"
    }
   ],
   "source": [
    "\"# 布尔数组\"\n",
    "# 当使用布尔数组作为下标存取数组x中的元素时,将收集x中所有在布尔数组中对应下标为True的元素;\n",
    "# 使用布尔数组选择数据时总是生成数据的拷贝,即使返回的数组没有任何变化,即不和原数组共享数据空间\n",
    "# 布尔值数组的长度必须和数组轴索引长度一致,即使不正确也不会报错(numpy 1.19.5上验证报错);\n",
    "x = np.arange(5, 0, -1)\n",
    "b = x[np.array([True, False, True, False, False])]\n",
    "b"
   ]
  },
  {
   "cell_type": "code",
   "execution_count": 52,
   "metadata": {},
   "outputs": [
    {
     "data": {
      "text/plain": [
       "(1, 2)"
      ]
     },
     "execution_count": 52,
     "metadata": {},
     "output_type": "execute_result"
    }
   ],
   "source": [
    "b = 1,2\n",
    "b"
   ]
  },
  {
   "cell_type": "code",
   "execution_count": 53,
   "metadata": {},
   "outputs": [
    {
     "data": {
      "text/plain": [
       "array([5, 4, 3, 2, 1])"
      ]
     },
     "execution_count": 53,
     "metadata": {},
     "output_type": "execute_result"
    }
   ],
   "source": [
    "# 使用布尔数组选择数据时总是生成数据的拷贝,修改时不影响原数组\n",
    "x"
   ]
  },
  {
   "cell_type": "code",
   "execution_count": 54,
   "metadata": {},
   "outputs": [
    {
     "data": {
      "text/plain": [
       "array([5, 3])"
      ]
     },
     "execution_count": 54,
     "metadata": {},
     "output_type": "execute_result"
    }
   ],
   "source": [
    "# 不能使用布尔列表否则共享数据空间,这个结论应该是过时的,布尔列表也相当于是神奇索引了会得到一个拷贝\n",
    "x = np.arange(5, 0, -1)\n",
    "b = x[[True, False, True, False, False]]\n",
    "b"
   ]
  },
  {
   "cell_type": "code",
   "execution_count": 55,
   "metadata": {},
   "outputs": [
    {
     "data": {
      "text/plain": [
       "array([5, 4, 3, 2, 1])"
      ]
     },
     "execution_count": 55,
     "metadata": {},
     "output_type": "execute_result"
    }
   ],
   "source": [
    "b = 100,200\n",
    "x"
   ]
  },
  {
   "cell_type": "code",
   "execution_count": 56,
   "metadata": {},
   "outputs": [
    {
     "data": {
      "text/plain": [
       "array([5, 3, 2])"
      ]
     },
     "execution_count": 56,
     "metadata": {},
     "output_type": "execute_result"
    }
   ],
   "source": [
    "# 布尔数组的长度要一致,否则会报错（numpy 1.19.5上验证报错)\n",
    "x[np.array([True, False, True, True, False])]"
   ]
  },
  {
   "cell_type": "code",
   "execution_count": 57,
   "metadata": {},
   "outputs": [
    {
     "data": {
      "text/plain": [
       "array([ 1.77746627,  0.45622652,  1.17624707,  0.87407636,  0.33004925,\n",
       "       -0.31187548, -0.81364735, -0.2310971 , -0.8435563 , -0.05578942])"
      ]
     },
     "execution_count": 57,
     "metadata": {},
     "output_type": "execute_result"
    }
   ],
   "source": [
    "\"# 布尔数组一般是使用布尔运算的ufunc函数产生的\"\n",
    "x = np.random.randn(10)\n",
    "x"
   ]
  },
  {
   "cell_type": "code",
   "execution_count": 58,
   "metadata": {},
   "outputs": [
    {
     "data": {
      "text/plain": [
       "array([ True, False,  True,  True, False, False, False, False, False,\n",
       "       False])"
      ]
     },
     "execution_count": 58,
     "metadata": {},
     "output_type": "execute_result"
    }
   ],
   "source": [
    "# 数组的比较操作(>,<,>=,<=, ==, !=, ~)也可以是向量化的,会产生一个布尔数组;\n",
    "x > 0.5\n",
    "# 得到一个布尔数组"
   ]
  },
  {
   "cell_type": "code",
   "execution_count": 59,
   "metadata": {},
   "outputs": [
    {
     "data": {
      "text/plain": [
       "array([1.77746627, 1.17624707, 0.87407636])"
      ]
     },
     "execution_count": 59,
     "metadata": {},
     "output_type": "execute_result"
    }
   ],
   "source": [
    "x[x > 0.5]"
   ]
  },
  {
   "cell_type": "code",
   "execution_count": 60,
   "metadata": {},
   "outputs": [
    {
     "data": {
      "text/plain": [
       "array([1.77746627, 0.45622652, 1.17624707, 0.87407636, 0.33004925,\n",
       "       0.        , 0.        , 0.        , 0.        , 0.        ])"
      ]
     },
     "execution_count": 60,
     "metadata": {},
     "output_type": "execute_result"
    }
   ],
   "source": [
    "# 设置布尔数组的值也是可行的\n",
    "x[x < 0.3] = 0\n",
    "x"
   ]
  },
  {
   "cell_type": "code",
   "execution_count": 61,
   "metadata": {},
   "outputs": [
    {
     "data": {
      "text/plain": [
       "array([False,  True, False, False,  True, False, False, False, False,\n",
       "       False])"
      ]
     },
     "execution_count": 61,
     "metadata": {},
     "output_type": "execute_result"
    }
   ],
   "source": [
    "# 当组合多个布尔条件时,python的关键字and和or对布尔值数组并没有用,需要使用&和|来代替,注意加上小括号;\n",
    "(x > 0.3) & (x <=0.8)"
   ]
  },
  {
   "cell_type": "code",
   "execution_count": 62,
   "metadata": {},
   "outputs": [
    {
     "data": {
      "text/plain": [
       "array([0.45622652, 0.33004925])"
      ]
     },
     "execution_count": 62,
     "metadata": {},
     "output_type": "execute_result"
    }
   ],
   "source": [
    "x[(x > 0.3) & (x <=0.8)]"
   ]
  },
  {
   "cell_type": "code",
   "execution_count": 63,
   "metadata": {},
   "outputs": [
    {
     "data": {
      "text/plain": [
       "array([ 0.66135405,  0.23676947, -0.53259187, -0.82280711,  0.29466961,\n",
       "       -0.52961631, -1.49173792,  0.77640728, -0.42414468,  0.24010871])"
      ]
     },
     "execution_count": 63,
     "metadata": {},
     "output_type": "execute_result"
    }
   ],
   "source": [
    "# 布尔值会被强制为1和0,因此sum通常可以用于计算布尔值数组中的True的个数\n",
    "arr = np.random.randn(10)\n",
    "arr"
   ]
  },
  {
   "cell_type": "code",
   "execution_count": 64,
   "metadata": {},
   "outputs": [
    {
     "data": {
      "text/plain": [
       "array([ True,  True, False, False,  True, False, False,  True, False,\n",
       "        True])"
      ]
     },
     "execution_count": 64,
     "metadata": {},
     "output_type": "execute_result"
    }
   ],
   "source": [
    "bools = arr > 0\n",
    "bools"
   ]
  },
  {
   "cell_type": "code",
   "execution_count": 65,
   "metadata": {},
   "outputs": [
    {
     "data": {
      "text/plain": [
       "5"
      ]
     },
     "execution_count": 65,
     "metadata": {},
     "output_type": "execute_result"
    }
   ],
   "source": [
    "bools.sum()"
   ]
  },
  {
   "cell_type": "code",
   "execution_count": 66,
   "metadata": {},
   "outputs": [
    {
     "data": {
      "text/plain": [
       "True"
      ]
     },
     "execution_count": 66,
     "metadata": {},
     "output_type": "execute_result"
    }
   ],
   "source": [
    "# 对于布尔值数组还有any和all方法,any用于检查数组中是否至少有一个True,all用于检查是否每个值都是True;\n",
    "bools.any()"
   ]
  },
  {
   "cell_type": "code",
   "execution_count": 67,
   "metadata": {},
   "outputs": [
    {
     "data": {
      "text/plain": [
       "False"
      ]
     },
     "execution_count": 67,
     "metadata": {},
     "output_type": "execute_result"
    }
   ],
   "source": [
    "bools.all()"
   ]
  },
  {
   "cell_type": "code",
   "execution_count": 68,
   "metadata": {},
   "outputs": [
    {
     "data": {
      "text/plain": [
       "array([[0, 1, 2, 3, 4],\n",
       "       [1, 2, 3, 4, 5],\n",
       "       [2, 3, 4, 5, 6],\n",
       "       [3, 4, 5, 6, 7],\n",
       "       [4, 5, 6, 7, 8]])"
      ]
     },
     "execution_count": 68,
     "metadata": {},
     "output_type": "execute_result"
    }
   ],
   "source": [
    "# 多维数组\n",
    "\"\"\"broadcasting广播通常作为一个操作符,只有当数组的形状相同或者可兼容的(compatible),\n",
    "数组间逐个元素(element-wise)的操作才是有效的。\n",
    "\"\"\"\n",
    "\"\"\"为了定义两个形状是否是可兼容的，Numpy从最后开始往前逐个比较它们的维度（dimensions）大小。\n",
    "比较过程中，如果两者的对应维度相同，或者其中之一（或者全是）等于1，比较继续进行直到最前面的维度。\n",
    "当其中之一的形状的维度超出范围（例如，a1 的shape=（2,3,4）\n",
    "而a2的shape=（3,4），当a1的2超出a2范围），此时Numpy将会使用1\n",
    "进行比较（如将a2.shape替换为(1,3,4)）直到另一个也超出dim范围。\n",
    "一旦Numpy确定两者的形状是可兼容的，\n",
    "最终结果的形状就成了每个维度上取两者之间最大的形状尺寸。\n",
    "\"\"\"\n",
    "# 最后再举个例子\n",
    "a = np.arange(5).reshape(5,1)\n",
    "# a.shape == (5, 1)\n",
    "b = np.arange(5)\n",
    "# b.shape == (5,)\n",
    "c = a + b\n",
    "# b.shape 会被先扩展为(1, 5)\n",
    "# 然后最终的shape将取二者中的最大值\n",
    "c.shape == (5, 5)\n",
    "c"
   ]
  },
  {
   "cell_type": "code",
   "execution_count": 69,
   "metadata": {},
   "outputs": [
    {
     "data": {
      "text/plain": [
       "array([[ 0,  1,  2,  3,  4],\n",
       "       [ 5,  6,  7,  8,  9],\n",
       "       [10, 11, 12, 13, 14],\n",
       "       [15, 16, 17, 18, 19]])"
      ]
     },
     "execution_count": 69,
     "metadata": {},
     "output_type": "execute_result"
    }
   ],
   "source": [
    "a = np.arange(0, 20).reshape(4,5)\n",
    "a"
   ]
  },
  {
   "cell_type": "code",
   "execution_count": 70,
   "metadata": {},
   "outputs": [
    {
     "data": {
      "text/plain": [
       "array([10, 11, 12, 13, 14])"
      ]
     },
     "execution_count": 70,
     "metadata": {},
     "output_type": "execute_result"
    }
   ],
   "source": [
    "# 二维数组中每个索引值对应的元素不再是一个值,而是一个一维数组;\n",
    "a[2]"
   ]
  },
  {
   "cell_type": "code",
   "execution_count": 71,
   "metadata": {},
   "outputs": [
    {
     "data": {
      "text/plain": [
       "10"
      ]
     },
     "execution_count": 71,
     "metadata": {},
     "output_type": "execute_result"
    }
   ],
   "source": [
    "# 单个元素可以通过递归的方式获得\n",
    "a[2][0]"
   ]
  },
  {
   "cell_type": "code",
   "execution_count": 72,
   "metadata": {},
   "outputs": [
    {
     "data": {
      "text/plain": [
       "10"
      ]
     },
     "execution_count": 72,
     "metadata": {},
     "output_type": "execute_result"
    }
   ],
   "source": [
    "# 可以通过传递一个索引的逗号分隔列表来选择单个元素\n",
    "a[2, 0]\n",
    "# 可以将0轴看作行,将1轴看作列"
   ]
  },
  {
   "cell_type": "code",
   "execution_count": 73,
   "metadata": {},
   "outputs": [
    {
     "data": {
      "text/plain": [
       "array([3, 4])"
      ]
     },
     "execution_count": 73,
     "metadata": {},
     "output_type": "execute_result"
    }
   ],
   "source": [
    "# 对二维数组可以进行多组切片,与多组索引类似\n",
    "a[0, 3:5]"
   ]
  },
  {
   "cell_type": "code",
   "execution_count": 74,
   "metadata": {},
   "outputs": [
    {
     "data": {
      "text/plain": [
       "array([], shape=(0, 1), dtype=int32)"
      ]
     },
     "execution_count": 74,
     "metadata": {},
     "output_type": "execute_result"
    }
   ],
   "source": [
    "a[4:, 4:]"
   ]
  },
  {
   "cell_type": "code",
   "execution_count": 75,
   "metadata": {},
   "outputs": [
    {
     "data": {
      "text/plain": [
       "array([ 2,  7, 12, 17])"
      ]
     },
     "execution_count": 75,
     "metadata": {},
     "output_type": "execute_result"
    }
   ],
   "source": [
    "# 单独一个冒号表示选择整个轴上的数组\n",
    "a[:, 2]"
   ]
  },
  {
   "cell_type": "code",
   "execution_count": 76,
   "metadata": {},
   "outputs": [
    {
     "data": {
      "text/plain": [
       "array([[10, 12, 14]])"
      ]
     },
     "execution_count": 76,
     "metadata": {},
     "output_type": "execute_result"
    }
   ],
   "source": [
    "a[2::2, ::2]"
   ]
  },
  {
   "cell_type": "code",
   "execution_count": 77,
   "metadata": {},
   "outputs": [
    {
     "data": {
      "text/plain": [
       "array([[ 0],\n",
       "       [10],\n",
       "       [20],\n",
       "       [30],\n",
       "       [40],\n",
       "       [50]])"
      ]
     },
     "execution_count": 77,
     "metadata": {},
     "output_type": "execute_result"
    }
   ],
   "source": [
    "a1 = np.arange(0, 60, 10).reshape(-1, 1)\n",
    "a1"
   ]
  },
  {
   "cell_type": "code",
   "execution_count": 78,
   "metadata": {},
   "outputs": [
    {
     "data": {
      "text/plain": [
       "array([0, 1, 2, 3, 4, 5])"
      ]
     },
     "execution_count": 78,
     "metadata": {},
     "output_type": "execute_result"
    }
   ],
   "source": [
    "a2 = np.arange(0,6)\n",
    "a2"
   ]
  },
  {
   "cell_type": "code",
   "execution_count": 79,
   "metadata": {},
   "outputs": [
    {
     "data": {
      "text/plain": [
       "array([[ 0,  1,  2,  3,  4,  5],\n",
       "       [10, 11, 12, 13, 14, 15],\n",
       "       [20, 21, 22, 23, 24, 25],\n",
       "       [30, 31, 32, 33, 34, 35],\n",
       "       [40, 41, 42, 43, 44, 45],\n",
       "       [50, 51, 52, 53, 54, 55]])"
      ]
     },
     "execution_count": 79,
     "metadata": {},
     "output_type": "execute_result"
    }
   ],
   "source": [
    "# 广播特性\n",
    "a = a1 + a2\n",
    "a"
   ]
  },
  {
   "cell_type": "code",
   "execution_count": 80,
   "metadata": {},
   "outputs": [
    {
     "data": {
      "text/plain": [
       "array([ 1, 12, 23, 34, 45])"
      ]
     },
     "execution_count": 80,
     "metadata": {},
     "output_type": "execute_result"
    }
   ],
   "source": [
    "# 神奇索引\n",
    "a[(0,1,2,3,4),(1,2,3,4,5)]"
   ]
  },
  {
   "cell_type": "code",
   "execution_count": 81,
   "metadata": {},
   "outputs": [
    {
     "data": {
      "text/plain": [
       "array([[30, 32, 35],\n",
       "       [40, 42, 45],\n",
       "       [50, 52, 55]])"
      ]
     },
     "execution_count": 81,
     "metadata": {},
     "output_type": "execute_result"
    }
   ],
   "source": [
    "a[3:, [0,2,5]]"
   ]
  },
  {
   "cell_type": "code",
   "execution_count": 82,
   "metadata": {},
   "outputs": [
    {
     "data": {
      "text/plain": [
       "array([ 2, 22, 52])"
      ]
     },
     "execution_count": 82,
     "metadata": {},
     "output_type": "execute_result"
    }
   ],
   "source": [
    "# 布尔索引\n",
    "mask = np.array([1,0,1,0,0,1], dtype=bool)\n",
    "a[mask, 2]"
   ]
  },
  {
   "cell_type": "code",
   "execution_count": 83,
   "metadata": {},
   "outputs": [
    {
     "data": {
      "text/plain": [
       "array([[20., 22., 24.],\n",
       "       [40., 42., 44.]])"
      ]
     },
     "execution_count": 83,
     "metadata": {},
     "output_type": "execute_result"
    }
   ],
   "source": [
    "#数组的元素类型可以通过dtype属性获得,可以通过dtype参数在创建时指定元素类型\n",
    "import numpy as np\n",
    "np.array([[20, 22, 24],[40, 42, 44]], dtype=float)"
   ]
  },
  {
   "cell_type": "code",
   "execution_count": 84,
   "metadata": {},
   "outputs": [
    {
     "data": {
      "text/plain": [
       "array([[20.+0.j, 22.+0.j, 24.+0.j],\n",
       "       [40.+0.j, 42.+0.j, 44.+0.j]])"
      ]
     },
     "execution_count": 84,
     "metadata": {},
     "output_type": "execute_result"
    }
   ],
   "source": [
    "np.array([[20, 22, 24],[40, 42, 44]], dtype=complex)"
   ]
  },
  {
   "cell_type": "code",
   "execution_count": 85,
   "metadata": {},
   "outputs": [
    {
     "data": {
      "text/plain": [
       "dtype([('name', 'S32'), ('age', '<i4'), ('weight', '<f4')])"
      ]
     },
     "execution_count": 85,
     "metadata": {},
     "output_type": "execute_result"
    }
   ],
   "source": [
    "# 结构体数组\n",
    "import numpy as np\n",
    "persontype = np.dtype({\n",
    "    \"names\":['name', 'age', 'weight'],\n",
    "    \"formats\": ['S32', 'i', 'f']\n",
    "    })\n",
    "a = np.array([(\"Zhang\", 32, 75.5),(\"Wang\", 24, 65.2)], dtype=persontype)\n",
    "a.dtype\n",
    "# | 表示忽略字节顺序\n",
    "# < 低位字节在前\n",
    "# > 高位字节在前"
   ]
  },
  {
   "cell_type": "code",
   "execution_count": 86,
   "metadata": {},
   "outputs": [
    {
     "data": {
      "text/plain": [
       "(b'Zhang', 32, 75.5)"
      ]
     },
     "execution_count": 86,
     "metadata": {},
     "output_type": "execute_result"
    }
   ],
   "source": [
    "\"每个元素将是dtype类型\"\n",
    "\"每个元素看上去像是元组，实际上它是一个结构\"\n",
    "a[0]"
   ]
  },
  {
   "cell_type": "code",
   "execution_count": 87,
   "metadata": {},
   "outputs": [
    {
     "data": {
      "text/plain": [
       "dtype([('name', 'S32'), ('age', '<i4'), ('weight', '<f4')])"
      ]
     },
     "execution_count": 87,
     "metadata": {},
     "output_type": "execute_result"
    }
   ],
   "source": [
    "a[0].dtype"
   ]
  },
  {
   "cell_type": "code",
   "execution_count": 88,
   "metadata": {},
   "outputs": [
    {
     "data": {
      "text/plain": [
       "(b'Li', 24, 65.2)"
      ]
     },
     "execution_count": 88,
     "metadata": {},
     "output_type": "execute_result"
    }
   ],
   "source": [
    "\"结构可以像字典一样通过字符串下标获取对应的字段值\"\n",
    "c = a[1]\n",
    "c[\"name\"] = \"Li\"\n",
    "a[1]"
   ]
  },
  {
   "cell_type": "code",
   "execution_count": 89,
   "metadata": {},
   "outputs": [
    {
     "data": {
      "text/plain": [
       "array([[ 0,  1,  2,  3],\n",
       "       [ 4,  5,  6,  7],\n",
       "       [ 8,  9, 10, 11]])"
      ]
     },
     "execution_count": 89,
     "metadata": {},
     "output_type": "execute_result"
    }
   ],
   "source": [
    "# reshape用于改变数组的形状\n",
    "a = np.arange(12).reshape(3,4)\n",
    "a"
   ]
  },
  {
   "cell_type": "code",
   "execution_count": 90,
   "metadata": {},
   "outputs": [
    {
     "data": {
      "text/plain": [
       "array([[ 0,  1,  2,  3,  4,  5,  6,  7,  8,  9, 10, 11]])"
      ]
     },
     "execution_count": 90,
     "metadata": {},
     "output_type": "execute_result"
    }
   ],
   "source": [
    "# resize用于改变数组的大小\n",
    "a.resize((1,12))\n",
    "a"
   ]
  },
  {
   "cell_type": "code",
   "execution_count": 91,
   "metadata": {},
   "outputs": [
    {
     "data": {
      "text/plain": [
       "array([ 0,  1,  2,  3,  4,  5,  6,  7,  8,  9, 10, 11])"
      ]
     },
     "execution_count": 91,
     "metadata": {},
     "output_type": "execute_result"
    }
   ],
   "source": [
    "# ravel 用于转换为一维数组,非必要不产生源数据的副本\n",
    "a.ravel()"
   ]
  },
  {
   "cell_type": "code",
   "execution_count": 92,
   "metadata": {},
   "outputs": [
    {
     "data": {
      "text/plain": [
       "array([ 0,  1,  2,  3,  4,  5,  6,  7,  8,  9, 10, 11])"
      ]
     },
     "execution_count": 92,
     "metadata": {},
     "output_type": "execute_result"
    }
   ],
   "source": [
    "# flatten 用于转换为一维数组,返回源数据的副本\n",
    "a.flatten()"
   ]
  },
  {
   "cell_type": "code",
   "execution_count": 93,
   "metadata": {},
   "outputs": [
    {
     "data": {
      "text/plain": [
       "array([[ 0,  1,  2,  3,  4,  5,  6,  7,  8,  9, 10, 11]])"
      ]
     },
     "execution_count": 93,
     "metadata": {},
     "output_type": "execute_result"
    }
   ],
   "source": [
    "a.shape = (1,12)\n",
    "a"
   ]
  },
  {
   "cell_type": "code",
   "execution_count": 94,
   "metadata": {},
   "outputs": [
    {
     "data": {
      "text/plain": [
       "array([[ 0,  1,  2,  3,  4,  5,  6,  7,  8,  9, 10, 11]])"
      ]
     },
     "execution_count": 94,
     "metadata": {},
     "output_type": "execute_result"
    }
   ],
   "source": [
    "a.reshape(1,12)"
   ]
  },
  {
   "cell_type": "code",
   "execution_count": 95,
   "metadata": {},
   "outputs": [
    {
     "data": {
      "text/plain": [
       "array([[ 0,  1,  2,  3],\n",
       "       [ 4,  5,  6,  7],\n",
       "       [ 8,  9, 10, 11]])"
      ]
     },
     "execution_count": 95,
     "metadata": {},
     "output_type": "execute_result"
    }
   ],
   "source": [
    "a.shape = 3, 4\n",
    "a"
   ]
  },
  {
   "cell_type": "code",
   "execution_count": 96,
   "metadata": {},
   "outputs": [
    {
     "data": {
      "text/plain": [
       "array([[1, 2, 3],\n",
       "       [4, 5, 6]])"
      ]
     },
     "execution_count": 96,
     "metadata": {},
     "output_type": "execute_result"
    }
   ],
   "source": [
    "# 数组算术\n",
    "# 数组之所以重要是因为它允许进行批量操作而无须任何for循环,numpy用户称这种特性为向量化;\n",
    "# 任何两个等尺寸的数组之间的算术操作都应用了逐元素操作的方式\n",
    "arr = np.array([[1,2,3], [4,5,6]])\n",
    "arr"
   ]
  },
  {
   "cell_type": "code",
   "execution_count": 97,
   "metadata": {},
   "outputs": [
    {
     "data": {
      "text/plain": [
       "array([[ 2,  4,  6],\n",
       "       [ 8, 10, 12]])"
      ]
     },
     "execution_count": 97,
     "metadata": {},
     "output_type": "execute_result"
    }
   ],
   "source": [
    "arr + arr"
   ]
  },
  {
   "cell_type": "code",
   "execution_count": 98,
   "metadata": {},
   "outputs": [
    {
     "data": {
      "text/plain": [
       "array([[ 1,  4,  9],\n",
       "       [16, 25, 36]])"
      ]
     },
     "execution_count": 98,
     "metadata": {},
     "output_type": "execute_result"
    }
   ],
   "source": [
    "arr * arr"
   ]
  },
  {
   "cell_type": "code",
   "execution_count": 99,
   "metadata": {},
   "outputs": [
    {
     "data": {
      "text/plain": [
       "array([[0, 0, 0],\n",
       "       [0, 0, 0]])"
      ]
     },
     "execution_count": 99,
     "metadata": {},
     "output_type": "execute_result"
    }
   ],
   "source": [
    "arr - arr"
   ]
  },
  {
   "cell_type": "code",
   "execution_count": 100,
   "metadata": {},
   "outputs": [
    {
     "data": {
      "text/plain": [
       "array([[1.        , 0.5       , 0.33333333],\n",
       "       [0.25      , 0.2       , 0.16666667]])"
      ]
     },
     "execution_count": 100,
     "metadata": {},
     "output_type": "execute_result"
    }
   ],
   "source": [
    "# 带有标量计算的算术操作,会把计算参数传递给数组的每个元素\n",
    "1 / arr"
   ]
  },
  {
   "cell_type": "code",
   "execution_count": 101,
   "metadata": {},
   "outputs": [
    {
     "data": {
      "text/plain": [
       "array([[0.5, 1. , 1.5],\n",
       "       [2. , 2.5, 3. ]])"
      ]
     },
     "execution_count": 101,
     "metadata": {},
     "output_type": "execute_result"
    }
   ],
   "source": [
    "arr * 0.5"
   ]
  },
  {
   "cell_type": "code",
   "execution_count": 102,
   "metadata": {},
   "outputs": [
    {
     "data": {
      "text/plain": [
       "array([[False, False, False],\n",
       "       [False, False,  True]])"
      ]
     },
     "execution_count": 102,
     "metadata": {},
     "output_type": "execute_result"
    }
   ],
   "source": [
    "# 数组的比较会产生一个布尔数组\n",
    "arr > 5"
   ]
  },
  {
   "cell_type": "code",
   "execution_count": 103,
   "metadata": {},
   "outputs": [
    {
     "data": {
      "text/plain": [
       "array([1])"
      ]
     },
     "execution_count": 103,
     "metadata": {},
     "output_type": "execute_result"
    }
   ],
   "source": [
    "# 不同尺寸数组间的操作将会用到广播特性\n",
    "b = np.array([1])\n",
    "b"
   ]
  },
  {
   "cell_type": "code",
   "execution_count": 104,
   "metadata": {},
   "outputs": [
    {
     "data": {
      "text/plain": [
       "array([[2, 3, 4],\n",
       "       [5, 6, 7]])"
      ]
     },
     "execution_count": 104,
     "metadata": {},
     "output_type": "execute_result"
    }
   ],
   "source": [
    "arr + b"
   ]
  },
  {
   "cell_type": "code",
   "execution_count": 105,
   "metadata": {},
   "outputs": [
    {
     "data": {
      "text/plain": [
       "array([0, 1, 2])"
      ]
     },
     "execution_count": 105,
     "metadata": {},
     "output_type": "execute_result"
    }
   ],
   "source": [
    "c = np.arange(3)\n",
    "c"
   ]
  },
  {
   "cell_type": "code",
   "execution_count": 106,
   "metadata": {},
   "outputs": [
    {
     "data": {
      "text/plain": [
       "array([[1, 1, 1],\n",
       "       [4, 4, 4]])"
      ]
     },
     "execution_count": 106,
     "metadata": {},
     "output_type": "execute_result"
    }
   ],
   "source": [
    "arr - c"
   ]
  },
  {
   "cell_type": "code",
   "execution_count": 107,
   "metadata": {},
   "outputs": [],
   "source": [
    "# numpy.where 函数是三元表达式`x if condition else y`的向量化\n",
    "xarr = np.array([1.1,1.2,1.3,1.4,1.5])\n",
    "yarr = np.array([2.1,2.2,2.3,2.4,2.5])\n",
    "cond = np.array([True, False, True, True, False])\n",
    "# 假设cond中的元素为True时,取xarr中的对应元素值,否则取yarr中的元素;"
   ]
  },
  {
   "cell_type": "code",
   "execution_count": 108,
   "metadata": {},
   "outputs": [
    {
     "data": {
      "text/plain": [
       "[1.1, 2.2, 1.3, 1.4, 2.5]"
      ]
     },
     "execution_count": 108,
     "metadata": {},
     "output_type": "execute_result"
    }
   ],
   "source": [
    "# 可以使用python的列表推导式来完成\n",
    "# 如果数组很大的话速度会很慢,因为所有的工作都是通过解释器解释python代码完成的,其次当数组时多维时就无法凑效了;\n",
    "result = [(x if c else y) for x,y,c in zip(xarr, yarr, cond)]\n",
    "result"
   ]
  },
  {
   "cell_type": "code",
   "execution_count": 109,
   "metadata": {},
   "outputs": [
    {
     "data": {
      "text/plain": [
       "array([1.1, 2.2, 1.3, 1.4, 2.5])"
      ]
     },
     "execution_count": 109,
     "metadata": {},
     "output_type": "execute_result"
    }
   ],
   "source": [
    "result = np.where(cond, xarr, yarr)\n",
    "result"
   ]
  },
  {
   "cell_type": "code",
   "execution_count": 110,
   "metadata": {},
   "outputs": [
    {
     "data": {
      "text/plain": [
       "array([[ 0.02855956,  0.37374585,  1.14821245, -0.83759889,  0.85373926],\n",
       "       [-1.01746042, -0.41194497,  0.33599459,  1.85867559, -0.77136353],\n",
       "       [-1.19765828, -2.71658357,  1.22955212,  2.07427343,  1.12001681],\n",
       "       [-0.36160915,  0.05427545, -0.22232425,  0.7670484 ,  0.46225263]])"
      ]
     },
     "execution_count": 110,
     "metadata": {},
     "output_type": "execute_result"
    }
   ],
   "source": [
    "# np.where 的第二个和第三个参数并不需要是数组,也可以是标量\n",
    "arr = np.random.randn(4, 5)\n",
    "arr"
   ]
  },
  {
   "cell_type": "code",
   "execution_count": 111,
   "metadata": {},
   "outputs": [
    {
     "data": {
      "text/plain": [
       "array([[ True,  True,  True, False,  True],\n",
       "       [False, False,  True,  True, False],\n",
       "       [False, False,  True,  True,  True],\n",
       "       [False,  True, False,  True,  True]])"
      ]
     },
     "execution_count": 111,
     "metadata": {},
     "output_type": "execute_result"
    }
   ],
   "source": [
    "arr > 0"
   ]
  },
  {
   "cell_type": "code",
   "execution_count": 112,
   "metadata": {},
   "outputs": [
    {
     "data": {
      "text/plain": [
       "array([[ 2,  2,  2, -2,  2],\n",
       "       [-2, -2,  2,  2, -2],\n",
       "       [-2, -2,  2,  2,  2],\n",
       "       [-2,  2, -2,  2,  2]])"
      ]
     },
     "execution_count": 112,
     "metadata": {},
     "output_type": "execute_result"
    }
   ],
   "source": [
    "# 将所有正值替换为2,所有负值替换为-2\n",
    "np.where(arr > 0, 2, -2)"
   ]
  },
  {
   "cell_type": "code",
   "execution_count": 113,
   "metadata": {},
   "outputs": [
    {
     "data": {
      "text/plain": [
       "array([[ 2.        ,  2.        ,  2.        , -0.83759889,  2.        ],\n",
       "       [-1.01746042, -0.41194497,  2.        ,  2.        , -0.77136353],\n",
       "       [-1.19765828, -2.71658357,  2.        ,  2.        ,  2.        ],\n",
       "       [-0.36160915,  2.        , -0.22232425,  2.        ,  2.        ]])"
      ]
     },
     "execution_count": 113,
     "metadata": {},
     "output_type": "execute_result"
    }
   ],
   "source": [
    "# 可以使用标量和数组联合\n",
    "# 近将所有正值替换为2\n",
    "np.where(arr > 0, 2, arr)"
   ]
  },
  {
   "cell_type": "code",
   "execution_count": 114,
   "metadata": {},
   "outputs": [
    {
     "data": {
      "text/plain": [
       "0.13849015415845412"
      ]
     },
     "execution_count": 114,
     "metadata": {},
     "output_type": "execute_result"
    }
   ],
   "source": [
    "# 聚合函数\n",
    "# 也叫缩减函数,比如sum,mean和std既可以直接调用数组示例的方法,也可以使用顶层的numpy函数\n",
    "arr.mean()"
   ]
  },
  {
   "cell_type": "code",
   "execution_count": 115,
   "metadata": {},
   "outputs": [
    {
     "data": {
      "text/plain": [
       "array([ 0.31333165, -0.00121975,  0.1019201 ,  0.13992862])"
      ]
     },
     "execution_count": 115,
     "metadata": {},
     "output_type": "execute_result"
    }
   ],
   "source": [
    "# 像mean,sum等函数还可以接收一个可选参数axis,这个参数可以用于计算给定轴向上的统计值,形成一个下降一维度的数组\n",
    "arr.mean(axis=1)"
   ]
  },
  {
   "cell_type": "code",
   "execution_count": 116,
   "metadata": {},
   "outputs": [
    {
     "data": {
      "text/plain": [
       "66"
      ]
     },
     "execution_count": 116,
     "metadata": {},
     "output_type": "execute_result"
    }
   ],
   "source": [
    "a = np.arange(12).reshape(3,4)\n",
    "np.sum(a)"
   ]
  },
  {
   "cell_type": "code",
   "execution_count": 117,
   "metadata": {},
   "outputs": [
    {
     "data": {
      "text/plain": [
       "66"
      ]
     },
     "execution_count": 117,
     "metadata": {},
     "output_type": "execute_result"
    }
   ],
   "source": [
    "np.sum(np.sum(a, axis=1), axis=0)"
   ]
  },
  {
   "cell_type": "code",
   "execution_count": 118,
   "metadata": {},
   "outputs": [
    {
     "data": {
      "text/plain": [
       "array([[ 0,  1,  2,  3],\n",
       "       [ 4,  5,  6,  7],\n",
       "       [ 8,  9, 10, 11]])"
      ]
     },
     "execution_count": 118,
     "metadata": {},
     "output_type": "execute_result"
    }
   ],
   "source": [
    "a"
   ]
  },
  {
   "cell_type": "code",
   "execution_count": 119,
   "metadata": {},
   "outputs": [
    {
     "data": {
      "text/plain": [
       "(1, 3)"
      ]
     },
     "execution_count": 119,
     "metadata": {},
     "output_type": "execute_result"
    }
   ],
   "source": [
    "idx = np.unravel_index(7, a.shape)\n",
    "idx"
   ]
  },
  {
   "cell_type": "code",
   "execution_count": 120,
   "metadata": {},
   "outputs": [
    {
     "data": {
      "text/plain": [
       "array([[7, 1, 9, 6, 3],\n",
       "       [5, 1, 3, 8, 2],\n",
       "       [9, 8, 9, 4, 0],\n",
       "       [9, 5, 1, 7, 0]])"
      ]
     },
     "execution_count": 120,
     "metadata": {},
     "output_type": "execute_result"
    }
   ],
   "source": [
    "a = np.array([[7,1,9,6,3],\n",
    "              [5,1,3,8,2],\n",
    "              [9,8,9,4,0],\n",
    "              [9,5,1,7,0]])\n",
    "a"
   ]
  },
  {
   "cell_type": "code",
   "execution_count": 121,
   "metadata": {},
   "outputs": [
    {
     "data": {
      "text/plain": [
       "array([2, 3, 0, 0], dtype=int64)"
      ]
     },
     "execution_count": 121,
     "metadata": {},
     "output_type": "execute_result"
    }
   ],
   "source": [
    "# argmin,argmax用于返回最小值和最大值的位置\n",
    "idx = np.argmax(a, axis=1)\n",
    "idx"
   ]
  },
  {
   "cell_type": "code",
   "execution_count": 122,
   "metadata": {},
   "outputs": [
    {
     "data": {
      "text/plain": [
       "array([[9, 8, 9, 4, 0],\n",
       "       [9, 5, 1, 7, 0],\n",
       "       [7, 1, 9, 6, 3],\n",
       "       [7, 1, 9, 6, 3]])"
      ]
     },
     "execution_count": 122,
     "metadata": {},
     "output_type": "execute_result"
    }
   ],
   "source": [
    "a[idx]"
   ]
  },
  {
   "cell_type": "code",
   "execution_count": 123,
   "metadata": {},
   "outputs": [
    {
     "data": {
      "text/plain": [
       "array([1, 0, 3, 2, 2], dtype=int64)"
      ]
     },
     "execution_count": 123,
     "metadata": {},
     "output_type": "execute_result"
    }
   ],
   "source": [
    "idx = np.argmin(a, axis=0)\n",
    "idx"
   ]
  },
  {
   "cell_type": "code",
   "execution_count": 124,
   "metadata": {},
   "outputs": [
    {
     "data": {
      "text/plain": [
       "array([[5, 1, 3, 8, 2],\n",
       "       [7, 1, 9, 6, 3],\n",
       "       [9, 5, 1, 7, 0],\n",
       "       [9, 8, 9, 4, 0],\n",
       "       [9, 8, 9, 4, 0]])"
      ]
     },
     "execution_count": 124,
     "metadata": {},
     "output_type": "execute_result"
    }
   ],
   "source": [
    "a[idx]"
   ]
  },
  {
   "cell_type": "code",
   "execution_count": 125,
   "metadata": {},
   "outputs": [
    {
     "data": {
      "text/plain": [
       "array([[7, 1, 9, 6, 3],\n",
       "       [5, 1, 3, 8, 2],\n",
       "       [9, 8, 9, 4, 0],\n",
       "       [9, 5, 1, 7, 0]])"
      ]
     },
     "execution_count": 125,
     "metadata": {},
     "output_type": "execute_result"
    }
   ],
   "source": [
    "a"
   ]
  },
  {
   "cell_type": "code",
   "execution_count": 126,
   "metadata": {},
   "outputs": [
    {
     "data": {
      "text/plain": [
       "array([9, 8, 9, 9])"
      ]
     },
     "execution_count": 126,
     "metadata": {},
     "output_type": "execute_result"
    }
   ],
   "source": [
    "# 选出每行最大值\n",
    "idx = np.argmax(a, axis=1)\n",
    "a[range(a.shape[0]), idx]"
   ]
  },
  {
   "cell_type": "code",
   "execution_count": 127,
   "metadata": {},
   "outputs": [
    {
     "data": {
      "text/plain": [
       "array([1, 0, 3, 2, 2], dtype=int64)"
      ]
     },
     "execution_count": 127,
     "metadata": {},
     "output_type": "execute_result"
    }
   ],
   "source": [
    "# 数组拥有 transpose() 方法,也有特殊的T属性\n",
    "a = np.array(\n",
    "      [[7, 1, 9, 6, 3],\n",
    "       [5, 1, 3, 8, 2],\n",
    "       [9, 8, 9, 4, 0],\n",
    "       [9, 5, 1, 7, 0]])\n",
    "idx = np.argmin(a, axis=0)\n",
    "idx"
   ]
  },
  {
   "cell_type": "code",
   "execution_count": 128,
   "metadata": {},
   "outputs": [
    {
     "data": {
      "text/plain": [
       "array([[7, 5, 9, 9],\n",
       "       [1, 1, 8, 5],\n",
       "       [9, 3, 9, 1],\n",
       "       [6, 8, 4, 7],\n",
       "       [3, 2, 0, 0]])"
      ]
     },
     "execution_count": 128,
     "metadata": {},
     "output_type": "execute_result"
    }
   ],
   "source": [
    "a = a.transpose()\n",
    "a"
   ]
  },
  {
   "cell_type": "code",
   "execution_count": 129,
   "metadata": {},
   "outputs": [
    {
     "data": {
      "text/plain": [
       "array([5, 1, 1, 4, 0])"
      ]
     },
     "execution_count": 129,
     "metadata": {},
     "output_type": "execute_result"
    }
   ],
   "source": [
    "a[range(a.shape[0]), idx]"
   ]
  },
  {
   "cell_type": "code",
   "execution_count": 130,
   "metadata": {},
   "outputs": [
    {
     "data": {
      "text/plain": [
       "array([[7, 1, 9, 6, 3],\n",
       "       [5, 1, 3, 8, 2],\n",
       "       [9, 8, 9, 4, 0],\n",
       "       [9, 5, 1, 7, 0]])"
      ]
     },
     "execution_count": 130,
     "metadata": {},
     "output_type": "execute_result"
    }
   ],
   "source": [
    "a.T"
   ]
  },
  {
   "cell_type": "code",
   "execution_count": 131,
   "metadata": {},
   "outputs": [
    {
     "data": {
      "text/plain": [
       "array([[ 0,  1,  2,  3,  4],\n",
       "       [ 5,  6,  7,  8,  9],\n",
       "       [10, 11, 12, 13, 14]])"
      ]
     },
     "execution_count": 131,
     "metadata": {},
     "output_type": "execute_result"
    }
   ],
   "source": [
    "# 当计算矩阵内积会使用 np.dot\n",
    "arr = np.arange(15).reshape((3,5))\n",
    "arr"
   ]
  },
  {
   "cell_type": "code",
   "execution_count": 132,
   "metadata": {},
   "outputs": [
    {
     "data": {
      "text/plain": [
       "array([[ 0,  5, 10],\n",
       "       [ 1,  6, 11],\n",
       "       [ 2,  7, 12],\n",
       "       [ 3,  8, 13],\n",
       "       [ 4,  9, 14]])"
      ]
     },
     "execution_count": 132,
     "metadata": {},
     "output_type": "execute_result"
    }
   ],
   "source": [
    "arr.T"
   ]
  },
  {
   "cell_type": "code",
   "execution_count": 133,
   "metadata": {},
   "outputs": [
    {
     "data": {
      "text/plain": [
       "array([[125, 140, 155, 170, 185],\n",
       "       [140, 158, 176, 194, 212],\n",
       "       [155, 176, 197, 218, 239],\n",
       "       [170, 194, 218, 242, 266],\n",
       "       [185, 212, 239, 266, 293]])"
      ]
     },
     "execution_count": 133,
     "metadata": {},
     "output_type": "execute_result"
    }
   ],
   "source": [
    "np.dot(arr.T, arr)"
   ]
  },
  {
   "cell_type": "code",
   "execution_count": 134,
   "metadata": {},
   "outputs": [
    {
     "data": {
      "text/plain": [
       "array([[5., 5.],\n",
       "       [3., 9.]])"
      ]
     },
     "execution_count": 134,
     "metadata": {},
     "output_type": "execute_result"
    }
   ],
   "source": [
    "a2 = np.floor(10*np.random.random((2,2)))\n",
    "a2"
   ]
  },
  {
   "cell_type": "code",
   "execution_count": 135,
   "metadata": {},
   "outputs": [
    {
     "data": {
      "text/plain": [
       "array([[5., 9.],\n",
       "       [9., 8.]])"
      ]
     },
     "execution_count": 135,
     "metadata": {},
     "output_type": "execute_result"
    }
   ],
   "source": [
    "b2 = np.floor(10*np.random.random((2,2)))\n",
    "b2"
   ]
  },
  {
   "cell_type": "code",
   "execution_count": 136,
   "metadata": {},
   "outputs": [
    {
     "data": {
      "text/plain": [
       "array([[5., 5., 5., 9.],\n",
       "       [3., 9., 9., 8.]])"
      ]
     },
     "execution_count": 136,
     "metadata": {},
     "output_type": "execute_result"
    }
   ],
   "source": [
    "np.hstack((a2,b2))"
   ]
  },
  {
   "cell_type": "code",
   "execution_count": 137,
   "metadata": {},
   "outputs": [
    {
     "data": {
      "text/plain": [
       "(2, 4)"
      ]
     },
     "execution_count": 137,
     "metadata": {},
     "output_type": "execute_result"
    }
   ],
   "source": [
    "np.hstack((a2,b2)).shape"
   ]
  },
  {
   "cell_type": "code",
   "execution_count": 138,
   "metadata": {},
   "outputs": [
    {
     "data": {
      "text/plain": [
       "array([[5., 5.],\n",
       "       [3., 9.],\n",
       "       [5., 9.],\n",
       "       [9., 8.]])"
      ]
     },
     "execution_count": 138,
     "metadata": {},
     "output_type": "execute_result"
    }
   ],
   "source": [
    "np.vstack((a2,b2))"
   ]
  },
  {
   "cell_type": "code",
   "execution_count": 139,
   "metadata": {},
   "outputs": [
    {
     "data": {
      "text/plain": [
       "array([5., 5., 3., 9., 5., 9., 9., 8.])"
      ]
     },
     "execution_count": 139,
     "metadata": {},
     "output_type": "execute_result"
    }
   ],
   "source": [
    "np.vstack((a2,b2)).ravel()"
   ]
  },
  {
   "cell_type": "code",
   "execution_count": 140,
   "metadata": {},
   "outputs": [
    {
     "data": {
      "text/plain": [
       "(8,)"
      ]
     },
     "execution_count": 140,
     "metadata": {},
     "output_type": "execute_result"
    }
   ],
   "source": [
    "np.vstack((a2,b2)).ravel().shape"
   ]
  },
  {
   "cell_type": "code",
   "execution_count": 141,
   "metadata": {},
   "outputs": [],
   "source": [
    "# 通用函数\n",
    "# 也称ufunc,是一种在ndarray数据中进行逐元素操作的函数,是对一些简单函数的向量化封装\n",
    "# 一元通用函数\n",
    "arr = np.arange(12)"
   ]
  },
  {
   "cell_type": "code",
   "execution_count": 142,
   "metadata": {},
   "outputs": [
    {
     "data": {
      "text/plain": [
       "array([0.        , 1.        , 1.41421356, 1.73205081, 2.        ,\n",
       "       2.23606798, 2.44948974, 2.64575131, 2.82842712, 3.        ,\n",
       "       3.16227766, 3.31662479])"
      ]
     },
     "execution_count": 142,
     "metadata": {},
     "output_type": "execute_result"
    }
   ],
   "source": [
    "arr ** 0.5"
   ]
  },
  {
   "cell_type": "code",
   "execution_count": 143,
   "metadata": {},
   "outputs": [
    {
     "data": {
      "text/plain": [
       "array([0.        , 1.        , 1.41421356, 1.73205081, 2.        ,\n",
       "       2.23606798, 2.44948974, 2.64575131, 2.82842712, 3.        ,\n",
       "       3.16227766, 3.31662479])"
      ]
     },
     "execution_count": 143,
     "metadata": {},
     "output_type": "execute_result"
    }
   ],
   "source": [
    "# 与 (arr ** 0.5) 等价\n",
    "np.sqrt(arr)"
   ]
  },
  {
   "cell_type": "code",
   "execution_count": 144,
   "metadata": {},
   "outputs": [
    {
     "data": {
      "text/plain": [
       "array([ 0.,  1.,  2.,  3.,  4.,  5.,  6.,  7.,  8.,  9., 10., 11.])"
      ]
     },
     "execution_count": 144,
     "metadata": {},
     "output_type": "execute_result"
    }
   ],
   "source": [
    "np.fabs(arr)"
   ]
  },
  {
   "cell_type": "code",
   "execution_count": 145,
   "metadata": {},
   "outputs": [
    {
     "data": {
      "text/plain": [
       "array([  0,   1,   4,   9,  16,  25,  36,  49,  64,  81, 100, 121],\n",
       "      dtype=int32)"
      ]
     },
     "execution_count": 145,
     "metadata": {},
     "output_type": "execute_result"
    }
   ],
   "source": [
    "arr ** 2"
   ]
  },
  {
   "cell_type": "code",
   "execution_count": 146,
   "metadata": {},
   "outputs": [
    {
     "data": {
      "text/plain": [
       "array([  0,   1,   4,   9,  16,  25,  36,  49,  64,  81, 100, 121],\n",
       "      dtype=int32)"
      ]
     },
     "execution_count": 146,
     "metadata": {},
     "output_type": "execute_result"
    }
   ],
   "source": [
    "# 与 (arr ** 2) 等价\n",
    "np.square(arr)"
   ]
  },
  {
   "cell_type": "code",
   "execution_count": 147,
   "metadata": {},
   "outputs": [
    {
     "data": {
      "text/plain": [
       "array([1.00000000e+00, 2.71828183e+00, 7.38905610e+00, 2.00855369e+01,\n",
       "       5.45981500e+01, 1.48413159e+02, 4.03428793e+02, 1.09663316e+03,\n",
       "       2.98095799e+03, 8.10308393e+03, 2.20264658e+04, 5.98741417e+04])"
      ]
     },
     "execution_count": 147,
     "metadata": {},
     "output_type": "execute_result"
    }
   ],
   "source": [
    "# 求每个元素的自然对数\n",
    "np.exp(arr)"
   ]
  },
  {
   "cell_type": "code",
   "execution_count": 148,
   "metadata": {},
   "outputs": [
    {
     "data": {
      "text/plain": [
       "array([ 0.,  1.,  2.,  3.,  4.,  5.,  6.,  7.,  8.,  9., 10., 11.])"
      ]
     },
     "execution_count": 148,
     "metadata": {},
     "output_type": "execute_result"
    }
   ],
   "source": [
    "# 计算每个元素的最小整数值\n",
    "np.floor(arr)"
   ]
  },
  {
   "cell_type": "code",
   "execution_count": 149,
   "metadata": {},
   "outputs": [
    {
     "data": {
      "text/plain": [
       "array([ 0.        ,  0.84147098,  0.90929743,  0.14112001, -0.7568025 ,\n",
       "       -0.95892427, -0.2794155 ,  0.6569866 ,  0.98935825,  0.41211849,\n",
       "       -0.54402111, -0.99999021])"
      ]
     },
     "execution_count": 149,
     "metadata": {},
     "output_type": "execute_result"
    }
   ],
   "source": [
    "# 三角函数\n",
    "np.sin(arr)"
   ]
  },
  {
   "cell_type": "code",
   "execution_count": 150,
   "metadata": {},
   "outputs": [
    {
     "data": {
      "text/plain": [
       "array([ 1.        ,  0.54030231, -0.41614684, -0.9899925 , -0.65364362,\n",
       "        0.28366219,  0.96017029,  0.75390225, -0.14550003, -0.91113026,\n",
       "       -0.83907153,  0.0044257 ])"
      ]
     },
     "execution_count": 150,
     "metadata": {},
     "output_type": "execute_result"
    }
   ],
   "source": [
    "np.cos(arr)"
   ]
  },
  {
   "cell_type": "code",
   "execution_count": 151,
   "metadata": {},
   "outputs": [
    {
     "data": {
      "text/plain": [
       "array([ 0.3464095 ,  0.65177366,  0.2520575 ,  0.85327469,  0.18570921,\n",
       "       -0.3860946 , -0.05354499, -0.62096558,  0.31567821, -0.61119071,\n",
       "       -0.18263224, -0.99964164])"
      ]
     },
     "execution_count": 151,
     "metadata": {},
     "output_type": "execute_result"
    }
   ],
   "source": [
    "# arccos参数范围[-1,1]\n",
    "cos_val = np.random.random(12) * 2 -1\n",
    "cos_val"
   ]
  },
  {
   "cell_type": "code",
   "execution_count": 152,
   "metadata": {},
   "outputs": [
    {
     "data": {
      "text/plain": [
       "array([ 69.73213919,  49.32453824,  75.40070184,  31.43035089,\n",
       "        79.29751648, 112.71171129,  93.06936979, 128.38668051,\n",
       "        71.59823852, 127.67564877, 100.52311784, 178.4660608 ])"
      ]
     },
     "execution_count": 152,
     "metadata": {},
     "output_type": "execute_result"
    }
   ],
   "source": [
    "np.degrees(np.arccos(cos_val))"
   ]
  },
  {
   "cell_type": "code",
   "execution_count": 153,
   "metadata": {},
   "outputs": [
    {
     "data": {
      "text/plain": [
       "array([-0.89068902, -0.27473046,  0.360906  , -0.48330248, -0.38303249,\n",
       "        0.23426723, -1.35196202,  0.89413102])"
      ]
     },
     "execution_count": 153,
     "metadata": {},
     "output_type": "execute_result"
    }
   ],
   "source": [
    "# 二元通用函数\n",
    "# 比如 add() 或 maximum() 会接收两个数组并返回一个数组作为结果\n",
    "xarr = np.random.normal(size=8)\n",
    "xarr"
   ]
  },
  {
   "cell_type": "code",
   "execution_count": 154,
   "metadata": {},
   "outputs": [
    {
     "data": {
      "text/plain": [
       "array([ 0.71542082,  0.38545469, -0.58584849,  1.14991161,  0.8527205 ,\n",
       "        0.8370684 ,  0.5300959 ,  0.11463147])"
      ]
     },
     "execution_count": 154,
     "metadata": {},
     "output_type": "execute_result"
    }
   ],
   "source": [
    "yarr = np.random.normal(size=8)\n",
    "yarr"
   ]
  },
  {
   "cell_type": "code",
   "execution_count": 155,
   "metadata": {},
   "outputs": [
    {
     "data": {
      "text/plain": [
       "array([0.71542082, 0.38545469, 0.360906  , 1.14991161, 0.8527205 ,\n",
       "       0.8370684 , 0.5300959 , 0.89413102])"
      ]
     },
     "execution_count": 155,
     "metadata": {},
     "output_type": "execute_result"
    }
   ],
   "source": [
    "np.maximum(xarr, yarr)"
   ]
  },
  {
   "cell_type": "code",
   "execution_count": 156,
   "metadata": {},
   "outputs": [
    {
     "data": {
      "text/plain": [
       "array([ 0.35235268,  0.09436719,  0.24567734, -1.50181986, -0.22343022,\n",
       "       -0.64908504,  1.29401409,  1.42205633,  0.94470202, -0.23635775])"
      ]
     },
     "execution_count": 156,
     "metadata": {},
     "output_type": "execute_result"
    }
   ],
   "source": [
    "# 伪随机数生成\n",
    "# numpy.random 模块填补了python内建的random模块的不足,可以高效的生成多种概率分布下的完整样本值数组\n",
    "# np.random.normal(均值,标准差,size) 可以从一个正态分布样本中获取一个size大小的数组\n",
    "# np.random.normal(size=10) 简化为 np.random.randn(10)\n",
    "# normal(loc=0.0,scale=1.0,size=None) 如果需要指定数组大小不能直接normal(10)而要normal(size=10)\n",
    "samples = np.random.normal(size=10)\n",
    "samples"
   ]
  },
  {
   "cell_type": "code",
   "execution_count": 157,
   "metadata": {},
   "outputs": [
    {
     "data": {
      "text/plain": [
       "0.852146191717504"
      ]
     },
     "execution_count": 157,
     "metadata": {},
     "output_type": "execute_result"
    }
   ],
   "source": [
    "np.std(samples)"
   ]
  },
  {
   "cell_type": "code",
   "execution_count": 158,
   "metadata": {},
   "outputs": [
    {
     "data": {
      "text/plain": [
       "0.17424767907835417"
      ]
     },
     "execution_count": 158,
     "metadata": {},
     "output_type": "execute_result"
    }
   ],
   "source": [
    "np.mean(samples)"
   ]
  },
  {
   "cell_type": "code",
   "execution_count": 159,
   "metadata": {},
   "outputs": [
    {
     "data": {
      "text/plain": [
       "array([0.81581053, 0.07121936, 0.09146268, 0.90276568, 0.64558007,\n",
       "       0.96087002, 0.15687244, 0.05386302, 0.16726481, 0.20238822,\n",
       "       0.90160597, 0.55126654])"
      ]
     },
     "execution_count": 159,
     "metadata": {},
     "output_type": "execute_result"
    }
   ],
   "source": [
    "# rand(d0, d1,..., dn)   从均匀分布中抽取样本,等价于uniform(size=(d0,d1,...,dn))\n",
    "# randn(d0, d1,..., dn)  从均值0标准差1的正态分布中抽取样本(matlab型接口)\n",
    "\n",
    "# normal(loc=0.0, scale=1.0, size=None) 从正态(高斯)分布中抽取样本\n",
    "# uniform(low=0.0, high=1.0, size=None) 从均匀分布中抽取样本\n",
    "\n",
    "# random(size=None) 从'[0,1)'区间随机抽取样本,近似于uniform(0,1,size)\n",
    "# randint(low, high=None, size=None, dtype=int) 从'[low, high)'范围抽取随机整数\n",
    "np.random.random(12)"
   ]
  },
  {
   "cell_type": "code",
   "execution_count": 160,
   "metadata": {},
   "outputs": [
    {
     "data": {
      "text/plain": [
       "array([ 0.45902549, -0.41914911, -0.15172238,  1.36500341, -1.3807379 ,\n",
       "       -0.54564965, -0.66263101, -2.22794258,  1.67786301, -0.92419671])"
      ]
     },
     "execution_count": 160,
     "metadata": {},
     "output_type": "execute_result"
    }
   ],
   "source": [
    "np.random.normal(size=10)"
   ]
  },
  {
   "cell_type": "code",
   "execution_count": 161,
   "metadata": {},
   "outputs": [
    {
     "data": {
      "text/plain": [
       "array([0.17669204, 0.87514191, 0.41164325, 0.75427447, 0.21789141,\n",
       "       0.68602998, 0.43655182, 0.71174728, 0.22571277, 0.80021423])"
      ]
     },
     "execution_count": 161,
     "metadata": {},
     "output_type": "execute_result"
    }
   ],
   "source": [
    "np.random.uniform(size=10)"
   ]
  },
  {
   "cell_type": "code",
   "execution_count": 162,
   "metadata": {},
   "outputs": [
    {
     "data": {
      "application/javascript": [
       "/* Put everything inside the global mpl namespace */\n",
       "/* global mpl */\n",
       "window.mpl = {};\n",
       "\n",
       "mpl.get_websocket_type = function () {\n",
       "    if (typeof WebSocket !== 'undefined') {\n",
       "        return WebSocket;\n",
       "    } else if (typeof MozWebSocket !== 'undefined') {\n",
       "        return MozWebSocket;\n",
       "    } else {\n",
       "        alert(\n",
       "            'Your browser does not have WebSocket support. ' +\n",
       "                'Please try Chrome, Safari or Firefox ≥ 6. ' +\n",
       "                'Firefox 4 and 5 are also supported but you ' +\n",
       "                'have to enable WebSockets in about:config.'\n",
       "        );\n",
       "    }\n",
       "};\n",
       "\n",
       "mpl.figure = function (figure_id, websocket, ondownload, parent_element) {\n",
       "    this.id = figure_id;\n",
       "\n",
       "    this.ws = websocket;\n",
       "\n",
       "    this.supports_binary = this.ws.binaryType !== undefined;\n",
       "\n",
       "    if (!this.supports_binary) {\n",
       "        var warnings = document.getElementById('mpl-warnings');\n",
       "        if (warnings) {\n",
       "            warnings.style.display = 'block';\n",
       "            warnings.textContent =\n",
       "                'This browser does not support binary websocket messages. ' +\n",
       "                'Performance may be slow.';\n",
       "        }\n",
       "    }\n",
       "\n",
       "    this.imageObj = new Image();\n",
       "\n",
       "    this.context = undefined;\n",
       "    this.message = undefined;\n",
       "    this.canvas = undefined;\n",
       "    this.rubberband_canvas = undefined;\n",
       "    this.rubberband_context = undefined;\n",
       "    this.format_dropdown = undefined;\n",
       "\n",
       "    this.image_mode = 'full';\n",
       "\n",
       "    this.root = document.createElement('div');\n",
       "    this.root.setAttribute('style', 'display: inline-block');\n",
       "    this._root_extra_style(this.root);\n",
       "\n",
       "    parent_element.appendChild(this.root);\n",
       "\n",
       "    this._init_header(this);\n",
       "    this._init_canvas(this);\n",
       "    this._init_toolbar(this);\n",
       "\n",
       "    var fig = this;\n",
       "\n",
       "    this.waiting = false;\n",
       "\n",
       "    this.ws.onopen = function () {\n",
       "        fig.send_message('supports_binary', { value: fig.supports_binary });\n",
       "        fig.send_message('send_image_mode', {});\n",
       "        if (fig.ratio !== 1) {\n",
       "            fig.send_message('set_dpi_ratio', { dpi_ratio: fig.ratio });\n",
       "        }\n",
       "        fig.send_message('refresh', {});\n",
       "    };\n",
       "\n",
       "    this.imageObj.onload = function () {\n",
       "        if (fig.image_mode === 'full') {\n",
       "            // Full images could contain transparency (where diff images\n",
       "            // almost always do), so we need to clear the canvas so that\n",
       "            // there is no ghosting.\n",
       "            fig.context.clearRect(0, 0, fig.canvas.width, fig.canvas.height);\n",
       "        }\n",
       "        fig.context.drawImage(fig.imageObj, 0, 0);\n",
       "    };\n",
       "\n",
       "    this.imageObj.onunload = function () {\n",
       "        fig.ws.close();\n",
       "    };\n",
       "\n",
       "    this.ws.onmessage = this._make_on_message_function(this);\n",
       "\n",
       "    this.ondownload = ondownload;\n",
       "};\n",
       "\n",
       "mpl.figure.prototype._init_header = function () {\n",
       "    var titlebar = document.createElement('div');\n",
       "    titlebar.classList =\n",
       "        'ui-dialog-titlebar ui-widget-header ui-corner-all ui-helper-clearfix';\n",
       "    var titletext = document.createElement('div');\n",
       "    titletext.classList = 'ui-dialog-title';\n",
       "    titletext.setAttribute(\n",
       "        'style',\n",
       "        'width: 100%; text-align: center; padding: 3px;'\n",
       "    );\n",
       "    titlebar.appendChild(titletext);\n",
       "    this.root.appendChild(titlebar);\n",
       "    this.header = titletext;\n",
       "};\n",
       "\n",
       "mpl.figure.prototype._canvas_extra_style = function (_canvas_div) {};\n",
       "\n",
       "mpl.figure.prototype._root_extra_style = function (_canvas_div) {};\n",
       "\n",
       "mpl.figure.prototype._init_canvas = function () {\n",
       "    var fig = this;\n",
       "\n",
       "    var canvas_div = (this.canvas_div = document.createElement('div'));\n",
       "    canvas_div.setAttribute(\n",
       "        'style',\n",
       "        'border: 1px solid #ddd;' +\n",
       "            'box-sizing: content-box;' +\n",
       "            'clear: both;' +\n",
       "            'min-height: 1px;' +\n",
       "            'min-width: 1px;' +\n",
       "            'outline: 0;' +\n",
       "            'overflow: hidden;' +\n",
       "            'position: relative;' +\n",
       "            'resize: both;'\n",
       "    );\n",
       "\n",
       "    function on_keyboard_event_closure(name) {\n",
       "        return function (event) {\n",
       "            return fig.key_event(event, name);\n",
       "        };\n",
       "    }\n",
       "\n",
       "    canvas_div.addEventListener(\n",
       "        'keydown',\n",
       "        on_keyboard_event_closure('key_press')\n",
       "    );\n",
       "    canvas_div.addEventListener(\n",
       "        'keyup',\n",
       "        on_keyboard_event_closure('key_release')\n",
       "    );\n",
       "\n",
       "    this._canvas_extra_style(canvas_div);\n",
       "    this.root.appendChild(canvas_div);\n",
       "\n",
       "    var canvas = (this.canvas = document.createElement('canvas'));\n",
       "    canvas.classList.add('mpl-canvas');\n",
       "    canvas.setAttribute('style', 'box-sizing: content-box;');\n",
       "\n",
       "    this.context = canvas.getContext('2d');\n",
       "\n",
       "    var backingStore =\n",
       "        this.context.backingStorePixelRatio ||\n",
       "        this.context.webkitBackingStorePixelRatio ||\n",
       "        this.context.mozBackingStorePixelRatio ||\n",
       "        this.context.msBackingStorePixelRatio ||\n",
       "        this.context.oBackingStorePixelRatio ||\n",
       "        this.context.backingStorePixelRatio ||\n",
       "        1;\n",
       "\n",
       "    this.ratio = (window.devicePixelRatio || 1) / backingStore;\n",
       "\n",
       "    var rubberband_canvas = (this.rubberband_canvas = document.createElement(\n",
       "        'canvas'\n",
       "    ));\n",
       "    rubberband_canvas.setAttribute(\n",
       "        'style',\n",
       "        'box-sizing: content-box; position: absolute; left: 0; top: 0; z-index: 1;'\n",
       "    );\n",
       "\n",
       "    // Apply a ponyfill if ResizeObserver is not implemented by browser.\n",
       "    if (this.ResizeObserver === undefined) {\n",
       "        if (window.ResizeObserver !== undefined) {\n",
       "            this.ResizeObserver = window.ResizeObserver;\n",
       "        } else {\n",
       "            var obs = _JSXTOOLS_RESIZE_OBSERVER({});\n",
       "            this.ResizeObserver = obs.ResizeObserver;\n",
       "        }\n",
       "    }\n",
       "\n",
       "    this.resizeObserverInstance = new this.ResizeObserver(function (entries) {\n",
       "        var nentries = entries.length;\n",
       "        for (var i = 0; i < nentries; i++) {\n",
       "            var entry = entries[i];\n",
       "            var width, height;\n",
       "            if (entry.contentBoxSize) {\n",
       "                if (entry.contentBoxSize instanceof Array) {\n",
       "                    // Chrome 84 implements new version of spec.\n",
       "                    width = entry.contentBoxSize[0].inlineSize;\n",
       "                    height = entry.contentBoxSize[0].blockSize;\n",
       "                } else {\n",
       "                    // Firefox implements old version of spec.\n",
       "                    width = entry.contentBoxSize.inlineSize;\n",
       "                    height = entry.contentBoxSize.blockSize;\n",
       "                }\n",
       "            } else {\n",
       "                // Chrome <84 implements even older version of spec.\n",
       "                width = entry.contentRect.width;\n",
       "                height = entry.contentRect.height;\n",
       "            }\n",
       "\n",
       "            // Keep the size of the canvas and rubber band canvas in sync with\n",
       "            // the canvas container.\n",
       "            if (entry.devicePixelContentBoxSize) {\n",
       "                // Chrome 84 implements new version of spec.\n",
       "                canvas.setAttribute(\n",
       "                    'width',\n",
       "                    entry.devicePixelContentBoxSize[0].inlineSize\n",
       "                );\n",
       "                canvas.setAttribute(\n",
       "                    'height',\n",
       "                    entry.devicePixelContentBoxSize[0].blockSize\n",
       "                );\n",
       "            } else {\n",
       "                canvas.setAttribute('width', width * fig.ratio);\n",
       "                canvas.setAttribute('height', height * fig.ratio);\n",
       "            }\n",
       "            canvas.setAttribute(\n",
       "                'style',\n",
       "                'width: ' + width + 'px; height: ' + height + 'px;'\n",
       "            );\n",
       "\n",
       "            rubberband_canvas.setAttribute('width', width);\n",
       "            rubberband_canvas.setAttribute('height', height);\n",
       "\n",
       "            // And update the size in Python. We ignore the initial 0/0 size\n",
       "            // that occurs as the element is placed into the DOM, which should\n",
       "            // otherwise not happen due to the minimum size styling.\n",
       "            if (fig.ws.readyState == 1 && width != 0 && height != 0) {\n",
       "                fig.request_resize(width, height);\n",
       "            }\n",
       "        }\n",
       "    });\n",
       "    this.resizeObserverInstance.observe(canvas_div);\n",
       "\n",
       "    function on_mouse_event_closure(name) {\n",
       "        return function (event) {\n",
       "            return fig.mouse_event(event, name);\n",
       "        };\n",
       "    }\n",
       "\n",
       "    rubberband_canvas.addEventListener(\n",
       "        'mousedown',\n",
       "        on_mouse_event_closure('button_press')\n",
       "    );\n",
       "    rubberband_canvas.addEventListener(\n",
       "        'mouseup',\n",
       "        on_mouse_event_closure('button_release')\n",
       "    );\n",
       "    rubberband_canvas.addEventListener(\n",
       "        'dblclick',\n",
       "        on_mouse_event_closure('dblclick')\n",
       "    );\n",
       "    // Throttle sequential mouse events to 1 every 20ms.\n",
       "    rubberband_canvas.addEventListener(\n",
       "        'mousemove',\n",
       "        on_mouse_event_closure('motion_notify')\n",
       "    );\n",
       "\n",
       "    rubberband_canvas.addEventListener(\n",
       "        'mouseenter',\n",
       "        on_mouse_event_closure('figure_enter')\n",
       "    );\n",
       "    rubberband_canvas.addEventListener(\n",
       "        'mouseleave',\n",
       "        on_mouse_event_closure('figure_leave')\n",
       "    );\n",
       "\n",
       "    canvas_div.addEventListener('wheel', function (event) {\n",
       "        if (event.deltaY < 0) {\n",
       "            event.step = 1;\n",
       "        } else {\n",
       "            event.step = -1;\n",
       "        }\n",
       "        on_mouse_event_closure('scroll')(event);\n",
       "    });\n",
       "\n",
       "    canvas_div.appendChild(canvas);\n",
       "    canvas_div.appendChild(rubberband_canvas);\n",
       "\n",
       "    this.rubberband_context = rubberband_canvas.getContext('2d');\n",
       "    this.rubberband_context.strokeStyle = '#000000';\n",
       "\n",
       "    this._resize_canvas = function (width, height, forward) {\n",
       "        if (forward) {\n",
       "            canvas_div.style.width = width + 'px';\n",
       "            canvas_div.style.height = height + 'px';\n",
       "        }\n",
       "    };\n",
       "\n",
       "    // Disable right mouse context menu.\n",
       "    this.rubberband_canvas.addEventListener('contextmenu', function (_e) {\n",
       "        event.preventDefault();\n",
       "        return false;\n",
       "    });\n",
       "\n",
       "    function set_focus() {\n",
       "        canvas.focus();\n",
       "        canvas_div.focus();\n",
       "    }\n",
       "\n",
       "    window.setTimeout(set_focus, 100);\n",
       "};\n",
       "\n",
       "mpl.figure.prototype._init_toolbar = function () {\n",
       "    var fig = this;\n",
       "\n",
       "    var toolbar = document.createElement('div');\n",
       "    toolbar.classList = 'mpl-toolbar';\n",
       "    this.root.appendChild(toolbar);\n",
       "\n",
       "    function on_click_closure(name) {\n",
       "        return function (_event) {\n",
       "            return fig.toolbar_button_onclick(name);\n",
       "        };\n",
       "    }\n",
       "\n",
       "    function on_mouseover_closure(tooltip) {\n",
       "        return function (event) {\n",
       "            if (!event.currentTarget.disabled) {\n",
       "                return fig.toolbar_button_onmouseover(tooltip);\n",
       "            }\n",
       "        };\n",
       "    }\n",
       "\n",
       "    fig.buttons = {};\n",
       "    var buttonGroup = document.createElement('div');\n",
       "    buttonGroup.classList = 'mpl-button-group';\n",
       "    for (var toolbar_ind in mpl.toolbar_items) {\n",
       "        var name = mpl.toolbar_items[toolbar_ind][0];\n",
       "        var tooltip = mpl.toolbar_items[toolbar_ind][1];\n",
       "        var image = mpl.toolbar_items[toolbar_ind][2];\n",
       "        var method_name = mpl.toolbar_items[toolbar_ind][3];\n",
       "\n",
       "        if (!name) {\n",
       "            /* Instead of a spacer, we start a new button group. */\n",
       "            if (buttonGroup.hasChildNodes()) {\n",
       "                toolbar.appendChild(buttonGroup);\n",
       "            }\n",
       "            buttonGroup = document.createElement('div');\n",
       "            buttonGroup.classList = 'mpl-button-group';\n",
       "            continue;\n",
       "        }\n",
       "\n",
       "        var button = (fig.buttons[name] = document.createElement('button'));\n",
       "        button.classList = 'mpl-widget';\n",
       "        button.setAttribute('role', 'button');\n",
       "        button.setAttribute('aria-disabled', 'false');\n",
       "        button.addEventListener('click', on_click_closure(method_name));\n",
       "        button.addEventListener('mouseover', on_mouseover_closure(tooltip));\n",
       "\n",
       "        var icon_img = document.createElement('img');\n",
       "        icon_img.src = '_images/' + image + '.png';\n",
       "        icon_img.srcset = '_images/' + image + '_large.png 2x';\n",
       "        icon_img.alt = tooltip;\n",
       "        button.appendChild(icon_img);\n",
       "\n",
       "        buttonGroup.appendChild(button);\n",
       "    }\n",
       "\n",
       "    if (buttonGroup.hasChildNodes()) {\n",
       "        toolbar.appendChild(buttonGroup);\n",
       "    }\n",
       "\n",
       "    var fmt_picker = document.createElement('select');\n",
       "    fmt_picker.classList = 'mpl-widget';\n",
       "    toolbar.appendChild(fmt_picker);\n",
       "    this.format_dropdown = fmt_picker;\n",
       "\n",
       "    for (var ind in mpl.extensions) {\n",
       "        var fmt = mpl.extensions[ind];\n",
       "        var option = document.createElement('option');\n",
       "        option.selected = fmt === mpl.default_extension;\n",
       "        option.innerHTML = fmt;\n",
       "        fmt_picker.appendChild(option);\n",
       "    }\n",
       "\n",
       "    var status_bar = document.createElement('span');\n",
       "    status_bar.classList = 'mpl-message';\n",
       "    toolbar.appendChild(status_bar);\n",
       "    this.message = status_bar;\n",
       "};\n",
       "\n",
       "mpl.figure.prototype.request_resize = function (x_pixels, y_pixels) {\n",
       "    // Request matplotlib to resize the figure. Matplotlib will then trigger a resize in the client,\n",
       "    // which will in turn request a refresh of the image.\n",
       "    this.send_message('resize', { width: x_pixels, height: y_pixels });\n",
       "};\n",
       "\n",
       "mpl.figure.prototype.send_message = function (type, properties) {\n",
       "    properties['type'] = type;\n",
       "    properties['figure_id'] = this.id;\n",
       "    this.ws.send(JSON.stringify(properties));\n",
       "};\n",
       "\n",
       "mpl.figure.prototype.send_draw_message = function () {\n",
       "    if (!this.waiting) {\n",
       "        this.waiting = true;\n",
       "        this.ws.send(JSON.stringify({ type: 'draw', figure_id: this.id }));\n",
       "    }\n",
       "};\n",
       "\n",
       "mpl.figure.prototype.handle_save = function (fig, _msg) {\n",
       "    var format_dropdown = fig.format_dropdown;\n",
       "    var format = format_dropdown.options[format_dropdown.selectedIndex].value;\n",
       "    fig.ondownload(fig, format);\n",
       "};\n",
       "\n",
       "mpl.figure.prototype.handle_resize = function (fig, msg) {\n",
       "    var size = msg['size'];\n",
       "    if (size[0] !== fig.canvas.width || size[1] !== fig.canvas.height) {\n",
       "        fig._resize_canvas(size[0], size[1], msg['forward']);\n",
       "        fig.send_message('refresh', {});\n",
       "    }\n",
       "};\n",
       "\n",
       "mpl.figure.prototype.handle_rubberband = function (fig, msg) {\n",
       "    var x0 = msg['x0'] / fig.ratio;\n",
       "    var y0 = (fig.canvas.height - msg['y0']) / fig.ratio;\n",
       "    var x1 = msg['x1'] / fig.ratio;\n",
       "    var y1 = (fig.canvas.height - msg['y1']) / fig.ratio;\n",
       "    x0 = Math.floor(x0) + 0.5;\n",
       "    y0 = Math.floor(y0) + 0.5;\n",
       "    x1 = Math.floor(x1) + 0.5;\n",
       "    y1 = Math.floor(y1) + 0.5;\n",
       "    var min_x = Math.min(x0, x1);\n",
       "    var min_y = Math.min(y0, y1);\n",
       "    var width = Math.abs(x1 - x0);\n",
       "    var height = Math.abs(y1 - y0);\n",
       "\n",
       "    fig.rubberband_context.clearRect(\n",
       "        0,\n",
       "        0,\n",
       "        fig.canvas.width / fig.ratio,\n",
       "        fig.canvas.height / fig.ratio\n",
       "    );\n",
       "\n",
       "    fig.rubberband_context.strokeRect(min_x, min_y, width, height);\n",
       "};\n",
       "\n",
       "mpl.figure.prototype.handle_figure_label = function (fig, msg) {\n",
       "    // Updates the figure title.\n",
       "    fig.header.textContent = msg['label'];\n",
       "};\n",
       "\n",
       "mpl.figure.prototype.handle_cursor = function (fig, msg) {\n",
       "    var cursor = msg['cursor'];\n",
       "    switch (cursor) {\n",
       "        case 0:\n",
       "            cursor = 'pointer';\n",
       "            break;\n",
       "        case 1:\n",
       "            cursor = 'default';\n",
       "            break;\n",
       "        case 2:\n",
       "            cursor = 'crosshair';\n",
       "            break;\n",
       "        case 3:\n",
       "            cursor = 'move';\n",
       "            break;\n",
       "    }\n",
       "    fig.rubberband_canvas.style.cursor = cursor;\n",
       "};\n",
       "\n",
       "mpl.figure.prototype.handle_message = function (fig, msg) {\n",
       "    fig.message.textContent = msg['message'];\n",
       "};\n",
       "\n",
       "mpl.figure.prototype.handle_draw = function (fig, _msg) {\n",
       "    // Request the server to send over a new figure.\n",
       "    fig.send_draw_message();\n",
       "};\n",
       "\n",
       "mpl.figure.prototype.handle_image_mode = function (fig, msg) {\n",
       "    fig.image_mode = msg['mode'];\n",
       "};\n",
       "\n",
       "mpl.figure.prototype.handle_history_buttons = function (fig, msg) {\n",
       "    for (var key in msg) {\n",
       "        if (!(key in fig.buttons)) {\n",
       "            continue;\n",
       "        }\n",
       "        fig.buttons[key].disabled = !msg[key];\n",
       "        fig.buttons[key].setAttribute('aria-disabled', !msg[key]);\n",
       "    }\n",
       "};\n",
       "\n",
       "mpl.figure.prototype.handle_navigate_mode = function (fig, msg) {\n",
       "    if (msg['mode'] === 'PAN') {\n",
       "        fig.buttons['Pan'].classList.add('active');\n",
       "        fig.buttons['Zoom'].classList.remove('active');\n",
       "    } else if (msg['mode'] === 'ZOOM') {\n",
       "        fig.buttons['Pan'].classList.remove('active');\n",
       "        fig.buttons['Zoom'].classList.add('active');\n",
       "    } else {\n",
       "        fig.buttons['Pan'].classList.remove('active');\n",
       "        fig.buttons['Zoom'].classList.remove('active');\n",
       "    }\n",
       "};\n",
       "\n",
       "mpl.figure.prototype.updated_canvas_event = function () {\n",
       "    // Called whenever the canvas gets updated.\n",
       "    this.send_message('ack', {});\n",
       "};\n",
       "\n",
       "// A function to construct a web socket function for onmessage handling.\n",
       "// Called in the figure constructor.\n",
       "mpl.figure.prototype._make_on_message_function = function (fig) {\n",
       "    return function socket_on_message(evt) {\n",
       "        if (evt.data instanceof Blob) {\n",
       "            var img = evt.data;\n",
       "            if (img.type !== 'image/png') {\n",
       "                /* FIXME: We get \"Resource interpreted as Image but\n",
       "                 * transferred with MIME type text/plain:\" errors on\n",
       "                 * Chrome.  But how to set the MIME type?  It doesn't seem\n",
       "                 * to be part of the websocket stream */\n",
       "                img.type = 'image/png';\n",
       "            }\n",
       "\n",
       "            /* Free the memory for the previous frames */\n",
       "            if (fig.imageObj.src) {\n",
       "                (window.URL || window.webkitURL).revokeObjectURL(\n",
       "                    fig.imageObj.src\n",
       "                );\n",
       "            }\n",
       "\n",
       "            fig.imageObj.src = (window.URL || window.webkitURL).createObjectURL(\n",
       "                img\n",
       "            );\n",
       "            fig.updated_canvas_event();\n",
       "            fig.waiting = false;\n",
       "            return;\n",
       "        } else if (\n",
       "            typeof evt.data === 'string' &&\n",
       "            evt.data.slice(0, 21) === 'data:image/png;base64'\n",
       "        ) {\n",
       "            fig.imageObj.src = evt.data;\n",
       "            fig.updated_canvas_event();\n",
       "            fig.waiting = false;\n",
       "            return;\n",
       "        }\n",
       "\n",
       "        var msg = JSON.parse(evt.data);\n",
       "        var msg_type = msg['type'];\n",
       "\n",
       "        // Call the  \"handle_{type}\" callback, which takes\n",
       "        // the figure and JSON message as its only arguments.\n",
       "        try {\n",
       "            var callback = fig['handle_' + msg_type];\n",
       "        } catch (e) {\n",
       "            console.log(\n",
       "                \"No handler for the '\" + msg_type + \"' message type: \",\n",
       "                msg\n",
       "            );\n",
       "            return;\n",
       "        }\n",
       "\n",
       "        if (callback) {\n",
       "            try {\n",
       "                // console.log(\"Handling '\" + msg_type + \"' message: \", msg);\n",
       "                callback(fig, msg);\n",
       "            } catch (e) {\n",
       "                console.log(\n",
       "                    \"Exception inside the 'handler_\" + msg_type + \"' callback:\",\n",
       "                    e,\n",
       "                    e.stack,\n",
       "                    msg\n",
       "                );\n",
       "            }\n",
       "        }\n",
       "    };\n",
       "};\n",
       "\n",
       "// from http://stackoverflow.com/questions/1114465/getting-mouse-location-in-canvas\n",
       "mpl.findpos = function (e) {\n",
       "    //this section is from http://www.quirksmode.org/js/events_properties.html\n",
       "    var targ;\n",
       "    if (!e) {\n",
       "        e = window.event;\n",
       "    }\n",
       "    if (e.target) {\n",
       "        targ = e.target;\n",
       "    } else if (e.srcElement) {\n",
       "        targ = e.srcElement;\n",
       "    }\n",
       "    if (targ.nodeType === 3) {\n",
       "        // defeat Safari bug\n",
       "        targ = targ.parentNode;\n",
       "    }\n",
       "\n",
       "    // pageX,Y are the mouse positions relative to the document\n",
       "    var boundingRect = targ.getBoundingClientRect();\n",
       "    var x = e.pageX - (boundingRect.left + document.body.scrollLeft);\n",
       "    var y = e.pageY - (boundingRect.top + document.body.scrollTop);\n",
       "\n",
       "    return { x: x, y: y };\n",
       "};\n",
       "\n",
       "/*\n",
       " * return a copy of an object with only non-object keys\n",
       " * we need this to avoid circular references\n",
       " * http://stackoverflow.com/a/24161582/3208463\n",
       " */\n",
       "function simpleKeys(original) {\n",
       "    return Object.keys(original).reduce(function (obj, key) {\n",
       "        if (typeof original[key] !== 'object') {\n",
       "            obj[key] = original[key];\n",
       "        }\n",
       "        return obj;\n",
       "    }, {});\n",
       "}\n",
       "\n",
       "mpl.figure.prototype.mouse_event = function (event, name) {\n",
       "    var canvas_pos = mpl.findpos(event);\n",
       "\n",
       "    if (name === 'button_press') {\n",
       "        this.canvas.focus();\n",
       "        this.canvas_div.focus();\n",
       "    }\n",
       "\n",
       "    var x = canvas_pos.x * this.ratio;\n",
       "    var y = canvas_pos.y * this.ratio;\n",
       "\n",
       "    this.send_message(name, {\n",
       "        x: x,\n",
       "        y: y,\n",
       "        button: event.button,\n",
       "        step: event.step,\n",
       "        guiEvent: simpleKeys(event),\n",
       "    });\n",
       "\n",
       "    /* This prevents the web browser from automatically changing to\n",
       "     * the text insertion cursor when the button is pressed.  We want\n",
       "     * to control all of the cursor setting manually through the\n",
       "     * 'cursor' event from matplotlib */\n",
       "    event.preventDefault();\n",
       "    return false;\n",
       "};\n",
       "\n",
       "mpl.figure.prototype._key_event_extra = function (_event, _name) {\n",
       "    // Handle any extra behaviour associated with a key event\n",
       "};\n",
       "\n",
       "mpl.figure.prototype.key_event = function (event, name) {\n",
       "    // Prevent repeat events\n",
       "    if (name === 'key_press') {\n",
       "        if (event.key === this._key) {\n",
       "            return;\n",
       "        } else {\n",
       "            this._key = event.key;\n",
       "        }\n",
       "    }\n",
       "    if (name === 'key_release') {\n",
       "        this._key = null;\n",
       "    }\n",
       "\n",
       "    var value = '';\n",
       "    if (event.ctrlKey && event.key !== 'Control') {\n",
       "        value += 'ctrl+';\n",
       "    }\n",
       "    else if (event.altKey && event.key !== 'Alt') {\n",
       "        value += 'alt+';\n",
       "    }\n",
       "    else if (event.shiftKey && event.key !== 'Shift') {\n",
       "        value += 'shift+';\n",
       "    }\n",
       "\n",
       "    value += 'k' + event.key;\n",
       "\n",
       "    this._key_event_extra(event, name);\n",
       "\n",
       "    this.send_message(name, { key: value, guiEvent: simpleKeys(event) });\n",
       "    return false;\n",
       "};\n",
       "\n",
       "mpl.figure.prototype.toolbar_button_onclick = function (name) {\n",
       "    if (name === 'download') {\n",
       "        this.handle_save(this, null);\n",
       "    } else {\n",
       "        this.send_message('toolbar_button', { name: name });\n",
       "    }\n",
       "};\n",
       "\n",
       "mpl.figure.prototype.toolbar_button_onmouseover = function (tooltip) {\n",
       "    this.message.textContent = tooltip;\n",
       "};\n",
       "\n",
       "///////////////// REMAINING CONTENT GENERATED BY embed_js.py /////////////////\n",
       "// prettier-ignore\n",
       "var _JSXTOOLS_RESIZE_OBSERVER=function(A){var t,i=new WeakMap,n=new WeakMap,a=new WeakMap,r=new WeakMap,o=new Set;function s(e){if(!(this instanceof s))throw new TypeError(\"Constructor requires 'new' operator\");i.set(this,e)}function h(){throw new TypeError(\"Function is not a constructor\")}function c(e,t,i,n){e=0 in arguments?Number(arguments[0]):0,t=1 in arguments?Number(arguments[1]):0,i=2 in arguments?Number(arguments[2]):0,n=3 in arguments?Number(arguments[3]):0,this.right=(this.x=this.left=e)+(this.width=i),this.bottom=(this.y=this.top=t)+(this.height=n),Object.freeze(this)}function d(){t=requestAnimationFrame(d);var s=new WeakMap,p=new Set;o.forEach((function(t){r.get(t).forEach((function(i){var r=t instanceof window.SVGElement,o=a.get(t),d=r?0:parseFloat(o.paddingTop),f=r?0:parseFloat(o.paddingRight),l=r?0:parseFloat(o.paddingBottom),u=r?0:parseFloat(o.paddingLeft),g=r?0:parseFloat(o.borderTopWidth),m=r?0:parseFloat(o.borderRightWidth),w=r?0:parseFloat(o.borderBottomWidth),b=u+f,F=d+l,v=(r?0:parseFloat(o.borderLeftWidth))+m,W=g+w,y=r?0:t.offsetHeight-W-t.clientHeight,E=r?0:t.offsetWidth-v-t.clientWidth,R=b+v,z=F+W,M=r?t.width:parseFloat(o.width)-R-E,O=r?t.height:parseFloat(o.height)-z-y;if(n.has(t)){var k=n.get(t);if(k[0]===M&&k[1]===O)return}n.set(t,[M,O]);var S=Object.create(h.prototype);S.target=t,S.contentRect=new c(u,d,M,O),s.has(i)||(s.set(i,[]),p.add(i)),s.get(i).push(S)}))})),p.forEach((function(e){i.get(e).call(e,s.get(e),e)}))}return s.prototype.observe=function(i){if(i instanceof window.Element){r.has(i)||(r.set(i,new Set),o.add(i),a.set(i,window.getComputedStyle(i)));var n=r.get(i);n.has(this)||n.add(this),cancelAnimationFrame(t),t=requestAnimationFrame(d)}},s.prototype.unobserve=function(i){if(i instanceof window.Element&&r.has(i)){var n=r.get(i);n.has(this)&&(n.delete(this),n.size||(r.delete(i),o.delete(i))),n.size||r.delete(i),o.size||cancelAnimationFrame(t)}},A.DOMRectReadOnly=c,A.ResizeObserver=s,A.ResizeObserverEntry=h,A}; // eslint-disable-line\n",
       "mpl.toolbar_items = [[\"Home\", \"Reset original view\", \"fa fa-home icon-home\", \"home\"], [\"Back\", \"Back to previous view\", \"fa fa-arrow-left icon-arrow-left\", \"back\"], [\"Forward\", \"Forward to next view\", \"fa fa-arrow-right icon-arrow-right\", \"forward\"], [\"\", \"\", \"\", \"\"], [\"Pan\", \"Left button pans, Right button zooms\\nx/y fixes axis, CTRL fixes aspect\", \"fa fa-arrows icon-move\", \"pan\"], [\"Zoom\", \"Zoom to rectangle\\nx/y fixes axis, CTRL fixes aspect\", \"fa fa-square-o icon-check-empty\", \"zoom\"], [\"\", \"\", \"\", \"\"], [\"Download\", \"Download plot\", \"fa fa-floppy-o icon-save\", \"download\"]];\n",
       "\n",
       "mpl.extensions = [\"eps\", \"jpeg\", \"pgf\", \"pdf\", \"png\", \"ps\", \"raw\", \"svg\", \"tif\"];\n",
       "\n",
       "mpl.default_extension = \"png\";/* global mpl */\n",
       "\n",
       "var comm_websocket_adapter = function (comm) {\n",
       "    // Create a \"websocket\"-like object which calls the given IPython comm\n",
       "    // object with the appropriate methods. Currently this is a non binary\n",
       "    // socket, so there is still some room for performance tuning.\n",
       "    var ws = {};\n",
       "\n",
       "    ws.binaryType = comm.kernel.ws.binaryType;\n",
       "    ws.readyState = comm.kernel.ws.readyState;\n",
       "    function updateReadyState(_event) {\n",
       "        if (comm.kernel.ws) {\n",
       "            ws.readyState = comm.kernel.ws.readyState;\n",
       "        } else {\n",
       "            ws.readyState = 3; // Closed state.\n",
       "        }\n",
       "    }\n",
       "    comm.kernel.ws.addEventListener('open', updateReadyState);\n",
       "    comm.kernel.ws.addEventListener('close', updateReadyState);\n",
       "    comm.kernel.ws.addEventListener('error', updateReadyState);\n",
       "\n",
       "    ws.close = function () {\n",
       "        comm.close();\n",
       "    };\n",
       "    ws.send = function (m) {\n",
       "        //console.log('sending', m);\n",
       "        comm.send(m);\n",
       "    };\n",
       "    // Register the callback with on_msg.\n",
       "    comm.on_msg(function (msg) {\n",
       "        //console.log('receiving', msg['content']['data'], msg);\n",
       "        var data = msg['content']['data'];\n",
       "        if (data['blob'] !== undefined) {\n",
       "            data = {\n",
       "                data: new Blob(msg['buffers'], { type: data['blob'] }),\n",
       "            };\n",
       "        }\n",
       "        // Pass the mpl event to the overridden (by mpl) onmessage function.\n",
       "        ws.onmessage(data);\n",
       "    });\n",
       "    return ws;\n",
       "};\n",
       "\n",
       "mpl.mpl_figure_comm = function (comm, msg) {\n",
       "    // This is the function which gets called when the mpl process\n",
       "    // starts-up an IPython Comm through the \"matplotlib\" channel.\n",
       "\n",
       "    var id = msg.content.data.id;\n",
       "    // Get hold of the div created by the display call when the Comm\n",
       "    // socket was opened in Python.\n",
       "    var element = document.getElementById(id);\n",
       "    var ws_proxy = comm_websocket_adapter(comm);\n",
       "\n",
       "    function ondownload(figure, _format) {\n",
       "        window.open(figure.canvas.toDataURL());\n",
       "    }\n",
       "\n",
       "    var fig = new mpl.figure(id, ws_proxy, ondownload, element);\n",
       "\n",
       "    // Call onopen now - mpl needs it, as it is assuming we've passed it a real\n",
       "    // web socket which is closed, not our websocket->open comm proxy.\n",
       "    ws_proxy.onopen();\n",
       "\n",
       "    fig.parent_element = element;\n",
       "    fig.cell_info = mpl.find_output_cell(\"<div id='\" + id + \"'></div>\");\n",
       "    if (!fig.cell_info) {\n",
       "        console.error('Failed to find cell for figure', id, fig);\n",
       "        return;\n",
       "    }\n",
       "    fig.cell_info[0].output_area.element.on(\n",
       "        'cleared',\n",
       "        { fig: fig },\n",
       "        fig._remove_fig_handler\n",
       "    );\n",
       "};\n",
       "\n",
       "mpl.figure.prototype.handle_close = function (fig, msg) {\n",
       "    var width = fig.canvas.width / fig.ratio;\n",
       "    fig.cell_info[0].output_area.element.off(\n",
       "        'cleared',\n",
       "        fig._remove_fig_handler\n",
       "    );\n",
       "    fig.resizeObserverInstance.unobserve(fig.canvas_div);\n",
       "\n",
       "    // Update the output cell to use the data from the current canvas.\n",
       "    fig.push_to_output();\n",
       "    var dataURL = fig.canvas.toDataURL();\n",
       "    // Re-enable the keyboard manager in IPython - without this line, in FF,\n",
       "    // the notebook keyboard shortcuts fail.\n",
       "    IPython.keyboard_manager.enable();\n",
       "    fig.parent_element.innerHTML =\n",
       "        '<img src=\"' + dataURL + '\" width=\"' + width + '\">';\n",
       "    fig.close_ws(fig, msg);\n",
       "};\n",
       "\n",
       "mpl.figure.prototype.close_ws = function (fig, msg) {\n",
       "    fig.send_message('closing', msg);\n",
       "    // fig.ws.close()\n",
       "};\n",
       "\n",
       "mpl.figure.prototype.push_to_output = function (_remove_interactive) {\n",
       "    // Turn the data on the canvas into data in the output cell.\n",
       "    var width = this.canvas.width / this.ratio;\n",
       "    var dataURL = this.canvas.toDataURL();\n",
       "    this.cell_info[1]['text/html'] =\n",
       "        '<img src=\"' + dataURL + '\" width=\"' + width + '\">';\n",
       "};\n",
       "\n",
       "mpl.figure.prototype.updated_canvas_event = function () {\n",
       "    // Tell IPython that the notebook contents must change.\n",
       "    IPython.notebook.set_dirty(true);\n",
       "    this.send_message('ack', {});\n",
       "    var fig = this;\n",
       "    // Wait a second, then push the new image to the DOM so\n",
       "    // that it is saved nicely (might be nice to debounce this).\n",
       "    setTimeout(function () {\n",
       "        fig.push_to_output();\n",
       "    }, 1000);\n",
       "};\n",
       "\n",
       "mpl.figure.prototype._init_toolbar = function () {\n",
       "    var fig = this;\n",
       "\n",
       "    var toolbar = document.createElement('div');\n",
       "    toolbar.classList = 'btn-toolbar';\n",
       "    this.root.appendChild(toolbar);\n",
       "\n",
       "    function on_click_closure(name) {\n",
       "        return function (_event) {\n",
       "            return fig.toolbar_button_onclick(name);\n",
       "        };\n",
       "    }\n",
       "\n",
       "    function on_mouseover_closure(tooltip) {\n",
       "        return function (event) {\n",
       "            if (!event.currentTarget.disabled) {\n",
       "                return fig.toolbar_button_onmouseover(tooltip);\n",
       "            }\n",
       "        };\n",
       "    }\n",
       "\n",
       "    fig.buttons = {};\n",
       "    var buttonGroup = document.createElement('div');\n",
       "    buttonGroup.classList = 'btn-group';\n",
       "    var button;\n",
       "    for (var toolbar_ind in mpl.toolbar_items) {\n",
       "        var name = mpl.toolbar_items[toolbar_ind][0];\n",
       "        var tooltip = mpl.toolbar_items[toolbar_ind][1];\n",
       "        var image = mpl.toolbar_items[toolbar_ind][2];\n",
       "        var method_name = mpl.toolbar_items[toolbar_ind][3];\n",
       "\n",
       "        if (!name) {\n",
       "            /* Instead of a spacer, we start a new button group. */\n",
       "            if (buttonGroup.hasChildNodes()) {\n",
       "                toolbar.appendChild(buttonGroup);\n",
       "            }\n",
       "            buttonGroup = document.createElement('div');\n",
       "            buttonGroup.classList = 'btn-group';\n",
       "            continue;\n",
       "        }\n",
       "\n",
       "        button = fig.buttons[name] = document.createElement('button');\n",
       "        button.classList = 'btn btn-default';\n",
       "        button.href = '#';\n",
       "        button.title = name;\n",
       "        button.innerHTML = '<i class=\"fa ' + image + ' fa-lg\"></i>';\n",
       "        button.addEventListener('click', on_click_closure(method_name));\n",
       "        button.addEventListener('mouseover', on_mouseover_closure(tooltip));\n",
       "        buttonGroup.appendChild(button);\n",
       "    }\n",
       "\n",
       "    if (buttonGroup.hasChildNodes()) {\n",
       "        toolbar.appendChild(buttonGroup);\n",
       "    }\n",
       "\n",
       "    // Add the status bar.\n",
       "    var status_bar = document.createElement('span');\n",
       "    status_bar.classList = 'mpl-message pull-right';\n",
       "    toolbar.appendChild(status_bar);\n",
       "    this.message = status_bar;\n",
       "\n",
       "    // Add the close button to the window.\n",
       "    var buttongrp = document.createElement('div');\n",
       "    buttongrp.classList = 'btn-group inline pull-right';\n",
       "    button = document.createElement('button');\n",
       "    button.classList = 'btn btn-mini btn-primary';\n",
       "    button.href = '#';\n",
       "    button.title = 'Stop Interaction';\n",
       "    button.innerHTML = '<i class=\"fa fa-power-off icon-remove icon-large\"></i>';\n",
       "    button.addEventListener('click', function (_evt) {\n",
       "        fig.handle_close(fig, {});\n",
       "    });\n",
       "    button.addEventListener(\n",
       "        'mouseover',\n",
       "        on_mouseover_closure('Stop Interaction')\n",
       "    );\n",
       "    buttongrp.appendChild(button);\n",
       "    var titlebar = this.root.querySelector('.ui-dialog-titlebar');\n",
       "    titlebar.insertBefore(buttongrp, titlebar.firstChild);\n",
       "};\n",
       "\n",
       "mpl.figure.prototype._remove_fig_handler = function (event) {\n",
       "    var fig = event.data.fig;\n",
       "    if (event.target !== this) {\n",
       "        // Ignore bubbled events from children.\n",
       "        return;\n",
       "    }\n",
       "    fig.close_ws(fig, {});\n",
       "};\n",
       "\n",
       "mpl.figure.prototype._root_extra_style = function (el) {\n",
       "    el.style.boxSizing = 'content-box'; // override notebook setting of border-box.\n",
       "};\n",
       "\n",
       "mpl.figure.prototype._canvas_extra_style = function (el) {\n",
       "    // this is important to make the div 'focusable\n",
       "    el.setAttribute('tabindex', 0);\n",
       "    // reach out to IPython and tell the keyboard manager to turn it's self\n",
       "    // off when our div gets focus\n",
       "\n",
       "    // location in version 3\n",
       "    if (IPython.notebook.keyboard_manager) {\n",
       "        IPython.notebook.keyboard_manager.register_events(el);\n",
       "    } else {\n",
       "        // location in version 2\n",
       "        IPython.keyboard_manager.register_events(el);\n",
       "    }\n",
       "};\n",
       "\n",
       "mpl.figure.prototype._key_event_extra = function (event, _name) {\n",
       "    var manager = IPython.notebook.keyboard_manager;\n",
       "    if (!manager) {\n",
       "        manager = IPython.keyboard_manager;\n",
       "    }\n",
       "\n",
       "    // Check for shift+enter\n",
       "    if (event.shiftKey && event.which === 13) {\n",
       "        this.canvas_div.blur();\n",
       "        // select the cell after this one\n",
       "        var index = IPython.notebook.find_cell_index(this.cell_info[0]);\n",
       "        IPython.notebook.select(index + 1);\n",
       "    }\n",
       "};\n",
       "\n",
       "mpl.figure.prototype.handle_save = function (fig, _msg) {\n",
       "    fig.ondownload(fig, null);\n",
       "};\n",
       "\n",
       "mpl.find_output_cell = function (html_output) {\n",
       "    // Return the cell and output element which can be found *uniquely* in the notebook.\n",
       "    // Note - this is a bit hacky, but it is done because the \"notebook_saving.Notebook\"\n",
       "    // IPython event is triggered only after the cells have been serialised, which for\n",
       "    // our purposes (turning an active figure into a static one), is too late.\n",
       "    var cells = IPython.notebook.get_cells();\n",
       "    var ncells = cells.length;\n",
       "    for (var i = 0; i < ncells; i++) {\n",
       "        var cell = cells[i];\n",
       "        if (cell.cell_type === 'code') {\n",
       "            for (var j = 0; j < cell.output_area.outputs.length; j++) {\n",
       "                var data = cell.output_area.outputs[j];\n",
       "                if (data.data) {\n",
       "                    // IPython >= 3 moved mimebundle to data attribute of output\n",
       "                    data = data.data;\n",
       "                }\n",
       "                if (data['text/html'] === html_output) {\n",
       "                    return [cell, data, j];\n",
       "                }\n",
       "            }\n",
       "        }\n",
       "    }\n",
       "};\n",
       "\n",
       "// Register the function which deals with the matplotlib target/channel.\n",
       "// The kernel may be null if the page has been refreshed.\n",
       "if (IPython.notebook.kernel !== null) {\n",
       "    IPython.notebook.kernel.comm_manager.register_target(\n",
       "        'matplotlib',\n",
       "        mpl.mpl_figure_comm\n",
       "    );\n",
       "}\n"
      ],
      "text/plain": [
       "<IPython.core.display.Javascript object>"
      ]
     },
     "metadata": {},
     "output_type": "display_data"
    },
    {
     "data": {
      "text/html": [
       "<img src=\"data:image/png;base64,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\" width=\"831.5384920391117\">"
      ],
      "text/plain": [
       "<IPython.core.display.HTML object>"
      ]
     },
     "metadata": {},
     "output_type": "display_data"
    },
    {
     "data": {
      "text/plain": [
       "<matplotlib.legend.Legend at 0x2d8bb0106d0>"
      ]
     },
     "execution_count": 162,
     "metadata": {},
     "output_type": "execute_result"
    }
   ],
   "source": [
    "# 示例:随机漫步\n",
    "# 从0开始,步进为1或-,且两种步进概率相等\n",
    "\n",
    "# 纯python实现\n",
    "%matplotlib notebook\n",
    "import random\n",
    "import matplotlib.pyplot as plt\n",
    "position = 0\n",
    "walk = [position]\n",
    "steps = 100\n",
    "for i in range(steps):\n",
    "    step = 1 if random.randint(0, 1) else -1\n",
    "    position += step\n",
    "    walk.append(position)\n",
    "plt.plot(walk[:], label=\"python\")\n",
    "plt.legend(loc='best')"
   ]
  },
  {
   "cell_type": "code",
   "execution_count": 163,
   "metadata": {},
   "outputs": [
    {
     "data": {
      "text/plain": [
       "<matplotlib.legend.Legend at 0x2d8b46f34f0>"
      ]
     },
     "execution_count": 163,
     "metadata": {},
     "output_type": "execute_result"
    }
   ],
   "source": [
    "# numpy 实现\n",
    "import numpy as np\n",
    "import matplotlib.pyplot as plt\n",
    "nsteps = 100\n",
    "arr = np.random.randint(0, 2, size=nsteps)\n",
    "steps = np.where(arr > 0, 1, -1)\n",
    "walk = steps.cumsum()\n",
    "plt.plot(walk[:], label=\"numpy\")\n",
    "plt.legend(loc='best')"
   ]
  },
  {
   "cell_type": "code",
   "execution_count": 164,
   "metadata": {},
   "outputs": [
    {
     "data": {
      "text/plain": [
       "-21"
      ]
     },
     "execution_count": 164,
     "metadata": {},
     "output_type": "execute_result"
    }
   ],
   "source": [
    "# 其他统计信息\n",
    "walk.min()"
   ]
  },
  {
   "cell_type": "code",
   "execution_count": 165,
   "metadata": {},
   "outputs": [
    {
     "data": {
      "text/plain": [
       "0"
      ]
     },
     "execution_count": 165,
     "metadata": {},
     "output_type": "execute_result"
    }
   ],
   "source": [
    "walk.max()"
   ]
  },
  {
   "cell_type": "code",
   "execution_count": 166,
   "metadata": {},
   "outputs": [
    {
     "data": {
      "text/plain": [
       "array([[1, 2, 3],\n",
       "       [4, 5, 6]])"
      ]
     },
     "execution_count": 166,
     "metadata": {},
     "output_type": "execute_result"
    }
   ],
   "source": [
    "# 线性代数 linear algebra\n",
    "# numpy的线性代数中*是矩阵的逐元素乘积,而不是矩阵的点乘积,numpy的 dot() 函数用于矩阵操作\n",
    "x = np.array([\n",
    "    [1, 2, 3],\n",
    "    [4, 5, 6]\n",
    "])\n",
    "x"
   ]
  },
  {
   "cell_type": "code",
   "execution_count": 167,
   "metadata": {},
   "outputs": [
    {
     "data": {
      "text/plain": [
       "array([[ 6, 23],\n",
       "       [-1,  7],\n",
       "       [ 8,  9]])"
      ]
     },
     "execution_count": 167,
     "metadata": {},
     "output_type": "execute_result"
    }
   ],
   "source": [
    "y = np.array([\n",
    "    [6, 23],\n",
    "    [-1, 7],\n",
    "    [8, 9]\n",
    "])\n",
    "y"
   ]
  },
  {
   "cell_type": "code",
   "execution_count": 168,
   "metadata": {},
   "outputs": [
    {
     "data": {
      "text/plain": [
       "array([[ 28,  64],\n",
       "       [ 67, 181]])"
      ]
     },
     "execution_count": 168,
     "metadata": {},
     "output_type": "execute_result"
    }
   ],
   "source": [
    "# 等价于 np.dot(x, y)\n",
    "x.dot(y)"
   ]
  },
  {
   "cell_type": "code",
   "execution_count": 169,
   "metadata": {},
   "outputs": [
    {
     "data": {
      "text/plain": [
       "array([ 6., 15.])"
      ]
     },
     "execution_count": 169,
     "metadata": {},
     "output_type": "execute_result"
    }
   ],
   "source": [
    "# 一个二维数组和一个长度合适的一维数组之间的矩阵乘积结果是一个一维数组\n",
    "np.dot(x, np.ones(3))"
   ]
  },
  {
   "cell_type": "code",
   "execution_count": 170,
   "metadata": {},
   "outputs": [
    {
     "data": {
      "text/plain": [
       "array([ 6., 15.])"
      ]
     },
     "execution_count": 170,
     "metadata": {},
     "output_type": "execute_result"
    }
   ],
   "source": [
    "x @ np.ones(3)"
   ]
  },
  {
   "cell_type": "code",
   "execution_count": 171,
   "metadata": {},
   "outputs": [
    {
     "data": {
      "text/plain": [
       "array([[-1, -4,  1],\n",
       "       [ 1,  3,  0],\n",
       "       [ 0,  0,  2]])"
      ]
     },
     "execution_count": 171,
     "metadata": {},
     "output_type": "execute_result"
    }
   ],
   "source": [
    "# numpy.linalg 拥有一个矩阵分解的标准函数集,以及其他常用函数,例如求逆和行列式求解;\n",
    "X = np.array([\n",
    "    [-1, 1, 0],\n",
    "    [-4, 3, 0],\n",
    "    [1, 0 , 2]\n",
    "])\n",
    "X.T"
   ]
  },
  {
   "cell_type": "code",
   "execution_count": 172,
   "metadata": {},
   "outputs": [
    {
     "data": {
      "text/plain": [
       "1.9999999999999998"
      ]
     },
     "execution_count": 172,
     "metadata": {},
     "output_type": "execute_result"
    }
   ],
   "source": [
    "np.linalg.det(X)"
   ]
  },
  {
   "cell_type": "code",
   "execution_count": 173,
   "metadata": {},
   "outputs": [
    {
     "data": {
      "text/plain": [
       "(array([[-0.26493419,  0.07450021, -0.96138421],\n",
       "        [-0.94758935,  0.16451025,  0.273881  ],\n",
       "        [ 0.17856174,  0.98355788,  0.02701122]]),\n",
       " array([5.26411099, 2.06281675, 0.18418078]),\n",
       " array([[ 0.80428649, -0.59035652,  0.06784118],\n",
       "        [ 0.12168637,  0.27536666,  0.95360664],\n",
       "        [-0.5816491 , -0.75871759,  0.29331202]]))"
      ]
     },
     "execution_count": 173,
     "metadata": {},
     "output_type": "execute_result"
    }
   ],
   "source": [
    "np.linalg.svd(X)"
   ]
  },
  {
   "cell_type": "code",
   "execution_count": 174,
   "metadata": {},
   "outputs": [
    {
     "data": {
      "text/plain": [
       "array([2., 1., 1.])"
      ]
     },
     "execution_count": 174,
     "metadata": {},
     "output_type": "execute_result"
    }
   ],
   "source": [
    "w, v = np.linalg.eig(X)\n",
    "w"
   ]
  },
  {
   "cell_type": "code",
   "execution_count": 175,
   "metadata": {},
   "outputs": [
    {
     "data": {
      "text/plain": [
       "array([[ 0.        ,  0.40824829,  0.40824829],\n",
       "       [ 0.        ,  0.81649658,  0.81649658],\n",
       "       [ 1.        , -0.40824829, -0.40824829]])"
      ]
     },
     "execution_count": 175,
     "metadata": {},
     "output_type": "execute_result"
    }
   ],
   "source": [
    "v"
   ]
  },
  {
   "cell_type": "code",
   "execution_count": 176,
   "metadata": {},
   "outputs": [
    {
     "data": {
      "text/plain": [
       "array([[ 18, -13,   2],\n",
       "       [-13,  10,   0],\n",
       "       [  2,   0,   4]])"
      ]
     },
     "execution_count": 176,
     "metadata": {},
     "output_type": "execute_result"
    }
   ],
   "source": [
    "# dot 矩阵点乘积\n",
    "mat = X.T.dot(X)\n",
    "mat"
   ]
  },
  {
   "cell_type": "code",
   "execution_count": 177,
   "metadata": {},
   "outputs": [
    {
     "data": {
      "text/plain": [
       "array([[10.  , 13.  , -5.  ],\n",
       "       [13.  , 17.  , -6.5 ],\n",
       "       [-5.  , -6.5 ,  2.75]])"
      ]
     },
     "execution_count": 177,
     "metadata": {},
     "output_type": "execute_result"
    }
   ],
   "source": [
    "# inv 方阵求逆矩阵\n",
    "np.linalg.inv(mat)"
   ]
  },
  {
   "cell_type": "code",
   "execution_count": 178,
   "metadata": {},
   "outputs": [
    {
     "data": {
      "text/plain": [
       "array([[ 1.00000000e+00, -8.88178420e-15,  2.04281037e-14],\n",
       "       [ 3.90798505e-14,  1.00000000e+00, -1.95399252e-14],\n",
       "       [-3.55271368e-15,  0.00000000e+00,  1.00000000e+00]])"
      ]
     },
     "execution_count": 178,
     "metadata": {},
     "output_type": "execute_result"
    }
   ],
   "source": [
    "mat.dot(np.linalg.inv(mat))"
   ]
  },
  {
   "cell_type": "code",
   "execution_count": 179,
   "metadata": {},
   "outputs": [
    {
     "data": {
      "text/plain": [
       "array([[-0.80741035, -0.1179821 , -0.57807331],\n",
       "       [ 0.5831297 , -0.30856857, -0.75149531],\n",
       "       [-0.08971226, -0.9438568 ,  0.31794032]])"
      ]
     },
     "execution_count": 179,
     "metadata": {},
     "output_type": "execute_result"
    }
   ],
   "source": [
    "# qr 计算QR分解\n",
    "q, r = np.linalg.qr(mat)\n",
    "q"
   ]
  },
  {
   "cell_type": "code",
   "execution_count": 180,
   "metadata": {},
   "outputs": [
    {
     "data": {
      "text/plain": [
       "array([[-22.29349681,  16.32763147,  -1.97366974],\n",
       "       [  0.        ,  -1.55191839,  -4.01139141],\n",
       "       [  0.        ,   0.        ,   0.11561466]])"
      ]
     },
     "execution_count": 180,
     "metadata": {},
     "output_type": "execute_result"
    }
   ],
   "source": [
    "r"
   ]
  }
 ],
 "metadata": {
  "kernelspec": {
   "display_name": "Python 3",
   "language": "python",
   "name": "python3"
  },
  "language_info": {
   "codemirror_mode": {
    "name": "ipython",
    "version": 3
   },
   "file_extension": ".py",
   "mimetype": "text/x-python",
   "name": "python",
   "nbconvert_exporter": "python",
   "pygments_lexer": "ipython3",
   "version": "3.9.2"
  }
 },
 "nbformat": 4,
 "nbformat_minor": 2
}
