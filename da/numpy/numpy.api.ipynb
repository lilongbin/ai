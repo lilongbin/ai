{
 "cells": [
  {
   "cell_type": "code",
   "execution_count": 14,
   "metadata": {},
   "outputs": [
    {
     "data": {
      "text/plain": [
       "array([[3, 4, 3, 9, 5],\n",
       "       [0, 0, 7, 0, 2],\n",
       "       [2, 2, 1, 4, 0],\n",
       "       [1, 7, 9, 9, 3]])"
      ]
     },
     "execution_count": 14,
     "metadata": {},
     "output_type": "execute_result"
    }
   ],
   "source": [
    "%matplotlib inline\n",
    "# 在notebook中激活matplotlib\n",
    "import numpy as np\n",
    "a = np.random.randint(0,10,size=(4,5))\n",
    "a"
   ]
  },
  {
   "cell_type": "code",
   "execution_count": 5,
   "metadata": {},
   "outputs": [],
   "source": [
    "a = np.array([[5, 8, 1, 4, 4],\n",
    "       [4, 6, 9, 5, 2],\n",
    "       [5, 7, 2, 6, 0],\n",
    "       [2, 7, 7, 2, 3]])"
   ]
  },
  {
   "cell_type": "code",
   "execution_count": 6,
   "metadata": {},
   "outputs": [
    {
     "data": {
      "text/plain": [
       "89"
      ]
     },
     "execution_count": 6,
     "metadata": {},
     "output_type": "execute_result"
    }
   ],
   "source": [
    "\"求和\"\n",
    "# 对数组中的所有元素求和\n",
    "np.sum(a)"
   ]
  },
  {
   "cell_type": "code",
   "execution_count": 7,
   "metadata": {},
   "outputs": [
    {
     "data": {
      "text/plain": [
       "array([22, 26, 20, 21])"
      ]
     },
     "execution_count": 7,
     "metadata": {},
     "output_type": "execute_result"
    }
   ],
   "source": [
    "\"# axis=1对每行求和\"\n",
    "np.sum(a, axis=1)"
   ]
  },
  {
   "cell_type": "code",
   "execution_count": 8,
   "metadata": {},
   "outputs": [
    {
     "data": {
      "text/plain": [
       "array([16, 28, 19, 17,  9])"
      ]
     },
     "execution_count": 8,
     "metadata": {},
     "output_type": "execute_result"
    }
   ],
   "source": [
    "\"# axis=0对每列求和\"\n",
    "np.sum(a, axis=0)"
   ]
  },
  {
   "cell_type": "code",
   "execution_count": 9,
   "metadata": {},
   "outputs": [
    {
     "data": {
      "text/plain": [
       "array([1.1, 1.1, 1.1, 1.1, 1.1, 1.1, 1.1, 1.1, 1.1, 1.1, 1.1, 1.1, 1.1,\n",
       "       1.1, 1.1, 1.1, 1.1, 1.1, 1.1, 1.1, 1.1, 1.1, 1.1, 1.1, 1.1, 1.1,\n",
       "       1.1, 1.1, 1.1, 1.1, 1.1, 1.1, 1.1, 1.1, 1.1, 1.1], dtype=float32)"
      ]
     },
     "execution_count": 9,
     "metadata": {},
     "output_type": "execute_result"
    }
   ],
   "source": [
    "b = np.ones(36, dtype=np.float32) * 1.1\n",
    "b"
   ]
  },
  {
   "cell_type": "code",
   "execution_count": 10,
   "metadata": {},
   "outputs": [
    {
     "data": {
      "text/plain": [
       "39.599995"
      ]
     },
     "execution_count": 10,
     "metadata": {},
     "output_type": "execute_result"
    }
   ],
   "source": [
    "np.sum(b)"
   ]
  },
  {
   "cell_type": "code",
   "execution_count": 11,
   "metadata": {},
   "outputs": [
    {
     "data": {
      "text/plain": [
       "array([[1.1, 1.1, 1.1, 1.1, 1.1, 1.1],\n",
       "       [1.1, 1.1, 1.1, 1.1, 1.1, 1.1],\n",
       "       [1.1, 1.1, 1.1, 1.1, 1.1, 1.1],\n",
       "       [1.1, 1.1, 1.1, 1.1, 1.1, 1.1],\n",
       "       [1.1, 1.1, 1.1, 1.1, 1.1, 1.1],\n",
       "       [1.1, 1.1, 1.1, 1.1, 1.1, 1.1]], dtype=float32)"
      ]
     },
     "execution_count": 11,
     "metadata": {},
     "output_type": "execute_result"
    }
   ],
   "source": [
    "np.sum(b, dtype=np.double)\n",
    "b = np.array(b).reshape((6,6))\n",
    "b"
   ]
  },
  {
   "cell_type": "code",
   "execution_count": 12,
   "metadata": {},
   "outputs": [
    {
     "data": {
      "text/plain": [
       "array([4.4, 5.2, 4. , 4.2])"
      ]
     },
     "execution_count": 12,
     "metadata": {},
     "output_type": "execute_result"
    }
   ],
   "source": [
    "\"平均值\"\n",
    "# 求数组的平均值\n",
    "np.mean(a, axis=1)"
   ]
  },
  {
   "cell_type": "code",
   "execution_count": 13,
   "metadata": {},
   "outputs": [
    {
     "data": {
      "text/plain": [
       "array([1.1, 1.1, 1.1, 1.1, 1.1, 1.1], dtype=float32)"
      ]
     },
     "execution_count": 13,
     "metadata": {},
     "output_type": "execute_result"
    }
   ],
   "source": [
    "np.mean(b, axis=1)"
   ]
  },
  {
   "cell_type": "code",
   "execution_count": 14,
   "metadata": {},
   "outputs": [
    {
     "data": {
      "text/plain": [
       "array([4.  , 7.  , 4.75, 4.25, 2.25])"
      ]
     },
     "execution_count": 14,
     "metadata": {},
     "output_type": "execute_result"
    }
   ],
   "source": [
    "np.mean(a, axis=0)"
   ]
  },
  {
   "cell_type": "code",
   "execution_count": 15,
   "metadata": {},
   "outputs": [
    {
     "data": {
      "text/plain": [
       "1.100000023841858"
      ]
     },
     "execution_count": 15,
     "metadata": {},
     "output_type": "execute_result"
    }
   ],
   "source": [
    "np.mean(b, dtype=np.double)"
   ]
  },
  {
   "cell_type": "code",
   "execution_count": 16,
   "metadata": {},
   "outputs": [
    {
     "data": {
      "text/plain": [
       "array([[1, 4, 4, 5, 8],\n",
       "       [2, 4, 5, 6, 9],\n",
       "       [0, 2, 5, 6, 7],\n",
       "       [2, 2, 3, 7, 7]])"
      ]
     },
     "execution_count": 16,
     "metadata": {},
     "output_type": "execute_result"
    }
   ],
   "source": [
    "np.sort(a, axis=1)"
   ]
  },
  {
   "cell_type": "code",
   "execution_count": 17,
   "metadata": {},
   "outputs": [
    {
     "data": {
      "text/plain": [
       "array([4., 5., 5., 3.])"
      ]
     },
     "execution_count": 17,
     "metadata": {},
     "output_type": "execute_result"
    }
   ],
   "source": [
    "\"中值\"\n",
    "# np.median求sort后的中值，即中位数\n",
    "np.median(a, axis=1)"
   ]
  },
  {
   "cell_type": "code",
   "execution_count": 21,
   "metadata": {},
   "outputs": [
    {
     "data": {
      "text/plain": [
       "array([[2, 6, 1, 2, 0],\n",
       "       [4, 7, 2, 4, 2],\n",
       "       [5, 7, 7, 5, 3],\n",
       "       [5, 8, 9, 6, 4]])"
      ]
     },
     "execution_count": 21,
     "metadata": {},
     "output_type": "execute_result"
    }
   ],
   "source": [
    "np.sort(a, axis=0)"
   ]
  },
  {
   "cell_type": "code",
   "execution_count": 22,
   "metadata": {},
   "outputs": [
    {
     "data": {
      "text/plain": [
       "array([4.5, 7. , 4.5, 4.5, 2.5])"
      ]
     },
     "execution_count": 22,
     "metadata": {},
     "output_type": "execute_result"
    }
   ],
   "source": [
    "np.median(a, axis=0)"
   ]
  },
  {
   "cell_type": "code",
   "execution_count": 23,
   "metadata": {},
   "outputs": [
    {
     "data": {
      "text/plain": [
       "1.1920929e-07"
      ]
     },
     "execution_count": 23,
     "metadata": {},
     "output_type": "execute_result"
    }
   ],
   "source": [
    "\"标准差，方差\"\n",
    "# 标准差\n",
    "np.std(b)"
   ]
  },
  {
   "cell_type": "code",
   "execution_count": 24,
   "metadata": {},
   "outputs": [
    {
     "data": {
      "text/plain": [
       "2.4181604578687494"
      ]
     },
     "execution_count": 24,
     "metadata": {},
     "output_type": "execute_result"
    }
   ],
   "source": [
    "np.std(a)"
   ]
  },
  {
   "cell_type": "code",
   "execution_count": 25,
   "metadata": {},
   "outputs": [
    {
     "data": {
      "text/plain": [
       "5.8475"
      ]
     },
     "execution_count": 25,
     "metadata": {},
     "output_type": "execute_result"
    }
   ],
   "source": [
    "# 方差\n",
    "np.var(a)"
   ]
  },
  {
   "cell_type": "code",
   "execution_count": 26,
   "metadata": {},
   "outputs": [
    {
     "data": {
      "text/plain": [
       "1.4210855e-14"
      ]
     },
     "execution_count": 26,
     "metadata": {},
     "output_type": "execute_result"
    }
   ],
   "source": [
    "np.var(b)"
   ]
  },
  {
   "cell_type": "code",
   "execution_count": 27,
   "metadata": {},
   "outputs": [
    {
     "data": {
      "text/plain": [
       "array([[7., 3., 3., 5.],\n",
       "       [3., 8., 1., 1.],\n",
       "       [8., 1., 7., 8.]])"
      ]
     },
     "execution_count": 27,
     "metadata": {},
     "output_type": "execute_result"
    }
   ],
   "source": [
    "# 更改数组的型\n",
    "a1 = np.floor(10 * np.random.random((3,4)))\n",
    "a1"
   ]
  },
  {
   "cell_type": "code",
   "execution_count": 28,
   "metadata": {},
   "outputs": [
    {
     "data": {
      "text/plain": [
       "(3, 4)"
      ]
     },
     "execution_count": 28,
     "metadata": {},
     "output_type": "execute_result"
    }
   ],
   "source": [
    "a1.shape"
   ]
  },
  {
   "cell_type": "code",
   "execution_count": 29,
   "metadata": {},
   "outputs": [
    {
     "data": {
      "text/plain": [
       "array([7., 3., 3., 5., 3., 8., 1., 1., 8., 1., 7., 8.])"
      ]
     },
     "execution_count": 29,
     "metadata": {},
     "output_type": "execute_result"
    }
   ],
   "source": [
    "\"返回降维后的视图\"\n",
    "# flatten the arrary\n",
    "a1.ravel()"
   ]
  },
  {
   "cell_type": "code",
   "execution_count": 30,
   "metadata": {},
   "outputs": [
    {
     "data": {
      "text/plain": [
       "(6, 2)"
      ]
     },
     "execution_count": 30,
     "metadata": {},
     "output_type": "execute_result"
    }
   ],
   "source": [
    "a1.shape = (6, 2)\n",
    "a1.shape"
   ]
  },
  {
   "cell_type": "code",
   "execution_count": 31,
   "metadata": {},
   "outputs": [
    {
     "data": {
      "text/plain": [
       "array([[7., 3., 3., 1., 8., 7.],\n",
       "       [3., 5., 8., 1., 1., 8.]])"
      ]
     },
     "execution_count": 31,
     "metadata": {},
     "output_type": "execute_result"
    }
   ],
   "source": [
    "\"# 转置\"\n",
    "a1.transpose()"
   ]
  },
  {
   "cell_type": "code",
   "execution_count": 32,
   "metadata": {},
   "outputs": [
    {
     "data": {
      "text/plain": [
       "array([[7., 3., 3.],\n",
       "       [5., 3., 8.],\n",
       "       [1., 1., 8.],\n",
       "       [1., 7., 8.]])"
      ]
     },
     "execution_count": 32,
     "metadata": {},
     "output_type": "execute_result"
    }
   ],
   "source": [
    "a1.reshape((4,3))"
   ]
  },
  {
   "cell_type": "code",
   "execution_count": 33,
   "metadata": {},
   "outputs": [],
   "source": [
    "\"截取原数组中部分数据\"\n",
    "a1.resize(2,6)"
   ]
  },
  {
   "cell_type": "code",
   "execution_count": 34,
   "metadata": {},
   "outputs": [
    {
     "data": {
      "text/plain": [
       "array([[7., 3., 3., 5., 3., 8.],\n",
       "       [1., 1., 8., 1., 7., 8.]])"
      ]
     },
     "execution_count": 34,
     "metadata": {},
     "output_type": "execute_result"
    }
   ],
   "source": [
    "a1"
   ]
  },
  {
   "cell_type": "code",
   "execution_count": 35,
   "metadata": {},
   "outputs": [],
   "source": [
    "# 沿不同轴将数组堆叠在一起\n",
    "a2 = np.floor(10 * np.random.random((2,2)))\n",
    "b2 = np.floor(10 * np.random.random((2,2)))"
   ]
  },
  {
   "cell_type": "code",
   "execution_count": 36,
   "metadata": {},
   "outputs": [
    {
     "data": {
      "text/plain": [
       "array([[6., 6.],\n",
       "       [7., 2.]])"
      ]
     },
     "execution_count": 36,
     "metadata": {},
     "output_type": "execute_result"
    }
   ],
   "source": [
    "a2"
   ]
  },
  {
   "cell_type": "code",
   "execution_count": 37,
   "metadata": {},
   "outputs": [
    {
     "data": {
      "text/plain": [
       "array([[7., 8.],\n",
       "       [6., 9.]])"
      ]
     },
     "execution_count": 37,
     "metadata": {},
     "output_type": "execute_result"
    }
   ],
   "source": [
    "b2"
   ]
  },
  {
   "cell_type": "code",
   "execution_count": 38,
   "metadata": {},
   "outputs": [
    {
     "data": {
      "text/plain": [
       "array([[6., 6.],\n",
       "       [7., 2.],\n",
       "       [7., 8.],\n",
       "       [6., 9.]])"
      ]
     },
     "execution_count": 38,
     "metadata": {},
     "output_type": "execute_result"
    }
   ],
   "source": [
    "\"沿垂直方向堆叠\"\n",
    "\"# vstack 垂直方向堆叠\"\n",
    "tmp = np.vstack((a2, b2))\n",
    "tmp"
   ]
  },
  {
   "cell_type": "code",
   "execution_count": 39,
   "metadata": {},
   "outputs": [
    {
     "data": {
      "text/plain": [
       "array([[6., 6., 7., 8.],\n",
       "       [7., 2., 6., 9.]])"
      ]
     },
     "execution_count": 39,
     "metadata": {},
     "output_type": "execute_result"
    }
   ],
   "source": [
    "\"# hstack 水平方向堆叠\"\n",
    "tmp = np.hstack((a2, b2))\n",
    "tmp"
   ]
  },
  {
   "cell_type": "code",
   "execution_count": 40,
   "metadata": {},
   "outputs": [
    {
     "data": {
      "text/plain": [
       "2.0"
      ]
     },
     "execution_count": 40,
     "metadata": {},
     "output_type": "execute_result"
    }
   ],
   "source": [
    "\"计算数组的最小值\"\n",
    "np.min(a2)"
   ]
  },
  {
   "cell_type": "code",
   "execution_count": 41,
   "metadata": {},
   "outputs": [
    {
     "data": {
      "text/plain": [
       "7.0"
      ]
     },
     "execution_count": 41,
     "metadata": {},
     "output_type": "execute_result"
    }
   ],
   "source": [
    "np.max(a2)"
   ]
  },
  {
   "cell_type": "code",
   "execution_count": 42,
   "metadata": {},
   "outputs": [
    {
     "data": {
      "text/plain": [
       "5.0"
      ]
     },
     "execution_count": 42,
     "metadata": {},
     "output_type": "execute_result"
    }
   ],
   "source": [
    "\"# 计算最大和最小之间的差值\"\n",
    "np.ptp(a2)"
   ]
  },
  {
   "cell_type": "code",
   "execution_count": 43,
   "metadata": {},
   "outputs": [
    {
     "data": {
      "text/plain": [
       "2"
      ]
     },
     "execution_count": 43,
     "metadata": {},
     "output_type": "execute_result"
    }
   ],
   "source": [
    "# 求最值对应的下标\n",
    "np.argmax(a2)"
   ]
  },
  {
   "cell_type": "code",
   "execution_count": 44,
   "metadata": {},
   "outputs": [
    {
     "data": {
      "text/plain": [
       "3"
      ]
     },
     "execution_count": 44,
     "metadata": {},
     "output_type": "execute_result"
    }
   ],
   "source": [
    "np.argmin(a2)"
   ]
  },
  {
   "cell_type": "code",
   "execution_count": 45,
   "metadata": {},
   "outputs": [
    {
     "data": {
      "text/plain": [
       "array([[5, 8, 1, 4, 4],\n",
       "       [4, 6, 9, 5, 2],\n",
       "       [5, 7, 2, 6, 0],\n",
       "       [2, 7, 7, 2, 3]])"
      ]
     },
     "execution_count": 45,
     "metadata": {},
     "output_type": "execute_result"
    }
   ],
   "source": [
    "a"
   ]
  },
  {
   "cell_type": "code",
   "execution_count": 46,
   "metadata": {},
   "outputs": [],
   "source": [
    "\"unravel_index将一维下标转换为多维数组中的下标\"\n",
    "\"# 第一个参数为一维下标值，第二个参数为多为数组的型\"\n",
    "idx = np.unravel_index(2, a.shape)"
   ]
  },
  {
   "cell_type": "code",
   "execution_count": 47,
   "metadata": {},
   "outputs": [
    {
     "data": {
      "text/plain": [
       "(0, 2)"
      ]
     },
     "execution_count": 47,
     "metadata": {},
     "output_type": "execute_result"
    }
   ],
   "source": [
    "idx"
   ]
  },
  {
   "cell_type": "code",
   "execution_count": 48,
   "metadata": {},
   "outputs": [
    {
     "data": {
      "text/plain": [
       "1"
      ]
     },
     "execution_count": 48,
     "metadata": {},
     "output_type": "execute_result"
    }
   ],
   "source": [
    "a[idx]"
   ]
  },
  {
   "cell_type": "code",
   "execution_count": 49,
   "metadata": {},
   "outputs": [
    {
     "data": {
      "text/plain": [
       "array([1, 2, 1, 1], dtype=int32)"
      ]
     },
     "execution_count": 49,
     "metadata": {},
     "output_type": "execute_result"
    }
   ],
   "source": [
    "idx = np.argmax(a, axis=1)\n",
    "idx"
   ]
  },
  {
   "cell_type": "code",
   "execution_count": 50,
   "metadata": {},
   "outputs": [
    {
     "data": {
      "text/plain": [
       "array([8, 9, 7, 7])"
      ]
     },
     "execution_count": 50,
     "metadata": {},
     "output_type": "execute_result"
    }
   ],
   "source": [
    "# 取出每行的最大值\n",
    "a[range(a.shape[0]), idx]"
   ]
  },
  {
   "cell_type": "code",
   "execution_count": 51,
   "metadata": {},
   "outputs": [
    {
     "data": {
      "text/plain": [
       "array([4, 2, 7, 7])"
      ]
     },
     "execution_count": 51,
     "metadata": {},
     "output_type": "execute_result"
    }
   ],
   "source": [
    "a[[0,1,2,3],[3, 4, 1, 1]]"
   ]
  },
  {
   "cell_type": "code",
   "execution_count": 52,
   "metadata": {},
   "outputs": [
    {
     "data": {
      "text/plain": [
       "array([[1, 4, 4, 5, 8],\n",
       "       [2, 4, 5, 6, 9],\n",
       "       [0, 2, 5, 6, 7],\n",
       "       [2, 2, 3, 7, 7]])"
      ]
     },
     "execution_count": 52,
     "metadata": {},
     "output_type": "execute_result"
    }
   ],
   "source": [
    "# 默认对每行排序\n",
    "np.sort(a) # 不会改变原数组，返回副本\n",
    "a.sort()   # 会改变原数组"
   ]
  },
  {
   "cell_type": "code",
   "execution_count": 53,
   "metadata": {},
   "outputs": [
    {
     "data": {
      "text/plain": [
       "array([[2, 6, 1, 2, 0],\n",
       "       [4, 7, 2, 4, 2],\n",
       "       [5, 7, 7, 5, 3],\n",
       "       [5, 8, 9, 6, 4]])"
      ]
     },
     "execution_count": 53,
     "metadata": {},
     "output_type": "execute_result"
    }
   ],
   "source": [
    "# 对每一列排序\n",
    "np.sort(a, axis=0)"
   ]
  },
  {
   "cell_type": "code",
   "execution_count": 54,
   "metadata": {},
   "outputs": [
    {
     "data": {
      "text/plain": [
       "array([[2, 3, 4, 0, 1],\n",
       "       [4, 0, 3, 1, 2],\n",
       "       [4, 2, 0, 3, 1],\n",
       "       [0, 3, 4, 1, 2]], dtype=int32)"
      ]
     },
     "execution_count": 54,
     "metadata": {},
     "output_type": "execute_result"
    }
   ],
   "source": [
    "# argsort 返回排序下标\n",
    "# 即排序后的元素位置对应原数组的小标\n",
    "idx = np.argsort(a)\n",
    "idx"
   ]
  },
  {
   "cell_type": "code",
   "execution_count": 55,
   "metadata": {},
   "outputs": [
    {
     "data": {
      "text/plain": [
       "array([[1, 4, 4, 5, 8],\n",
       "       [2, 4, 5, 6, 9],\n",
       "       [0, 2, 5, 6, 7],\n",
       "       [2, 2, 3, 7, 7]])"
      ]
     },
     "execution_count": 55,
     "metadata": {},
     "output_type": "execute_result"
    }
   ],
   "source": [
    "a1 = np.sort(a, axis=1)\n",
    "a1"
   ]
  },
  {
   "cell_type": "code",
   "execution_count": 56,
   "metadata": {},
   "outputs": [
    {
     "data": {
      "text/plain": [
       "array([4., 5., 5., 3.])"
      ]
     },
     "execution_count": 56,
     "metadata": {},
     "output_type": "execute_result"
    }
   ],
   "source": [
    "# median可以获得数组的中值,中位数\n",
    "# 即对数据排序后中间位置的值\n",
    "np.median(a1, axis=1)"
   ]
  },
  {
   "cell_type": "code",
   "execution_count": 57,
   "metadata": {},
   "outputs": [
    {
     "data": {
      "text/plain": [
       "array([[2, 6, 1, 2, 0],\n",
       "       [4, 7, 2, 4, 2],\n",
       "       [5, 7, 7, 5, 3],\n",
       "       [5, 8, 9, 6, 4]])"
      ]
     },
     "execution_count": 57,
     "metadata": {},
     "output_type": "execute_result"
    }
   ],
   "source": [
    "a0 = np.sort(a, axis=0)\n",
    "a0"
   ]
  },
  {
   "cell_type": "code",
   "execution_count": 58,
   "metadata": {},
   "outputs": [
    {
     "data": {
      "text/plain": [
       "array([4.5, 7. , 4.5, 4.5, 2.5])"
      ]
     },
     "execution_count": 58,
     "metadata": {},
     "output_type": "execute_result"
    }
   ],
   "source": [
    "np.median(a0, axis=0)"
   ]
  },
  {
   "cell_type": "code",
   "execution_count": 4,
   "metadata": {},
   "outputs": [
    {
     "data": {
      "text/latex": [
       "\\[ f(x) = a_nx^n+a_{n-1}x^{n-1}+...+a_2x^2+a_1x+a_0 \\]"
      ],
      "text/plain": [
       "<IPython.core.display.Latex object>"
      ]
     },
     "execution_count": 4,
     "metadata": {},
     "output_type": "execute_result"
    }
   ],
   "source": [
    "\"多项式函数\"\n",
    "\"\"\"多项式函数是变量的整数次幂与系数的乘积之和，可以用下面的数学\n",
    "公式表示\"\"\"\n",
    "from IPython.display import Latex\n",
    "Latex(r\"\\[ f(x) = a_nx^n+a_{n-1}x^{n-1}+...+a_2x^2+a_1x+a_0 \\]\")"
   ]
  },
  {
   "cell_type": "code",
   "execution_count": 5,
   "metadata": {},
   "outputs": [
    {
     "name": "stdout",
     "output_type": "stream",
     "text": [
      "<class 'numpy.lib.polynomial.poly1d'>\n",
      "[ 1.        0.515625  0.125    -0.078125  0.      ]\n"
     ]
    }
   ],
   "source": [
    "\"\"\"由于多项式函数只包含加法和乘法运算，因此它很容易计算，并且可\n",
    "以用于计算其他数学函数的近似值。在NumPy中，多项式函数的系数可\n",
    "以用一维数组表示，例如f(x) = x3 -2x + 1可以用下面的数组表示，其中\n",
    "a[0]是最高次的系数，a[-1]是常数项，注意x2的系数为0\"\"\"\n",
    "\"\"\"可以用poly1d()将系数转换为poly1d(一元多项式)对象，此对象可以\n",
    "像函数一样调用，它返回多项式函数的值\"\"\"\n",
    "import numpy as np\n",
    "\n",
    "# f(x) = x3 -2x + 1\n",
    "a = np.array([1.0, 0, -2, 1])\n",
    "p = np.poly1d(a)\n",
    "print(type(p))\n",
    "print(p(np.linspace(0,1,5)))"
   ]
  },
  {
   "cell_type": "code",
   "execution_count": 60,
   "metadata": {},
   "outputs": [
    {
     "data": {
      "text/plain": [
       "array([0.  , 0.25, 0.5 , 0.75, 1.  ])"
      ]
     },
     "execution_count": 60,
     "metadata": {},
     "output_type": "execute_result"
    }
   ],
   "source": [
    "np.linspace(0, 1, 5)"
   ]
  },
  {
   "cell_type": "code",
   "execution_count": 61,
   "metadata": {},
   "outputs": [
    {
     "data": {
      "text/plain": [
       "array([ 1.      ,  0.515625,  0.125   , -0.078125,  0.      ])"
      ]
     },
     "execution_count": 61,
     "metadata": {},
     "output_type": "execute_result"
    }
   ],
   "source": [
    "p(np.linspace(0, 1, 5))"
   ]
  },
  {
   "cell_type": "code",
   "execution_count": 62,
   "metadata": {},
   "outputs": [
    {
     "data": {
      "text/plain": [
       "poly1d([ 1.,  0., -4.,  2.])"
      ]
     },
     "execution_count": 62,
     "metadata": {},
     "output_type": "execute_result"
    }
   ],
   "source": [
    "\"对poly1d对象进行加减乘除运算相当于对相应的多项式函数进行计算\"\n",
    "# 多项式+-*/\n",
    "p + [-2, 1] # 和p + np.poly1d([-2, 1])相同"
   ]
  },
  {
   "cell_type": "code",
   "execution_count": 63,
   "metadata": {},
   "outputs": [
    {
     "data": {
      "text/plain": [
       "poly1d([ 1.,  0., -4.,  2.,  4., -4.,  1.])"
      ]
     },
     "execution_count": 63,
     "metadata": {},
     "output_type": "execute_result"
    }
   ],
   "source": [
    "\"p*p #两个3次多项式相乘得到一个6次多项式\"\n",
    "p * p"
   ]
  },
  {
   "cell_type": "code",
   "execution_count": 6,
   "metadata": {},
   "outputs": [
    {
     "data": {
      "text/plain": [
       "(poly1d([ 1., -1., -1.]), poly1d([2.]))"
      ]
     },
     "execution_count": 6,
     "metadata": {},
     "output_type": "execute_result"
    }
   ],
   "source": [
    "res = p / [1,1]\n",
    "# 除法返回两个多项式，分别为商和余式\n",
    "res"
   ]
  },
  {
   "cell_type": "code",
   "execution_count": 13,
   "metadata": {},
   "outputs": [
    {
     "name": "stdout",
     "output_type": "stream",
     "text": [
      "   3\n",
      "1 x - 2 x + 1\n",
      "   3\n",
      "1 x - 2 x + 1\n"
     ]
    }
   ],
   "source": [
    "\"将商式和被除式相乘后，再加上余式就等于原来的P\"\n",
    "print(np.poly1d(res[0]) * [1,1] + res[1])\n",
    "print(p)"
   ]
  },
  {
   "cell_type": "code",
   "execution_count": 11,
   "metadata": {},
   "outputs": [
    {
     "data": {
      "text/plain": [
       "poly1d([ 3.,  0., -2.])"
      ]
     },
     "execution_count": 11,
     "metadata": {},
     "output_type": "execute_result"
    }
   ],
   "source": [
    "\"多项式微分和积分\"\n",
    "\"多项式对象的deriv()和integ()方法分别计算多项式函数的微分和积分\"\n",
    "p.deriv()"
   ]
  },
  {
   "cell_type": "code",
   "execution_count": 66,
   "metadata": {},
   "outputs": [
    {
     "data": {
      "text/plain": [
       "poly1d([ 0.25,  0.  , -1.  ,  1.  ,  0.  ])"
      ]
     },
     "execution_count": 66,
     "metadata": {},
     "output_type": "execute_result"
    }
   ],
   "source": [
    "p.integ()"
   ]
  },
  {
   "cell_type": "code",
   "execution_count": 67,
   "metadata": {},
   "outputs": [
    {
     "data": {
      "text/plain": [
       "True"
      ]
     },
     "execution_count": 67,
     "metadata": {},
     "output_type": "execute_result"
    }
   ],
   "source": [
    "p.integ().deriv() == p"
   ]
  },
  {
   "cell_type": "code",
   "execution_count": 68,
   "metadata": {},
   "outputs": [
    {
     "data": {
      "text/plain": [
       "array([-1.61803399,  1.        ,  0.61803399])"
      ]
     },
     "execution_count": 68,
     "metadata": {},
     "output_type": "execute_result"
    }
   ],
   "source": [
    "\"# 多项式的根可以用roots()计算\"\n",
    "r = np.roots(p)\n",
    "r"
   ]
  },
  {
   "cell_type": "code",
   "execution_count": 69,
   "metadata": {},
   "outputs": [
    {
     "data": {
      "text/plain": [
       "array([2.33146835e-15, 4.44089210e-16, 1.11022302e-16])"
      ]
     },
     "execution_count": 69,
     "metadata": {},
     "output_type": "execute_result"
    }
   ],
   "source": [
    "p(r) # 将根带入可得值近似为0"
   ]
  },
  {
   "cell_type": "code",
   "execution_count": 70,
   "metadata": {},
   "outputs": [
    {
     "data": {
      "text/plain": [
       "array([ 1.00000000e+00, -7.77156117e-16, -2.00000000e+00,  1.00000000e+00])"
      ]
     },
     "execution_count": 70,
     "metadata": {},
     "output_type": "execute_result"
    }
   ],
   "source": [
    "\"\"\" 除了使用多项式对象，\n",
    "还可以使用numpy提供的多项式函数对表示多项式系数的数组进行运算\"\"\"\n",
    "\"# poly() 函数可以将根转换为多项式的系数\"\n",
    "np.poly(r)"
   ]
  },
  {
   "cell_type": "code",
   "execution_count": 71,
   "metadata": {},
   "outputs": [
    {
     "data": {
      "text/plain": [
       "array([1, 2, 1])"
      ]
     },
     "execution_count": 71,
     "metadata": {},
     "output_type": "execute_result"
    }
   ],
   "source": [
    "# 根据系数乘积得到一个新的多项式\n",
    "np.polymul([1,1], [1,1])"
   ]
  },
  {
   "cell_type": "code",
   "execution_count": 72,
   "metadata": {},
   "outputs": [],
   "source": [
    "# np.poly按Tab键可以看到还有更多的多项式函数\n",
    "\"# polyfit()函数可以对一组数据使用多项式函数进行拟合\"\n",
    "# 这组数据是最接近多项式的系数\n"
   ]
  },
  {
   "cell_type": "code",
   "execution_count": 16,
   "metadata": {},
   "outputs": [
    {
     "name": "stdout",
     "output_type": "stream",
     "text": [
      "poly 3:  [-1.45021094e-01  1.01610165e-16  9.88749145e-01 -3.08569605e-18]\n",
      "max error of order 3:  0.008946993767073086\n",
      "poly 5:  [ 7.57279944e-03 -1.10279937e-16 -1.65823793e-01  8.67278924e-17\n",
      "  9.99770071e-01 -1.32558826e-17]\n",
      "max error of order 5:  0.0001574086141711284\n",
      "poly 7:  [-1.84445514e-04 -2.68047152e-17  8.30942467e-03  8.28462769e-17\n",
      " -1.66651593e-01 -2.06395835e-17  9.99997468e-01  1.22321328e-17]\n",
      "max error of order 7:  1.5268255806333286e-06\n"
     ]
    },
    {
     "data": {
      "image/png": "[encoded data removed]",
      "text/plain": [
       "<matplotlib.figure.Figure at 0x6a7ecd0>"
      ]
     },
     "metadata": {},
     "output_type": "display_data"
    }
   ],
   "source": [
    "\"# 计算 -pi/2 ~  pi/2区间与sin(x)函数最接近的多项式系数\"\n",
    "import numpy as np\n",
    "import pylab as pl\n",
    "pl.figure(figsize=(8,4))\n",
    "x = np.linspace(-np.pi/2, np.pi/2, 1000)\n",
    "y = np.sin(x)\n",
    "for deg in [3,5,7]:\n",
    "    a = np.polyfit(x,y,deg) #拟合\n",
    "    error = np.abs(np.polyval(a, x)-y)\n",
    "    print(\"poly %d: \" % deg, a)\n",
    "    print(\"max error of order %d: \" % deg, np.max(error))\n",
    "# pl.semilogy(x, error, label=u\"%d阶多项式的误差\" % deg)\n",
    "pl.semilogy(x, error, label=u\"The error of the %d order polynomial\" % deg)\n",
    "pl.legend(loc=3)\n",
    "pl.axis('tight')\n",
    "pl.show()\n"
   ]
  },
  {
   "cell_type": "code",
   "execution_count": 74,
   "metadata": {},
   "outputs": [
    {
     "data": {
      "text/plain": [
       "array([5, 1, 6, 8, 4, 9, 8, 2, 8, 3])"
      ]
     },
     "execution_count": 74,
     "metadata": {},
     "output_type": "execute_result"
    }
   ],
   "source": [
    "\"# unique() 函数返回其参数数组中所有不同的值，并按从小到达排列\"\n",
    "# return_index为True表示同时返回原始数组中的下标\n",
    "# ruturn_inverse为True表示返回重建原始数组用的小标数组\n",
    "a = np.random.randint(0,10,10)\n",
    "a"
   ]
  },
  {
   "cell_type": "code",
   "execution_count": 75,
   "metadata": {},
   "outputs": [
    {
     "data": {
      "text/plain": [
       "array([1, 2, 3, 4, 5, 6, 8, 9])"
      ]
     },
     "execution_count": 75,
     "metadata": {},
     "output_type": "execute_result"
    }
   ],
   "source": [
    "np.unique(a)"
   ]
  },
  {
   "cell_type": "code",
   "execution_count": 76,
   "metadata": {},
   "outputs": [],
   "source": [
    "x, idx = np.unique(a, return_index=True)"
   ]
  },
  {
   "cell_type": "code",
   "execution_count": 77,
   "metadata": {},
   "outputs": [
    {
     "data": {
      "text/plain": [
       "array([1, 2, 3, 4, 5, 6, 8, 9])"
      ]
     },
     "execution_count": 77,
     "metadata": {},
     "output_type": "execute_result"
    }
   ],
   "source": [
    "x"
   ]
  },
  {
   "cell_type": "code",
   "execution_count": 78,
   "metadata": {},
   "outputs": [
    {
     "data": {
      "text/plain": [
       "array([1, 7, 9, 4, 0, 2, 3, 5], dtype=int32)"
      ]
     },
     "execution_count": 78,
     "metadata": {},
     "output_type": "execute_result"
    }
   ],
   "source": [
    "idx"
   ]
  },
  {
   "cell_type": "code",
   "execution_count": 79,
   "metadata": {},
   "outputs": [
    {
     "data": {
      "text/plain": [
       "array([1, 2, 3, 4, 5, 6, 8, 9])"
      ]
     },
     "execution_count": 79,
     "metadata": {},
     "output_type": "execute_result"
    }
   ],
   "source": [
    "# idx保存的是x数组中每个元素在数组a中的下标\n",
    "a[idx]"
   ]
  },
  {
   "cell_type": "code",
   "execution_count": 80,
   "metadata": {},
   "outputs": [
    {
     "data": {
      "text/plain": [
       "array([1, 2, 3, 4, 5, 6, 8, 9])"
      ]
     },
     "execution_count": 80,
     "metadata": {},
     "output_type": "execute_result"
    }
   ],
   "source": [
    "x, ridx = np.unique(a, return_inverse=True)\n",
    "x"
   ]
  },
  {
   "cell_type": "code",
   "execution_count": 81,
   "metadata": {},
   "outputs": [
    {
     "data": {
      "text/plain": [
       "array([4, 0, 5, 6, 3, 7, 6, 1, 6, 2], dtype=int32)"
      ]
     },
     "execution_count": 81,
     "metadata": {},
     "output_type": "execute_result"
    }
   ],
   "source": [
    "ridx"
   ]
  },
  {
   "cell_type": "code",
   "execution_count": 82,
   "metadata": {},
   "outputs": [
    {
     "data": {
      "text/plain": [
       "True"
      ]
     },
     "execution_count": 82,
     "metadata": {},
     "output_type": "execute_result"
    }
   ],
   "source": [
    "# 原始数组a和x[irdx]完全相同\n",
    "all(x[ridx] == a)"
   ]
  },
  {
   "cell_type": "code",
   "execution_count": 83,
   "metadata": {},
   "outputs": [
    {
     "data": {
      "text/plain": [
       "array([1, 2, 3, 4, 5, 6, 8, 8, 8, 9])"
      ]
     },
     "execution_count": 83,
     "metadata": {},
     "output_type": "execute_result"
    }
   ],
   "source": [
    "np.sort(a)"
   ]
  },
  {
   "cell_type": "code",
   "execution_count": 84,
   "metadata": {},
   "outputs": [
    {
     "data": {
      "text/plain": [
       "array([0, 1, 1, 1, 1, 1, 1, 0, 3, 1], dtype=int32)"
      ]
     },
     "execution_count": 84,
     "metadata": {},
     "output_type": "execute_result"
    }
   ],
   "source": [
    "\"# bincount() 函数对整数数组中各个元素出现的次数进行统计\"\n",
    "# 要求所有元素非负\n",
    "# 其返回数组中第i个元素的值表示整数i在参数数组中出现的次数\n",
    "np.bincount(a)\n",
    "# 2个0,0个1，1个2.。。3个9"
   ]
  },
  {
   "cell_type": "code",
   "execution_count": 85,
   "metadata": {},
   "outputs": [
    {
     "data": {
      "text/plain": [
       "array([0, 1, 2])"
      ]
     },
     "execution_count": 85,
     "metadata": {},
     "output_type": "execute_result"
    }
   ],
   "source": [
    "\"# 通过weights参数可以指定每个对应的权值\"\n",
    "# bincount(x, weights=w) 返回数组x中每个整数所对应w中的权值之和\n",
    "x = np.array([0,1,2,2,1,1,0])\n",
    "w = np.array([0.1,0.3,0.2,0.4,0.5,0.8,1.2])\n",
    "np.unique(x)"
   ]
  },
  {
   "cell_type": "code",
   "execution_count": 86,
   "metadata": {},
   "outputs": [
    {
     "data": {
      "text/plain": [
       "array([1.3, 1.6, 0.6])"
      ]
     },
     "execution_count": 86,
     "metadata": {},
     "output_type": "execute_result"
    }
   ],
   "source": [
    "np.bincount(x, w)"
   ]
  },
  {
   "cell_type": "code",
   "execution_count": 87,
   "metadata": {},
   "outputs": [
    {
     "data": {
      "text/plain": [
       "array([0.65      , 0.53333333, 0.3       ])"
      ]
     },
     "execution_count": 87,
     "metadata": {},
     "output_type": "execute_result"
    }
   ],
   "source": [
    "# 可以用求和结果和次数相除得到平均值\n",
    "np.bincount(x, w)/np.bincount(x)"
   ]
  },
  {
   "cell_type": "code",
   "execution_count": 88,
   "metadata": {},
   "outputs": [
    {
     "data": {
      "text/plain": [
       "(array([16, 24, 17, 22, 21], dtype=int32),\n",
       " array([0. , 0.2, 0.4, 0.6, 0.8, 1. ]))"
      ]
     },
     "execution_count": 88,
     "metadata": {},
     "output_type": "execute_result"
    }
   ],
   "source": [
    "\"# histogram() 函数对一维数组进行直方图统计\"\n",
    "\"\"\"# histogram(a, bins=10,range=None,normed=False,weights=None)\n",
    "# a表示待统计数组，bins指定统计的区间个数\n",
    "# range是一个长度为2的原组，表示统计范围的最小值和最大值\n",
    "# normed为False时返回数组a中的数据在每个区间的个数，\n",
    "否则对数据进行正规化处理使他等于\n",
    "# 每个区间的概率密度\n",
    "# weights参数和bincount()的类似\n",
    "# histogram()返回两个一维数组hist和bin_edges,hist是每个区间的统计结果，\n",
    "bin_edges长度为\n",
    "# len(hist)+1，每两个相邻的数值构成一个统计区间\"\"\"\n",
    "a = np.random.rand(100)\n",
    "np.histogram(a, bins=5, range=(0,1))"
   ]
  },
  {
   "cell_type": "code",
   "execution_count": 89,
   "metadata": {},
   "outputs": [
    {
     "data": {
      "text/plain": [
       "(array([40, 39, 21], dtype=int32), array([0. , 0.4, 0.8, 1. ]))"
      ]
     },
     "execution_count": 89,
     "metadata": {},
     "output_type": "execute_result"
    }
   ],
   "source": [
    "\"\"\" 如果需要统计的区间长度不等，可以将表示区间分隔位置的数组传\n",
    "递给bins参数\"\"\"\n",
    "\"\"\"如果用weights参数指定了数组a中每个元素对应的权值，那么\n",
    "histogram()将对区间中数 值对应的权值进行求和\"\"\"\n",
    "np.histogram(a, bins=[0,0.4,0.8,1.0], range=(0,1))"
   ]
  },
  {
   "cell_type": "code",
   "execution_count": 90,
   "metadata": {},
   "outputs": [],
   "source": [
    "\"# 可以用loadtxt()函数从数据文件中载入数据\"\n",
    "#d = np.loadtxt(\"height.csv\", delimiter=',')\n",
    "#d.shape\n",
    "#d.min(d[:,0])\n",
    "#d.max(d[:,0])"
   ]
  },
  {
   "cell_type": "code",
   "execution_count": 18,
   "metadata": {},
   "outputs": [
    {
     "name": "stdout",
     "output_type": "stream",
     "text": [
      "A\n",
      " [[ 0  1  2]\n",
      " [ 1  0  3]\n",
      " [ 4 -3  8]]\n"
     ]
    }
   ],
   "source": [
    "\"# 线性代数模块\"\n",
    "\"\"\"numpy.linalg模块包含线性代数的函数。使用这个模块，可以计算\n",
    "逆矩阵、求特征值、解线性方程组以及求解行列式等\"\"\"\n",
    "# numpy.linalg\n",
    "import numpy as np\n",
    "A = np.mat(\"0 1 2; 1 0 3; 4 -3 8\")\n",
    "print(\"A\\n\", A)"
   ]
  },
  {
   "cell_type": "code",
   "execution_count": 19,
   "metadata": {},
   "outputs": [
    {
     "name": "stdout",
     "output_type": "stream",
     "text": [
      "inverse of A\n",
      " [[-4.5  7.  -1.5]\n",
      " [-2.   4.  -1. ]\n",
      " [ 1.5 -2.   0.5]]\n"
     ]
    }
   ],
   "source": [
    "\"计算逆矩阵\"\n",
    "\"\"\"在线性代数中，矩阵A与其逆矩阵A-1相乘后会得到一个单位矩阵I\n",
    "。该定义可以写为A *A-1=I\"\"\"\n",
    "\"numpy.linalg模块中的inv函数可以计算逆矩阵\"\n",
    "\n",
    "\"使用numpy.linalg模块中的inv函数计算了逆矩阵\"\n",
    "inverse = np.linalg.inv(A)\n",
    "print(\"inverse of A\\n\", inverse)"
   ]
  },
  {
   "cell_type": "code",
   "execution_count": 93,
   "metadata": {},
   "outputs": [
    {
     "name": "stdout",
     "output_type": "stream",
     "text": [
      "Check\n",
      " [[1. 0. 0.]\n",
      " [0. 1. 0.]\n",
      " [0. 0. 1.]]\n"
     ]
    }
   ],
   "source": [
    "print(\"Check\\n\", np.dot(A, inverse))"
   ]
  },
  {
   "cell_type": "code",
   "execution_count": 94,
   "metadata": {},
   "outputs": [
    {
     "name": "stdout",
     "output_type": "stream",
     "text": [
      "A\n",
      " [[ 1 -2  1]\n",
      " [ 0  2 -8]\n",
      " [-4  5  9]]\n",
      "b\n",
      " [ 0  8 -9]\n",
      "Solution: \n",
      " [29. 16.  3.]\n",
      "Check: \n",
      " [[ 0.  8. -9.]]\n"
     ]
    }
   ],
   "source": [
    "\"# 求解线性方程组\"\n",
    "# numpy.linalg中的solve可以求解形如Ax=b的线性方程组\n",
    "# 其中A为矩阵，b为一维或二维数组，x是未知变量\n",
    "import numpy as np\n",
    "A = np.mat(\"1 -2 1; 0 2 -8; -4 5 9\")\n",
    "b = np.array([0, 8, -9])\n",
    "x = np.linalg.solve(A, b)\n",
    "\n",
    "print(\"A\\n\", A)\n",
    "print('b\\n', b)\n",
    "print(\"Solution: \\n\", x)\n",
    "print(\"Check: \\n\", np.dot(A,x))"
   ]
  },
  {
   "cell_type": "code",
   "execution_count": 20,
   "metadata": {},
   "outputs": [
    {
     "name": "stdout",
     "output_type": "stream",
     "text": [
      "A\n",
      " [[ 3 -2]\n",
      " [ 1  0]]\n",
      "Eigenvalues: \n",
      " [2. 1.]\n",
      "First tupe of eig [eigenvalues]: \n",
      " [2. 1.]\n",
      "Second tupe of eig [eigenvectors]: \n",
      " [[0.89442719 0.70710678]\n",
      " [0.4472136  0.70710678]]\n",
      "Left: \n",
      " [[1.78885438]\n",
      " [0.89442719]]\n",
      "Right:\n",
      " [[1.78885438]\n",
      " [0.89442719]]\n",
      "Left: \n",
      " [[0.70710678]\n",
      " [0.70710678]]\n",
      "Right:\n",
      " [[0.70710678]\n",
      " [0.70710678]]\n"
     ]
    }
   ],
   "source": [
    "\"# 特征值和特征向量\"\n",
    "\"\"\"# 特征值eigenvalue即方程Ax=ax的根，是一个标量\n",
    "# 其中A是一个二维矩阵，x是一个一维向量；\n",
    "# 特征向量eigenvalue是关于特征值的向量\n",
    "# numpy.linalg的eigvals函数可以计算矩阵的特征值，\n",
    "# 而eig函数可以返回一个包含特征值和对应的特征向量的元组\"\"\"\n",
    "import numpy as np\n",
    "A = np.mat(\"3 -2; 1 0\")\n",
    "print(\"A\\n\", A)\n",
    "print(\"Eigenvalues: \\n\", np.linalg.eigvals(A))\n",
    "\n",
    "eigenvalues, eigenvectors = np.linalg.eig(A)\n",
    "print(\"First tupe of eig [eigenvalues]: \\n\", eigenvalues)\n",
    "print(\"Second tupe of eig [eigenvectors]: \\n\", eigenvectors)\n",
    "\n",
    "for i in range(len(eigenvalues)):\n",
    "    print(\"Left: \\n\", np.dot(A, eigenvectors[:, i]))\n",
    "    print(\"Right:\\n\", eigenvalues[i] * eigenvectors[:,i])"
   ]
  },
  {
   "cell_type": "code",
   "execution_count": 22,
   "metadata": {},
   "outputs": [
    {
     "name": "stdout",
     "output_type": "stream",
     "text": [
      "A:\n",
      " [[ 4 11 14]\n",
      " [ 8  7 -2]]\n",
      "U:\n",
      " [[-0.9486833  -0.31622777]\n",
      " [-0.31622777  0.9486833 ]]\n",
      "Sigma:\n",
      " [18.97366596  9.48683298]\n",
      "V:\n",
      " [[-0.33333333 -0.66666667 -0.66666667]\n",
      " [ 0.66666667  0.33333333 -0.66666667]]\n",
      "Product: \n",
      " [[ 4. 11. 14.]\n",
      " [ 8.  7. -2.]]\n"
     ]
    }
   ],
   "source": [
    "\"# svd函数可以进行奇异值分解\"\n",
    "\"\"\"\n",
    "# 该函数返回3个矩阵U sigma V\n",
    "# 其中U和V是正交矩阵，sigma包含输入矩阵的奇异值\n",
    "\"\"\"\n",
    "import numpy as np\n",
    "A = np.mat(\"4 11 14; 8 7 -2\")\n",
    "\n",
    "U, Sigma, V = np.linalg.svd(A, full_matrices=False)\n",
    "print(\"A:\\n\", A)\n",
    "print(\"U:\\n\", U)\n",
    "print(\"Sigma:\\n\", Sigma)\n",
    "print(\"V:\\n\", V)\n",
    "print(\"Product: \\n\", U * np.diag(Sigma) * V)"
   ]
  },
  {
   "cell_type": "code",
   "execution_count": 23,
   "metadata": {},
   "outputs": [
    {
     "name": "stdout",
     "output_type": "stream",
     "text": [
      "A:\n",
      " [[ 4 11 14]\n",
      " [ 8  7 -2]]\n",
      "Pseudo inverse:\n",
      " [[-0.00555556  0.07222222]\n",
      " [ 0.02222222  0.04444444]\n",
      " [ 0.05555556 -0.05555556]]\n",
      "Check:\n",
      " [[1.00000000e+00 0.00000000e+00]\n",
      " [8.32667268e-17 1.00000000e+00]]\n"
     ]
    }
   ],
   "source": [
    "\"# 广义逆矩阵\"\n",
    "\"\"\"# 可以使用numpy.linalg模块的pinv函数进行求解\n",
    "# 计算广义逆矩阵需要用到奇异值分解SVD，\n",
    "inv函数只接受方阵作为数据矩阵\n",
    "# 而pinv函数没有这个限制\"\"\"\n",
    "import numpy as py\n",
    "A = np.mat(\"4 11 14; 8 7 -2\")\n",
    "\n",
    "pseudoinv = np.linalg.pinv(A)\n",
    "print(\"A:\\n\", A)\n",
    "print(\"Pseudo inverse:\\n\", pseudoinv)\n",
    "print(\"Check:\\n\", A * pseudoinv)"
   ]
  },
  {
   "cell_type": "code",
   "execution_count": 98,
   "metadata": {},
   "outputs": [
    {
     "name": "stdout",
     "output_type": "stream",
     "text": [
      "A:\n",
      " [[3 4]\n",
      " [5 6]]\n",
      "Determinant:  -2.0000000000000013\n"
     ]
    }
   ],
   "source": [
    "\"# 行列式\"\n",
    "# numpy.liaalg中的det函数可以计算矩阵的行列式\n",
    "import numpy as np\n",
    "A = np.mat(\"3 4; 5 6\")\n",
    "print(\"A:\\n\", A)\n",
    "print(\"Determinant: \", np.linalg.det(A))"
   ]
  },
  {
   "cell_type": "code",
   "execution_count": 99,
   "metadata": {},
   "outputs": [
    {
     "name": "stdout",
     "output_type": "stream",
     "text": [
      "I:\n",
      " [[1. 0. 0.]\n",
      " [0. 1. 0.]\n",
      " [0. 0. 1.]]\n",
      "rank of I:  3\n",
      "I:\n",
      " [[1. 0. 0.]\n",
      " [0. 0. 0.]\n",
      " [0. 0. 1.]]\n",
      "rank of I:  2\n"
     ]
    }
   ],
   "source": [
    "\"# 矩阵的秩\"\n",
    "# matrix_rank()\n",
    "import numpy as np\n",
    "I = np.eye(3) #先创建一个单位阵\n",
    "print(\"I:\\n\", I)\n",
    "rI = np.linalg.matrix_rank(I) # 秩\n",
    "print(\"rank of I: \", rI)\n",
    "I[1, 1] = 0\n",
    "print(\"I:\\n\", I)\n",
    "rI = np.linalg.matrix_rank(I)\n",
    "print(\"rank of I: \", rI)"
   ]
  },
  {
   "cell_type": "code",
   "execution_count": 26,
   "metadata": {},
   "outputs": [
    {
     "name": "stdout",
     "output_type": "stream",
     "text": [
      "m1:\n",
      " [1 2 3]\n",
      "m2:\n",
      " [[1 2 3]\n",
      " [2 3 4]]\n",
      "n1:\n",
      " [[0. 0. 0.]\n",
      " [0. 0. 0.]]\n",
      "n2:\n",
      " [[1. 0. 0.]\n",
      " [0. 1. 0.]\n",
      " [0. 0. 1.]]\n",
      "c1:\n",
      " [2.  2.1 2.2 2.3 2.4 2.5 2.6 2.7 2.8 2.9]\n",
      "c2:\n",
      " [1.         1.33333333 1.66666667 2.         2.33333333 2.66666667\n",
      " 3.         3.33333333 3.66666667 4.        ]\n",
      "c3:\n",
      " [   10.            21.5443469     46.41588834   100.\n",
      "   215.443469     464.15888336  1000.          2154.43469003\n",
      "  4641.58883361 10000.        ]\n"
     ]
    }
   ],
   "source": [
    "\"Numpy线性代数小结\"\n",
    "\"# 建立矩阵\"\n",
    "m1 = np.array([1,2,3], dtype=int)\n",
    "print(\"m1:\\n\", m1)\n",
    "m2 = np.array([[1,2,3],[2,3,4]])\n",
    "print(\"m2:\\n\", m2)\n",
    "n1 = np.zeros((2,3))\n",
    "print(\"n1:\\n\", n1)\n",
    "n2 = np.eye(3)\n",
    "print(\"n2:\\n\", n2)\n",
    "c1 = np.arange(2,3,0.1)\n",
    "print(\"c1:\\n\",c1)\n",
    "c2 = np.linspace(1,4,10)\n",
    "print(\"c2:\\n\", c2)\n",
    "c3 = np.logspace(1,4,10)\n",
    "print(\"c3:\\n\", c3)\n",
    "#d1 = np.linalg.companion(A)    #伴随矩阵\n",
    "#print(\"companion A: \\n\", d1)"
   ]
  },
  {
   "cell_type": "code",
   "execution_count": 101,
   "metadata": {},
   "outputs": [
    {
     "name": "stdout",
     "output_type": "stream",
     "text": [
      "A:\n",
      " [[3 4]\n",
      " [5 6]]\n",
      "A.flags:\n",
      "   C_CONTIGUOUS : True\n",
      "  F_CONTIGUOUS : False\n",
      "  OWNDATA : False\n",
      "  WRITEABLE : True\n",
      "  ALIGNED : True\n",
      "  WRITEBACKIFCOPY : False\n",
      "  UPDATEIFCOPY : False\n",
      "A.shape:  (2, 2)\n",
      "A.ndim:  2\n",
      "A.size:  4\n",
      "A.itemsize:  4\n",
      "A.dtype:  int32\n",
      "A.T:\n",
      " [[3 5]\n",
      " [4 6]]\n",
      "A.trace:\n",
      " [[9]]\n",
      "det A:\n",
      " -2.0000000000000013\n",
      "norm A:\n",
      " 9.273618495495704\n",
      "eig A:\n",
      " (array([-0.21699057,  9.21699057]), matrix([[-0.77925158, -0.54107946],\n",
      "        [ 0.62671124, -0.84097147]]))\n",
      "cond A:\n",
      " 42.9767315949143\n",
      "inv A:\n",
      " [[-3.   2. ]\n",
      " [ 2.5 -1.5]]\n"
     ]
    }
   ],
   "source": [
    "\"# 数组的特征信息\"\n",
    "# 存储情况\n",
    "print(\"A:\\n\", A)\n",
    "print(\"A.flags:\\n\", A.flags)#数组的存储情况信息\n",
    "print(\"A.shape: \", A.shape) #结果是一个tuple，返回本数组的行数/列数...\n",
    "print(\"A.ndim: \", A.ndim)   #数组的维数，结果是一个数\n",
    "print(\"A.size: \", A.size)   #数组中元素的数量\n",
    "print(\"A.itemsize: \", A.itemsize) #数组中的数据项的所占内存空间大小\n",
    "print(\"A.dtype: \", A.dtype)    #数据类型\n",
    "print(\"A.T:\\n\", A.T)           #如果X是矩阵，发挥的是X的转置矩阵\n",
    "print(\"A.trace:\\n\", A.trace()) #计算X的迹\n",
    "print(\"det A:\\n\", np.linalg.det(A)) #返回的是矩阵a的行列式\n",
    "print(\"norm A:\\n\", np.linalg.norm(A, ord=None)) # A 的范数\n",
    "print(\"eig A:\\n\", np.linalg.eig(A)) # A的特征值和特征向量\n",
    "print(\"cond A:\\n\", np.linalg.cond(A, p=None)) # A的条件数\n",
    "print(\"inv A:\\n\", np.linalg.inv(A)) # 矩阵的逆"
   ]
  },
  {
   "cell_type": "code",
   "execution_count": 27,
   "metadata": {},
   "outputs": [
    {
     "name": "stdout",
     "output_type": "stream",
     "text": [
      "[-0.43711765 -0.07496602  1.16376582  0.62905496  0.16719963 -0.38230984\n",
      " -0.4967396  -0.58732028  0.3896909   0.24387874]\n",
      "1.1934897514720433e-15\n"
     ]
    }
   ],
   "source": [
    "\"# 解线性方程组\"\n",
    "\"\"\"对矩阵的一些更高级运算可以在numpy的线性代数模块linalg中找\n",
    "到。例如inv()计算逆矩阵，solve()可以求解多元一次方程组\"\"\"\n",
    "import numpy as np\n",
    "a = np.random.rand(10,10)\n",
    "b = np.random.rand(10)\n",
    "x = np.linalg.solve(a,b)\n",
    "print(x)\n",
    "\"\"\" solve()有两个参数a和b。a是一个N*N的二维数组，而b是一个长度\n",
    "为N的一维数组， solve()找到一个长度为N的一维数组X，使得它们\n",
    "满足a • x = b,即x就是这个N元一次方程 组的解.\"\"\"\n",
    "print(np.sum(np.abs(np.dot(a,x) - b)))"
   ]
  },
  {
   "cell_type": "code",
   "execution_count": 102,
   "metadata": {},
   "outputs": [
    {
     "name": "stdout",
     "output_type": "stream",
     "text": [
      "A:\n",
      " [[0. 1.]\n",
      " [1. 1.]\n",
      " [2. 1.]\n",
      " [3. 1.]]\n",
      "0.9999999999999997 -0.9499999999999992\n"
     ]
    },
    {
     "data": {
      "image/png": "[encoded data removed]",
      "text/plain": [
       "<matplotlib.figure.Figure at 0x6d79b70>"
      ]
     },
     "metadata": {},
     "output_type": "display_data"
    }
   ],
   "source": [
    "\"最小二乘解\"\n",
    "\"\"\" lstsq()比solve()更一般化，它不要求矩阵a是正方形的，也就是说\n",
    "方程的个数可以少于、 等于或多于未知数的个数。它找到一组解x,\n",
    "使得丨b-a •x丨最小。我们称得到的结果为最小二乘解，即它使得所\n",
    "有等式的误差的平方和最小\"\"\"\n",
    "# y = mx + c\n",
    "import numpy as np\n",
    "\n",
    "x = np.array([0,1,2,3])\n",
    "y = np.array([-1,0.2,0.9,2.1])\n",
    "A = np.vstack([x, np.ones(len(x))]).T\n",
    "\n",
    "print(\"A:\\n\", A)\n",
    "# lstsq比solve更一般化，它不要求矩阵是方阵，得到的结果为最小二乘解\n",
    "m, c = np.linalg.lstsq(A, y, rcond=None)[0]\n",
    "print(m,c)\n",
    "\n",
    "# 作图\n",
    "import matplotlib.pyplot as plt\n",
    "plt.plot(x, y, 'o', label=\"Original data\", markersize=10)\n",
    "plt.plot(x, m*x + c, 'r', label=\"Fitted line\")\n",
    "plt.legend()\n",
    "plt.show()"
   ]
  },
  {
   "cell_type": "code",
   "execution_count": 109,
   "metadata": {},
   "outputs": [
    {
     "name": "stdout",
     "output_type": "stream",
     "text": [
      "True\n"
     ]
    },
    {
     "name": "stderr",
     "output_type": "stream",
     "text": [
      "C:\\ProgramData\\Anaconda3\\lib\\site-packages\\numpy\\core\\numeric.py:492: ComplexWarning: Casting complex values to real discards the imaginary part\n",
      "  return array(a, dtype, copy=False, order=order)\n"
     ]
    },
    {
     "data": {
      "image/png": "[encoded data removed]",
      "text/plain": [
       "<matplotlib.figure.Figure at 0x6d79590>"
      ]
     },
     "metadata": {},
     "output_type": "display_data"
    }
   ],
   "source": [
    "\"# 快速傅里叶变换\"\n",
    "\"\"\"在NumPy中，有一个名为fft的模块提供了快速傅里叶变换的功能。在\n",
    "这个模块中，许多函数都是成对存在的，也就是说许多函数存在对应\n",
    "的逆操作函数。例如，fft和ifft函数就是其中的一对\"\"\"\n",
    "%matplotlib inline\n",
    "import numpy as np\n",
    "from matplotlib.pyplot import plot, show\n",
    "\n",
    "x = np.linspace(0, 2*np.pi, 30) #创建一个包含30个点的余弦波信号\n",
    "wave = np.cos(x)\n",
    "transformed = np.fft.fft(wave) #使用fft函数对余弦波信号进行傅里叶变换\n",
    "\n",
    "#对变换后的结果应用ifft函数，应该可以近似地还原初始信号\n",
    "print(np.all(np.abs(np.fft.ifft(transformed) - wave) < 10**-9))\n",
    "\n",
    "plot(transformed) #使用Matplotlib绘制变换后的信号\n",
    "show()"
   ]
  },
  {
   "cell_type": "code",
   "execution_count": 104,
   "metadata": {},
   "outputs": [
    {
     "data": {
      "text/plain": [
       "array([0. , 0.1, 0.2, 0.3, 0.4, 0.5, 0.6, 0.7, 0.8, 0.9])"
      ]
     },
     "execution_count": 104,
     "metadata": {},
     "output_type": "execute_result"
    }
   ],
   "source": [
    "np.linspace(0,1,10, endpoint=False)"
   ]
  },
  {
   "cell_type": "code",
   "execution_count": 105,
   "metadata": {},
   "outputs": [
    {
     "data": {
      "text/plain": [
       "array([  0,   1, 100, 101,   4,   5, -10,   7,   8,   9])"
      ]
     },
     "execution_count": 105,
     "metadata": {},
     "output_type": "execute_result"
    }
   ],
   "source": [
    "a = np.arange(10)\n",
    "a[2:4] = 100,101\n",
    "b = a[3:7]\n",
    "b[3] = -10\n",
    "a\n"
   ]
  },
  {
   "cell_type": "code",
   "execution_count": 106,
   "metadata": {},
   "outputs": [
    {
     "data": {
      "text/plain": [
       "array([5, 3])"
      ]
     },
     "execution_count": 106,
     "metadata": {},
     "output_type": "execute_result"
    }
   ],
   "source": [
    "x = np.arange(5,0,-1)\n",
    "x[np.array([True, False, True, False, False])]\n",
    "x[[True, False, True, False, False]]"
   ]
  },
  {
   "cell_type": "code",
   "execution_count": 107,
   "metadata": {},
   "outputs": [
    {
     "data": {
      "text/plain": [
       "array([[ 0,  1,  2,  3,  4,  5],\n",
       "       [10, 11, 12, 13, 14, 15],\n",
       "       [20, 21, 22, 23, 24, 25],\n",
       "       [30, 31, 32, 33, 34, 35],\n",
       "       [40, 41, 42, 43, 44, 45],\n",
       "       [50, 51, 52, 53, 54, 55]])"
      ]
     },
     "execution_count": 107,
     "metadata": {},
     "output_type": "execute_result"
    }
   ],
   "source": [
    "a = np.arange(0, 60, 10).reshape(-1, 1) + np.arange(0,6)\n",
    "# a[1::2, 1::2]\n",
    "a[np.array([1,1,1,1,1,1], dtype=np.bool), [0,1,2,3,4,5]]\n",
    "np.array([1,1,1,1,1,1], dtype=np.bool)\n",
    "a[:,np.array([1,1,1,1,1,1], dtype=np.bool)]"
   ]
  },
  {
   "cell_type": "code",
   "execution_count": null,
   "metadata": {},
   "outputs": [],
   "source": []
  }
 ],
 "metadata": {
  "kernelspec": {
   "display_name": "Python 3",
   "language": "python",
   "name": "python3"
  },
  "language_info": {
   "codemirror_mode": {
    "name": "ipython",
    "version": 3
   },
   "file_extension": ".py",
   "mimetype": "text/x-python",
   "name": "python",
   "nbconvert_exporter": "python",
   "pygments_lexer": "ipython3",
   "version": "3.6.4"
  }
 },
 "nbformat": 4,
 "nbformat_minor": 2
}
