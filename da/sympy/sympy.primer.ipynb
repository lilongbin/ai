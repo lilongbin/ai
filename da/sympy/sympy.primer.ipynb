{
 "cells": [
  {
   "cell_type": "code",
   "execution_count": 4,
   "metadata": {},
   "outputs": [
    {
     "name": "stdout",
     "output_type": "stream",
     "text": [
      "\n"
     ]
    }
   ],
   "source": [
    "%matplotlib inline\n",
    "from IPython.display import Latex\n",
    "\"\"\"\n",
    "SymPy是一个符号数学Python库。它的目标是成为一个全功能的计\n",
    "算机代数系统，同时保持代码的精简而易于理解和可扩展。\n",
    "SymPy完全由Python写成，不需要任何外部库。\n",
    "可用SymPy进行数学表达式的符号推导和演算。可使用isympy运行\n",
    "程序，isympy在 IPython的基础上添加了数学表达式的直观显示功能。\n",
    "\"\"\"\n",
    "from __future__ import division \n",
    "from sympy import *\n",
    "x, y, z, t = symbols('x,y,z,t')\n",
    "k, m, n = symbols('k,m,n', integer=True)\n",
    "f, g, h = symbols('f,g,h', cls=Function) # 类型为function\n",
    "init_printing()\n",
    "\"\"\"\n",
    "这段程序首先将Python的除法操作符“/”从整数除法改为普通除法。\n",
    "然后从SymPy库载 入所有符号，并且定义了四个通用的数学符号x、y\n",
    "、z 、t，三个表示整数的符号k、m、n，以及三个表示数学函数的符号\n",
    "f、g、h。\n",
    "\"\"\"\n",
    "print()"
   ]
  },
  {
   "cell_type": "code",
   "execution_count": 1,
   "metadata": {},
   "outputs": [
    {
     "data": {
      "text/latex": [
       "\\[ e^{i\\pi} + 1 = 0 \\]"
      ],
      "text/plain": [
       "<IPython.core.display.Latex object>"
      ]
     },
     "execution_count": 1,
     "metadata": {},
     "output_type": "execute_result"
    }
   ],
   "source": [
    "\"# 欧拉恒等式\"\n",
    "from IPython.display import Latex\n",
    "Latex(r\"\\[ e^{i\\pi} + 1 = 0 \\]\")"
   ]
  },
  {
   "cell_type": "code",
   "execution_count": 7,
   "metadata": {},
   "outputs": [
    {
     "data": {
      "image/png": "[encoded data removed]",
      "text/latex": [
       "$$0$$"
      ],
      "text/plain": [
       "0"
      ]
     },
     "execution_count": 7,
     "metadata": {},
     "output_type": "execute_result"
    }
   ],
   "source": [
    "\"\"\"\n",
    " 此公式被称为欧拉恒等式，其中e是自然常数，i是虚数单位，   是\n",
    "圆周率。此公式被誉为数学中最奇妙的公式，它将5个基本数学常数用\n",
    "加法、乘法和幂运算联系起来。\n",
    "  从SymPy库载入的符号中，E表示自然常数，I表示虚数单位，pi表\n",
    "示圆周率，因此上面 的公式可以直接如下计算\n",
    "\"\"\"\n",
    "E**(I*pi) + 1"
   ]
  },
  {
   "cell_type": "code",
   "execution_count": 5,
   "metadata": {},
   "outputs": [
    {
     "data": {
      "text/latex": [
       "\\[ e^{ix} = cosx + isinx \\]"
      ],
      "text/plain": [
       "<IPython.core.display.Latex object>"
      ]
     },
     "execution_count": 5,
     "metadata": {},
     "output_type": "execute_result"
    }
   ],
   "source": [
    "\"\"\"\n",
    "SymPy除了可以直接计算公式的值之外，还可以帮助做数学公式的推\n",
    "导和证明。欧拉恒等式可以将    代入下面的欧拉公式得到\n",
    "\"\"\"\n",
    "Latex(r\"\\[ e^{ix} = cosx + isinx \\]\")"
   ]
  },
  {
   "cell_type": "code",
   "execution_count": 6,
   "metadata": {},
   "outputs": [
    {
     "data": {
      "image/png": "[encoded data removed]",
      "text/latex": [
       "$$e^{i x}$$"
      ],
      "text/plain": [
       " ⅈ⋅x\n",
       "ℯ   "
      ]
     },
     "execution_count": 6,
     "metadata": {},
     "output_type": "execute_result"
    }
   ],
   "source": [
    "\"在SymPy中可以使用expand()将表达式展开\"\n",
    "expand(E ** (I*x))\n",
    "#  没有成功，只是换了一种写法而已。当 expand() 的 complex 参数为\n",
    "# True时，表达式将被分为实数和虚数两个部分"
   ]
  },
  {
   "cell_type": "code",
   "execution_count": 7,
   "metadata": {},
   "outputs": [
    {
     "data": {
      "image/png": "[encoded data removed]",
      "text/latex": [
       "$$i e^{- \\Im{x}} \\sin{\\left (\\Re{\\left(x\\right)} \\right )} + e^{- \\Im{x}} \\cos{\\left (\\Re{\\left(x\\right)} \\right )}$$"
      ],
      "text/plain": [
       "   -im(x)               -im(x)           \n",
       "ⅈ⋅ℯ      ⋅sin(re(x)) + ℯ      ⋅cos(re(x))"
      ]
     },
     "execution_count": 7,
     "metadata": {},
     "output_type": "execute_result"
    }
   ],
   "source": [
    "expand(exp(I*x), complex=True) "
   ]
  },
  {
   "cell_type": "code",
   "execution_count": 11,
   "metadata": {},
   "outputs": [
    {
     "data": {
      "image/png": "[encoded data removed]",
      "text/latex": [
       "$$i \\sin{\\left (x \\right )} + \\cos{\\left (x \\right )}$$"
      ],
      "text/plain": [
       "ⅈ⋅sin(x) + cos(x)"
      ]
     },
     "execution_count": 11,
     "metadata": {},
     "output_type": "execute_result"
    }
   ],
   "source": [
    "\"\"\"\n",
    " 这次将表达式展开了，但是得到的结果相当复杂。显然，expand()将x当\n",
    "做复数了。为了指定x为实数，需要重新定义x\n",
    "\"\"\"\n",
    "x = Symbol(\"x\", real=True)\n",
    "expand(exp(I*x), complex=True) "
   ]
  },
  {
   "cell_type": "code",
   "execution_count": 13,
   "metadata": {},
   "outputs": [
    {
     "name": "stdout",
     "output_type": "stream",
     "text": [
      "1 + I*x - x**2/2 - I*x**3/6 + x**4/24 + I*x**5/120 - x**6/720 - I*x**7/5040 + x**8/40320 + I*x**9/362880 + O(x**10)\n"
     ]
    }
   ],
   "source": [
    "# 终于得到了需要的公式。可以用泰勒多项式对其进行展开\n",
    "tmp = series(exp(I*x), x, 0, 10)\n",
    "print(tmp)"
   ]
  },
  {
   "cell_type": "code",
   "execution_count": 14,
   "metadata": {},
   "outputs": [
    {
     "data": {
      "image/png": "[encoded data removed]",
      "text/latex": [
       "$$\\frac{x^{8}}{40320} - \\frac{x^{6}}{720} + \\frac{x^{4}}{24} - \\frac{x^{2}}{2} + \\Re{\\left(\\mathcal{O}\\left(x^{10}\\right)\\right)} + 1$$"
      ],
      "text/plain": [
       "   8      6    4    2                 \n",
       "  x      x    x    x      ⎛ ⎛ 10⎞⎞    \n",
       "───── - ─── + ── - ── + re⎝O⎝x  ⎠⎠ + 1\n",
       "40320   720   24   2                  "
      ]
     },
     "execution_count": 14,
     "metadata": {},
     "output_type": "execute_result"
    }
   ],
   "source": [
    "\"\"\" series()对表达式进行泰勒级数展开。可以看到展开之后虚数项和\n",
    "实数项交替出现。根据欧拉公式，虚数项的和应该等于sin(x)的泰勒\n",
    "展开，而实数项的和应该等于cos(x)的泰勒展开。\n",
    "\"\"\"\n",
    "# 下面获得tmp的实部\n",
    "re(tmp)"
   ]
  },
  {
   "cell_type": "code",
   "execution_count": 12,
   "metadata": {},
   "outputs": [
    {
     "data": {
      "image/png": "[encoded data removed]",
      "text/latex": [
       "$$1 - \\frac{x^{2}}{2} + \\frac{x^{4}}{24} - \\frac{x^{6}}{720} + \\frac{x^{8}}{40320} + \\mathcal{O}\\left(x^{10}\\right)$$"
      ],
      "text/plain": [
       "     2    4     6      8          \n",
       "    x    x     x      x      ⎛ 10⎞\n",
       "1 - ── + ── - ─── + ───── + O⎝x  ⎠\n",
       "    2    24   720   40320         "
      ]
     },
     "execution_count": 12,
     "metadata": {},
     "output_type": "execute_result"
    }
   ],
   "source": [
    "\"下面对cos(x)进行泰勒展开，可看到其中各项和上面的结果是一致的\"\n",
    "series(cos(x), x, 0, 10)"
   ]
  },
  {
   "cell_type": "code",
   "execution_count": 13,
   "metadata": {},
   "outputs": [
    {
     "data": {
      "image/png": "[encoded data removed]",
      "text/latex": [
       "$$\\frac{x^{9}}{362880} - \\frac{x^{7}}{5040} + \\frac{x^{5}}{120} - \\frac{x^{3}}{6} + x + \\Im{\\mathcal{O}\\left(x^{10}\\right)}$$"
      ],
      "text/plain": [
       "   9       7      5    3                 \n",
       "  x       x      x    x          ⎛ ⎛ 10⎞⎞\n",
       "────── - ──── + ─── - ── + x + im⎝O⎝x  ⎠⎠\n",
       "362880   5040   120   6                  "
      ]
     },
     "execution_count": 13,
     "metadata": {},
     "output_type": "execute_result"
    }
   ],
   "source": [
    "\" 下面获得tmp的虚部\"\n",
    "im(tmp)"
   ]
  },
  {
   "cell_type": "code",
   "execution_count": 14,
   "metadata": {},
   "outputs": [
    {
     "data": {
      "image/png": "[encoded data removed]",
      "text/latex": [
       "$$x - \\frac{x^{3}}{6} + \\frac{x^{5}}{120} - \\frac{x^{7}}{5040} + \\frac{x^{9}}{362880} + \\mathcal{O}\\left(x^{10}\\right)$$"
      ],
      "text/plain": [
       "     3     5     7       9           \n",
       "    x     x     x       x       ⎛ 10⎞\n",
       "x - ── + ─── - ──── + ────── + O⎝x  ⎠\n",
       "    6    120   5040   362880         "
      ]
     },
     "execution_count": 14,
     "metadata": {},
     "output_type": "execute_result"
    }
   ],
   "source": [
    "\" 下面对sin(x)进行泰勒展开，其中各项也和上面的结果一致\"\n",
    "series(sin(x), x, 0, 10)"
   ]
  },
  {
   "cell_type": "code",
   "execution_count": 8,
   "metadata": {},
   "outputs": [
    {
     "name": "stdout",
     "output_type": "stream",
     "text": [
      "欧拉恒等式证毕\n"
     ]
    }
   ],
   "source": [
    "\"\"\"由于e**ix展开式的实部和虚部分别等于cos(x)和sin(x),\n",
    "因此验证了欧拉公式的正确性\"\"\"\n",
    "print(\"欧拉恒等式证毕\")"
   ]
  },
  {
   "cell_type": "code",
   "execution_count": 21,
   "metadata": {},
   "outputs": [
    {
     "data": {
      "image/png": "[encoded data removed]",
      "text/latex": [
       "$$- x \\cos{\\left (x \\right )} + \\sin{\\left (x \\right )}$$"
      ],
      "text/plain": [
       "-x⋅cos(x) + sin(x)"
      ]
     },
     "execution_count": 21,
     "metadata": {},
     "output_type": "execute_result"
    }
   ],
   "source": [
    "\"符号积分\"\n",
    "\"\"\" Scipy介绍了如何使用数值定积分计算球体的体积，SymPy中的\n",
    "integrate()则可以进行符号积分。用integrate()进行不定积分运算\n",
    "\"\"\"\n",
    "integrate(x*sin(x), x)"
   ]
  },
  {
   "cell_type": "code",
   "execution_count": 22,
   "metadata": {},
   "outputs": [
    {
     "data": {
      "image/png": "[encoded data removed]",
      "text/latex": [
       "$$- 2 \\pi$$"
      ],
      "text/plain": [
       "-2⋅π"
      ]
     },
     "execution_count": 22,
     "metadata": {},
     "output_type": "execute_result"
    }
   ],
   "source": [
    "\" 如果指定变量x的取值范围, integrate()就能进行定积分运算\"\n",
    "integrate(x*sin(x), (x, 0, 2*pi))"
   ]
  },
  {
   "cell_type": "code",
   "execution_count": 23,
   "metadata": {},
   "outputs": [
    {
     "data": {
      "text/latex": [
       "\\[ y(x) = \\sqrt{r^2 - x^2} \\]"
      ],
      "text/plain": [
       "<IPython.core.display.Latex object>"
      ]
     },
     "execution_count": 23,
     "metadata": {},
     "output_type": "execute_result"
    }
   ],
   "source": [
    "\"\"\" 为了计算球体体积，首先看看如何计算圆的面积，假设圆的半径\n",
    "为r，则圆上任意一点的Y坐标函数为\n",
    "\"\"\"\n",
    "Latex(r\"\\[ y(x) = \\sqrt{r^2 - x^2} \\]\")"
   ]
  },
  {
   "cell_type": "code",
   "execution_count": 26,
   "metadata": {},
   "outputs": [
    {
     "name": "stdout",
     "output_type": "stream",
     "text": [
      "2*Integral(sqrt(r**2 - x**2), (x, -r, r))\n"
     ]
    }
   ],
   "source": [
    "\"圆的面积\"\n",
    "\"因此可以直接对函数y(x)在-r到r区间上进行定积分得到半圆面积\"\n",
    "\n",
    "x, y, r = symbols('x,y,r')\n",
    "f = 2 * integrate(sqrt(r*r-x**2), (x, -r, r))\n",
    "print(f)"
   ]
  },
  {
   "cell_type": "code",
   "execution_count": 27,
   "metadata": {},
   "outputs": [
    {
     "data": {
      "image/png": "[encoded data removed]",
      "text/latex": [
       "$$2 \\int_{- r}^{r} \\sqrt{r^{2} - x^{2}}\\, dx$$"
      ],
      "text/plain": [
       "  r                 \n",
       "  ⌠                 \n",
       "  ⎮     _________   \n",
       "  ⎮    ╱  2    2    \n",
       "2⋅⎮  ╲╱  r  - x   dx\n",
       "  ⌡                 \n",
       "  -r                "
      ]
     },
     "execution_count": 27,
     "metadata": {},
     "output_type": "execute_result"
    }
   ],
   "source": [
    "f"
   ]
  },
  {
   "cell_type": "code",
   "execution_count": 28,
   "metadata": {},
   "outputs": [
    {
     "data": {
      "image/png": "[encoded data removed]",
      "text/latex": [
       "$$\\pi r^{2}$$"
      ],
      "text/plain": [
       "   2\n",
       "π⋅r "
      ]
     },
     "execution_count": 28,
     "metadata": {},
     "output_type": "execute_result"
    }
   ],
   "source": [
    "\"\"\" 首先需要定义运算中所需的符号，这里用symbols()一次创建多个符号\n",
    "。Integrate()没有计算出积分结果，而是直接返冋了输入的算式。\n",
    "这是因为SymPy不知道r是大于0的，重新定义r，就可以得到正确答案了\n",
    "\"\"\"\n",
    "r = symbols( 'r', positive=True)\n",
    "circle_area = 2 * integrate(sqrt(r**2-x**2), (x, -r, r))\n",
    "circle_area"
   ]
  },
  {
   "cell_type": "code",
   "execution_count": 29,
   "metadata": {},
   "outputs": [
    {
     "data": {
      "image/png": "[encoded data removed]",
      "text/latex": [
       "$$\\pi \\left(r^{2} - x^{2}\\right)$$"
      ],
      "text/plain": [
       "  ⎛ 2    2⎞\n",
       "π⋅⎝r  - x ⎠"
      ]
     },
     "execution_count": 29,
     "metadata": {},
     "output_type": "execute_result"
    }
   ],
   "source": [
    "\"球的体积\"\n",
    "\n",
    "\"\"\"接下来对此面积公式进行定积分，就可以得到球体的体积，但是随着\n",
    "X轴坐标的变化，对应切面的半径也会发生变化\n",
    "\"\"\"\n",
    "\" 用subs进行算式替换\"\n",
    "\"\"\" subs()可以将算式中的符号进行替换，它有3种调用方式：\n",
    "expression.subs(x, y):将算式中的 x 替换成 y.\n",
    "expression.subs({x:y,u:v}):使用字典进行多次替换.\n",
    "expression.subs([(x,y),(u,v)])：使用列表进行多次替換.\n",
    "\"\"\"\n",
    "\"\"\"\n",
    "请注意多次替换是顺序执行的，因此\n",
    " expression.subs([(x,y),(y,x)])\n",
    "并不能对符号x和y进行交换\n",
    "\"\"\"\n",
    "\"\"\"假设X轴的坐标为x,球体的半径为r,那么x处球的切面半径可以使用\n",
    "前面的公式y(x)计算出。因此需要对圆的面积公式circle_area中的变量r\n",
    "进行替代\"\"\"\n",
    "circle_area = circle_area.subs(r, sqrt(r**2-x**2))\n",
    "circle_area"
   ]
  },
  {
   "cell_type": "code",
   "execution_count": 31,
   "metadata": {},
   "outputs": [
    {
     "data": {
      "image/png": "[encoded data removed]",
      "text/latex": [
       "$$\\frac{4 \\pi}{3} r^{3}$$"
      ],
      "text/plain": [
       "     3\n",
       "4⋅π⋅r \n",
       "──────\n",
       "  3   "
      ]
     },
     "execution_count": 31,
     "metadata": {},
     "output_type": "execute_result"
    }
   ],
   "source": [
    "\"\"\"然后对circle_area中的变量x在区间-r到r上进行定积分，就可以得到\n",
    "球体的体积公式\"\"\"\n",
    "integrate(circle_area, (x, -r, r)) # 对面积微元进行积分"
   ]
  },
  {
   "cell_type": "code",
   "execution_count": 35,
   "metadata": {},
   "outputs": [],
   "source": [
    "\"符号\"\n",
    "\"\"\" 创建一个符号使用symbols()，此函数会返回一个Symbol对象，用于\n",
    "表示符号变量，其有name属性，这是符号名，如\"\"\"\n",
    "x0 = symbols(\"x0\")\n",
    "# 或\n",
    "x0 = Symbol(\"x0\")"
   ]
  },
  {
   "cell_type": "code",
   "execution_count": 36,
   "metadata": {},
   "outputs": [],
   "source": [
    "\"\"\"其中左边的x是一个符号对象，而右边括号中用引号包着的x是符号\n",
    "对象的name属性，两个x不要求一样，但是为了易于理解，通常将符号\n",
    "对象和name属性显示成一样，另外name属性是引号包起来的。如要同\n",
    "时配置多个符号对象，symbols()中多个name属性可以以空格或者逗号\n",
    "分隔，然后用引号包住，如下\"\"\"\n",
    "x0,y0,x1,y1 = symbols('x0,y0,x1,y1')"
   ]
  },
  {
   "cell_type": "code",
   "execution_count": 38,
   "metadata": {},
   "outputs": [
    {
     "data": {
      "image/png": "[encoded data removed]",
      "text/latex": [
       "$$\\left ( x_{0}, \\quad y_{0}, \\quad x_{1}, \\quad y_{1}\\right )$$"
      ],
      "text/plain": [
       "(x₀, y₀, x₁, y₁)"
      ]
     },
     "execution_count": 38,
     "metadata": {},
     "output_type": "execute_result"
    }
   ],
   "source": [
    "\"\"\" 一次配置三个符号，由于符号对象名和name属性名经常一致，所\n",
    "以可以使用var（）函数，如\"\"\"\n",
    "var(\"x0,y0,x1,y1\")"
   ]
  },
  {
   "cell_type": "code",
   "execution_count": 39,
   "metadata": {},
   "outputs": [
    {
     "data": {
      "image/png": "[encoded data removed]",
      "text/latex": [
       "$$x_{0}$$"
      ],
      "text/plain": [
       "x₀"
      ]
     },
     "execution_count": 39,
     "metadata": {},
     "output_type": "execute_result"
    }
   ],
   "source": [
    "\"\"\" 这语句和上个语句功能一致，在当前环境中创建了4个同名的\n",
    "Symbol对象（为了防止误会，使用symbols其实更好）\"\"\"\n",
    "\"\"\"上面的语句创建了名为x0、y0、x1、y1的4个Symbol对象，同时还在当\n",
    "前的环境中创建 了 4个同名的变量来分别表示这4个Symbol对象。因为符\n",
    "号对象在转换为字符串时直接使用它的name 属性，因此在交互式环境中\n",
    "看到变量,x0的值就是x0，但是査看变量x0的类型时就可以发现，它实际\n",
    "上是一个Symbol对象\"\"\"\n",
    "x0"
   ]
  },
  {
   "cell_type": "code",
   "execution_count": 40,
   "metadata": {},
   "outputs": [
    {
     "data": {
      "text/plain": [
       "sympy.core.symbol.Symbol"
      ]
     },
     "execution_count": 40,
     "metadata": {},
     "output_type": "execute_result"
    }
   ],
   "source": [
    "type(x0)"
   ]
  },
  {
   "cell_type": "code",
   "execution_count": 41,
   "metadata": {},
   "outputs": [
    {
     "data": {
      "text/plain": [
       "'x0'"
      ]
     },
     "execution_count": 41,
     "metadata": {},
     "output_type": "execute_result"
    }
   ],
   "source": [
    "x0.name"
   ]
  },
  {
   "cell_type": "code",
   "execution_count": 42,
   "metadata": {},
   "outputs": [
    {
     "data": {
      "text/plain": [
       "str"
      ]
     },
     "execution_count": 42,
     "metadata": {},
     "output_type": "execute_result"
    }
   ],
   "source": [
    "type(x0.name)"
   ]
  },
  {
   "cell_type": "code",
   "execution_count": 43,
   "metadata": {},
   "outputs": [
    {
     "data": {
      "image/png": "[encoded data removed]",
      "text/latex": [
       "$$\\left ( \\alpha, \\quad \\beta\\right )$$"
      ],
      "text/plain": [
       "(α, β)"
      ]
     },
     "execution_count": 43,
     "metadata": {},
     "output_type": "execute_result"
    }
   ],
   "source": [
    "\" 变量名和符号名当然也可以是不一样的，例如\"\n",
    "a, b = symbols(\"alpha, beta\")\n",
    "a, b"
   ]
  },
  {
   "cell_type": "code",
   "execution_count": 44,
   "metadata": {},
   "outputs": [],
   "source": [
    "\"\"\" 数学公式中的符号一般都有特定的假设，例如m、n通常是整数，而z经\n",
    "常表示复数。在用var()、symbols() 或 Symbol() 创建Symbol对象时，可\n",
    "以通过关键字参数指定所创建符号的假设条件，这些假设条件会影响到\n",
    "它们所参与的计算\"\"\"\n",
    "\" 例如，下面创建了两个整数符号 m 和 n, 以及一个正数符号 x\"\n",
    "m, n = symbols(\"m,n\", integer=True)\n",
    "x = Symbol(\"x\", positive=True)"
   ]
  },
  {
   "cell_type": "code",
   "execution_count": 45,
   "metadata": {},
   "outputs": [
    {
     "data": {
      "text/plain": [
       "True"
      ]
     },
     "execution_count": 45,
     "metadata": {},
     "output_type": "execute_result"
    }
   ],
   "source": [
    "\"\"\"每个符号都有许多is_*属性，用以判断符号的各种假设条件。在IPython\n",
    "中，使用自动完 成功能可以快速査看这些假设的名称。注意下划线后为\n",
    "大写字母的属性，用来判断对象的类型; 而全小写字母的属性，则用来\n",
    "判断符号的假设条件。\"\"\"\n",
    "x.is_Symbol"
   ]
  },
  {
   "cell_type": "code",
   "execution_count": 46,
   "metadata": {},
   "outputs": [
    {
     "data": {
      "text/plain": [
       "True"
      ]
     },
     "execution_count": 46,
     "metadata": {},
     "output_type": "execute_result"
    }
   ],
   "source": [
    "x.is_positive"
   ]
  },
  {
   "cell_type": "code",
   "execution_count": 47,
   "metadata": {},
   "outputs": [
    {
     "data": {
      "text/plain": [
       "False"
      ]
     },
     "execution_count": 47,
     "metadata": {},
     "output_type": "execute_result"
    }
   ],
   "source": [
    "x.is_imaginary"
   ]
  },
  {
   "cell_type": "code",
   "execution_count": 48,
   "metadata": {},
   "outputs": [
    {
     "data": {
      "text/plain": [
       "True"
      ]
     },
     "execution_count": 48,
     "metadata": {},
     "output_type": "execute_result"
    }
   ],
   "source": [
    "# x是一个复数，因为复数包括实数，而实数包括正数 \n",
    "x.is_complex"
   ]
  },
  {
   "cell_type": "code",
   "execution_count": 53,
   "metadata": {},
   "outputs": [
    {
     "data": {
      "text/plain": [
       "{'commutative': True,\n",
       " 'complex': True,\n",
       " 'hermitian': True,\n",
       " 'imaginary': False,\n",
       " 'negative': False,\n",
       " 'nonnegative': True,\n",
       " 'nonpositive': False,\n",
       " 'nonzero': True,\n",
       " 'positive': True,\n",
       " 'real': True,\n",
       " 'zero': False}"
      ]
     },
     "execution_count": 53,
     "metadata": {},
     "output_type": "execute_result"
    }
   ],
   "source": [
    "\"\"\"使用 assumptions0  属性可以快速査看所有的假设条件，其中\n",
    "commutative为True表示此符号满足交换律，其余的假设条件根据英文名\n",
    "很容易知道它们的含义。\"\"\"\n",
    "x.assumptions0"
   ]
  },
  {
   "cell_type": "code",
   "execution_count": 54,
   "metadata": {},
   "outputs": [
    {
     "data": {
      "text/plain": [
       "[sympy.core.symbol.Symbol,\n",
       " sympy.core.expr.AtomicExpr,\n",
       " sympy.core.basic.Atom,\n",
       " sympy.core.expr.Expr,\n",
       " sympy.logic.boolalg.Boolean,\n",
       " sympy.core.basic.Basic,\n",
       " sympy.core.evalf.EvalfMixin,\n",
       " object]"
      ]
     },
     "execution_count": 54,
     "metadata": {},
     "output_type": "execute_result"
    }
   ],
   "source": [
    "\"\"\"在SymPy中，所有的对象都从Basic类继承，实际上这些is_*属性和\n",
    "assumptions0属性都是在Basic类中定义的\"\"\"\n",
    "Symbol.mro()"
   ]
  },
  {
   "cell_type": "code",
   "execution_count": 55,
   "metadata": {},
   "outputs": [
    {
     "data": {
      "image/png": "[encoded data removed]",
      "text/latex": [
       "$$0.8333333333333333$$"
      ],
      "text/plain": [
       "0.8333333333333333"
      ]
     },
     "execution_count": 55,
     "metadata": {},
     "output_type": "execute_result"
    }
   ],
   "source": [
    "\"数值\"\n",
    "\"\"\"为了实现符号运算，在SymPy内部有一整套数值运算系统。因\n",
    "此SymPy的数值和Python 的整数、浮点数是完全不同的对象。为\n",
    "了使用方便，SymPy会尽量自动将Python的数值类型转换为SymPy的数值类型。\n",
    "此外，SymPy提供了一个S对象用于进行这种转换。\n",
    "在下面的例子中，当有SymPy的数值参与计算时，结果将是SymPy的数值对象。\n",
    "\"\"\"\n",
    "# 结果为浮点数\n",
    "1/2 + 1/3"
   ]
  },
  {
   "cell_type": "code",
   "execution_count": 56,
   "metadata": {},
   "outputs": [
    {
     "data": {
      "image/png": "[encoded data removed]",
      "text/latex": [
       "$$\\frac{5}{6}$$"
      ],
      "text/plain": [
       "5/6"
      ]
     },
     "execution_count": 56,
     "metadata": {},
     "output_type": "execute_result"
    }
   ],
   "source": [
    "#结果为SymPy的数值对象\n",
    "S(1)/2 + 1/S(3)"
   ]
  },
  {
   "cell_type": "code",
   "execution_count": 57,
   "metadata": {},
   "outputs": [
    {
     "data": {
      "image/png": "[encoded data removed]",
      "text/latex": [
       "$$\\frac{1}{2}$$"
      ],
      "text/plain": [
       "1/2"
      ]
     },
     "execution_count": 57,
     "metadata": {},
     "output_type": "execute_result"
    }
   ],
   "source": [
    "\"\"\"“5/6”在SymPy中使用Rational对象表示，它由两个整数的商表示，\n",
    "数学上称之为有理数。也可以直接通过Rational创建\"\"\"\n",
    "# 有理数会自动进行约分处理\n",
    "Rational(5,10)"
   ]
  },
  {
   "cell_type": "code",
   "execution_count": 59,
   "metadata": {},
   "outputs": [
    {
     "data": {
      "image/png": "[encoded data removed]",
      "text/latex": [
       "$$x + y + z$$"
      ],
      "text/plain": [
       "x + y + z"
      ]
     },
     "execution_count": 59,
     "metadata": {},
     "output_type": "execute_result"
    }
   ],
   "source": [
    "\"运算符和函数\"\n",
    "\"\"\"SymPy重新定义了所有的数学运算符和数学函数。例如Add类表示加\n",
    "法，Mul类表示乘法，而Pow类表示指数运算，sin类表示正弦函数。和\n",
    "Symbol对象一样，这些运算符和函数都从Basic类继承，可在IPython中\n",
    "查看它们的继承列表(例如:Add.mro())。可以使用这些类创建复杂的表\n",
    "达式\"\"\"\n",
    "var(\"x, y, z, n\")\n",
    "Add(x, y, z)"
   ]
  },
  {
   "cell_type": "code",
   "execution_count": 60,
   "metadata": {},
   "outputs": [
    {
     "data": {
      "image/png": "[encoded data removed]",
      "text/latex": [
       "$$x y z + x^{y} + \\sin{\\left (z \\right )}$$"
      ],
      "text/plain": [
       "         y         \n",
       "x⋅y⋅z + x  + sin(z)"
      ]
     },
     "execution_count": 60,
     "metadata": {},
     "output_type": "execute_result"
    }
   ],
   "source": [
    "Add(Mul(x,y,z), Pow(x,y), sin(z))"
   ]
  },
  {
   "cell_type": "code",
   "execution_count": 61,
   "metadata": {},
   "outputs": [
    {
     "data": {
      "image/png": "[encoded data removed]",
      "text/latex": [
       "$$x y z + x^{y} + \\sin{\\left (z \\right )}$$"
      ],
      "text/plain": [
       "         y         \n",
       "x⋅y⋅z + x  + sin(z)"
      ]
     },
     "execution_count": 61,
     "metadata": {},
     "output_type": "execute_result"
    }
   ],
   "source": [
    "\"\"\"由于在Basic类中重新定义了__add__()等用于创建表达式的方法，因\n",
    "此可以使用和Python表达式相同的方式创建SymPy的表达式\"\"\"\n",
    "x*y*z + sin(z) + x**y "
   ]
  },
  {
   "cell_type": "code",
   "execution_count": 62,
   "metadata": {},
   "outputs": [
    {
     "data": {
      "text/plain": [
       "sympy.core.mul.Mul"
      ]
     },
     "execution_count": 62,
     "metadata": {},
     "output_type": "execute_result"
    }
   ],
   "source": [
    "\"\"\"在Basic类中定义了两个很重要的属性：func和args。func属性得到对\n",
    "象的类，而args得到其参数。使用这两个属性可以观察SymPy所创建的\n",
    "表达式。 SymPy没有减法运算类，下面看看减法运算所得到的表达式\"\"\"\n",
    "t = z - y\n",
    "f.func # 减法运算用加法类Add表示 "
   ]
  },
  {
   "cell_type": "code",
   "execution_count": 63,
   "metadata": {},
   "outputs": [
    {
     "data": {
      "image/png": "[encoded data removed]",
      "text/latex": [
       "$$\\left ( z, \\quad - y\\right )$$"
      ],
      "text/plain": [
       "(z, -y)"
      ]
     },
     "execution_count": 63,
     "metadata": {},
     "output_type": "execute_result"
    }
   ],
   "source": [
    "t.args # 两个加数一个是x，一个是-y"
   ]
  },
  {
   "cell_type": "code",
   "execution_count": 64,
   "metadata": {},
   "outputs": [
    {
     "data": {
      "text/plain": [
       "sympy.core.mul.Mul"
      ]
     },
     "execution_count": 64,
     "metadata": {},
     "output_type": "execute_result"
    }
   ],
   "source": [
    "t.args[1].func # -y是用Mul表示的"
   ]
  },
  {
   "cell_type": "code",
   "execution_count": 65,
   "metadata": {},
   "outputs": [
    {
     "data": {
      "image/png": "[encoded data removed]",
      "text/latex": [
       "$$\\left ( -1, \\quad y\\right )$$"
      ],
      "text/plain": [
       "(-1, y)"
      ]
     },
     "execution_count": 65,
     "metadata": {},
     "output_type": "execute_result"
    }
   ],
   "source": [
    "t.args[1].args"
   ]
  },
  {
   "cell_type": "code",
   "execution_count": 68,
   "metadata": {},
   "outputs": [],
   "source": [
    "\"\"\"通过上面的例子可以看出，表达式“x-y”在SymPy中实际上是用\n",
    "“Add(x, Mul(-1, y))”表示的。同样，SymPy中没有除法类，可使用和\n",
    "上面相同的方法观察“x/y”在SymPy中是如何表示的\"\"\"\n",
    "\"\"\" SymPy的表达式实际上是一个由Basic类的各种对象进行多层嵌套所\n",
    "得到的树状结构。下面的函数使用递归显示这种树状结构\"\"\"\n",
    "def print_expression(e, level=0): \n",
    "    spaces = \" \"*level \n",
    "    if isinstance(e, (Symbol, Number)):\n",
    "        print(spaces + str(e))\n",
    "        return\n",
    "    if len(e.args) > 0:\n",
    "        print(spaces + e.func.__name__)\n",
    "        for arg in e.args: \n",
    "            print_expression(arg, level+1) \n",
    "    else:\n",
    "        print(spaces + e.func.__name__)"
   ]
  },
  {
   "cell_type": "code",
   "execution_count": 69,
   "metadata": {},
   "outputs": [
    {
     "name": "stdout",
     "output_type": "stream",
     "text": [
      "Pow\n",
      " Add\n",
      "  Pow\n",
      "   x\n",
      "   2\n",
      "  Pow\n",
      "   y\n",
      "   2\n",
      " 1/2\n"
     ]
    }
   ],
   "source": [
    "\"\"\"由于fsolve函数在调用函数f时，传递的参数为数组，因此如果直接使\n",
    "用数组中的元素计算的话，计算速度将会有所降低，因此这里先用\n",
    "float函数将数组中的元素转换为Python中的标准浮点数，然后调用标\n",
    "准math库中的函数进行运算。\"\"\"\n",
    "\"例如(x^2 + y^2)^0.5在SymPy中使用下面的树表示\"\n",
    "print_expression(sqrt(x**2+y**2))"
   ]
  },
  {
   "cell_type": "code",
   "execution_count": 70,
   "metadata": {},
   "outputs": [],
   "source": [
    "\"\"\"由于其中的各个对象的args属性类型是元组，因此表达式一旦创建就不\n",
    "能再改变。使用不可变的结构表示表达式有很多优点，例如可以用表达\n",
    "式作为字典的键\"\"\"\n",
    "\"\"\"除了使用SymPy中预先定义好的具有特殊运算含义的数学函数之外，\n",
    "还可以使用Function()创建自定义的数学函数\"\"\"\n",
    "f = Function(\"f\")"
   ]
  },
  {
   "cell_type": "code",
   "execution_count": 71,
   "metadata": {},
   "outputs": [
    {
     "data": {
      "text/plain": [
       "AppliedUndef"
      ]
     },
     "execution_count": 71,
     "metadata": {},
     "output_type": "execute_result"
    }
   ],
   "source": [
    "\"\"\"请注意Function虽然是一个类，但是上面的语句所得到的f并不是\n",
    "Function类的实例。和预定义的数学函数一样，f是一个类，它从\n",
    "Function类继承\"\"\"\n",
    "f.__base__"
   ]
  },
  {
   "cell_type": "code",
   "execution_count": 72,
   "metadata": {},
   "outputs": [
    {
     "data": {
      "text/plain": [
       "False"
      ]
     },
     "execution_count": 72,
     "metadata": {},
     "output_type": "execute_result"
    }
   ],
   "source": [
    "isinstance(f, Function)"
   ]
  },
  {
   "cell_type": "code",
   "execution_count": 74,
   "metadata": {},
   "outputs": [
    {
     "data": {
      "text/plain": [
       "True"
      ]
     },
     "execution_count": 74,
     "metadata": {},
     "output_type": "execute_result"
    }
   ],
   "source": [
    "\" 当我使用f创建一个表达式时，就相当于创建它的一个实例\"\n",
    "t = f(x, y)\n",
    "isinstance(t, Function)"
   ]
  },
  {
   "cell_type": "code",
   "execution_count": 75,
   "metadata": {},
   "outputs": [
    {
     "data": {
      "text/plain": [
       "f"
      ]
     },
     "execution_count": 75,
     "metadata": {},
     "output_type": "execute_result"
    }
   ],
   "source": [
    "type(t)"
   ]
  },
  {
   "cell_type": "code",
   "execution_count": 76,
   "metadata": {},
   "outputs": [
    {
     "data": {
      "text/plain": [
       "f"
      ]
     },
     "execution_count": 76,
     "metadata": {},
     "output_type": "execute_result"
    }
   ],
   "source": [
    "t.func  # 对象的类"
   ]
  },
  {
   "cell_type": "code",
   "execution_count": 77,
   "metadata": {},
   "outputs": [
    {
     "data": {
      "image/png": "[encoded data removed]",
      "text/latex": [
       "$$\\left ( x, \\quad y\\right )$$"
      ],
      "text/plain": [
       "(x, y)"
      ]
     },
     "execution_count": 77,
     "metadata": {},
     "output_type": "execute_result"
    }
   ],
   "source": [
    "t.args  # 对象的参数"
   ]
  },
  {
   "cell_type": "code",
   "execution_count": 78,
   "metadata": {},
   "outputs": [
    {
     "data": {
      "image/png": "[encoded data removed]",
      "text/latex": [
       "$$f{\\left (x,y \\right )} + f^{f{\\left (x,y \\right )}}{\\left (x,y \\right )}$$"
      ],
      "text/plain": [
       "           f(x, y)      \n",
       "f(x, y) + f       (x, y)"
      ]
     },
     "execution_count": 78,
     "metadata": {},
     "output_type": "execute_result"
    }
   ],
   "source": [
    "\" f 的实例t可以参与表达式运算\"\n",
    "t + t**t"
   ]
  },
  {
   "cell_type": "code",
   "execution_count": 79,
   "metadata": {},
   "outputs": [
    {
     "data": {
      "image/png": "[encoded data removed]",
      "text/latex": [
       "$$2 x + 3$$"
      ],
      "text/plain": [
       "2⋅x + 3"
      ]
     },
     "execution_count": 79,
     "metadata": {},
     "output_type": "execute_result"
    }
   ],
   "source": [
    "\"表达式变换和化简\"\n",
    "\" simplify()可以对数学表达式进行化简，例如\"\n",
    "simplify((x+2)**2 - (x+1)**2) "
   ]
  },
  {
   "cell_type": "code",
   "execution_count": 80,
   "metadata": {},
   "outputs": [
    {
     "data": {
      "image/png": "[encoded data removed]",
      "text/latex": [
       "$$\\frac{1}{3} \\left(- \\sqrt{5} + 2 \\sqrt{2}\\right)$$"
      ],
      "text/plain": [
       "-√5 + 2⋅√2\n",
       "──────────\n",
       "    3     "
      ]
     },
     "execution_count": 80,
     "metadata": {},
     "output_type": "execute_result"
    }
   ],
   "source": [
    "\"\"\"simplify()调用SymPy内部的多种表达式变换函数对表达式进行化简运\n",
    "算。但是数学表达式的化简是一件非常复杂的工作，并且对于同一个表\n",
    "达式，根据其使用目的可以有多种化简方案\"\"\"\n",
    "\"\"\" radsimp()对表达式的分母进行有理化，它所得到的表达式的分母部分\n",
    "将不含无理数。例如\"\"\"\n",
    "radsimp(1/(sqrt(5)+2*sqrt(2)))"
   ]
  },
  {
   "cell_type": "code",
   "execution_count": 81,
   "metadata": {},
   "outputs": [
    {
     "data": {
      "image/png": "[encoded data removed]",
      "text/latex": [
       "$$\\frac{- \\sqrt{x} y + x \\sqrt{y}}{x y \\left(x - y\\right)}$$"
      ],
      "text/plain": [
       "-√x⋅y + x⋅√y\n",
       "────────────\n",
       "x⋅y⋅(x - y) "
      ]
     },
     "execution_count": 81,
     "metadata": {},
     "output_type": "execute_result"
    }
   ],
   "source": [
    "\"它也可以对带符号的表达式进行处理\"\n",
    "radsimp(1/(y*sqrt(x)+x*sqrt(y)))"
   ]
  },
  {
   "cell_type": "code",
   "execution_count": 82,
   "metadata": {},
   "outputs": [
    {
     "data": {
      "image/png": "[encoded data removed]",
      "text/latex": [
       "$$\\frac{2 y^{2}}{x^{2} - y^{2}} + 1$$"
      ],
      "text/plain": [
       "     2     \n",
       "  2⋅y      \n",
       "─────── + 1\n",
       " 2    2    \n",
       "x  - y     "
      ]
     },
     "execution_count": 82,
     "metadata": {},
     "output_type": "execute_result"
    }
   ],
   "source": [
    "\"\"\" ratsimp()对表达式中的分母进行通分运算，即将表达式转换为分子除\n",
    "分母的形式\"\"\"\n",
    "ratsimp(x/(x+y)+y/(x-y))"
   ]
  },
  {
   "cell_type": "code",
   "execution_count": 83,
   "metadata": {},
   "outputs": [
    {
     "data": {
      "image/png": "[encoded data removed]",
      "text/latex": [
       "$$\\left ( x + y, \\quad x y\\right )$$"
      ],
      "text/plain": [
       "(x + y, x⋅y)"
      ]
     },
     "execution_count": 83,
     "metadata": {},
     "output_type": "execute_result"
    }
   ],
   "source": [
    "\"\"\" fraction()返回一个包含表达式的分子和分母的元组,用它可以获得\n",
    "ratsimp()通分之后的分子或分母\"\"\"\n",
    "fraction(ratsimp(1/x+1/y))"
   ]
  },
  {
   "cell_type": "code",
   "execution_count": 84,
   "metadata": {},
   "outputs": [
    {
     "data": {
      "image/png": "[encoded data removed]",
      "text/latex": [
       "$$\\left ( \\frac{1}{y} + \\frac{1}{x}, \\quad 1\\right )$$"
      ],
      "text/plain": [
       "⎛1   1   ⎞\n",
       "⎜─ + ─, 1⎟\n",
       "⎝y   x   ⎠"
      ]
     },
     "execution_count": 84,
     "metadata": {},
     "output_type": "execute_result"
    }
   ],
   "source": [
    "\"注意fraction()不会自动对表达式进行通分运算，因此\"\n",
    "fraction(1/x+1/y)"
   ]
  },
  {
   "cell_type": "code",
   "execution_count": 85,
   "metadata": {},
   "outputs": [
    {
     "data": {
      "image/png": "[encoded data removed]",
      "text/latex": [
       "$$x - 1$$"
      ],
      "text/plain": [
       "x - 1"
      ]
     },
     "execution_count": 85,
     "metadata": {},
     "output_type": "execute_result"
    }
   ],
   "source": [
    "\"\"\" cancel()对分式表达式的分子分母进行约分运算，可以对纯符号的分\n",
    "式表达式以及自定义函数表达式进行约分，但是不能对内部函数的表达\n",
    "式进行约分。\"\"\"\n",
    "cancel((x**2-1)/(1+x))"
   ]
  },
  {
   "cell_type": "code",
   "execution_count": 86,
   "metadata": {},
   "outputs": [
    {
     "data": {
      "image/png": "[encoded data removed]",
      "text/latex": [
       "$$\\sin{\\left (\\frac{x^{2}}{x + 1} - \\frac{1}{x + 1} \\right )}$$"
      ],
      "text/plain": [
       "   ⎛   2         ⎞\n",
       "   ⎜  x       1  ⎟\n",
       "sin⎜───── - ─────⎟\n",
       "   ⎝x + 1   x + 1⎠"
      ]
     },
     "execution_count": 86,
     "metadata": {},
     "output_type": "execute_result"
    }
   ],
   "source": [
    "cancel(sin((x**2-1)/(1+x))) # cancel不能对函数内部的表达式进行约分"
   ]
  },
  {
   "cell_type": "code",
   "execution_count": 87,
   "metadata": {},
   "outputs": [
    {
     "data": {
      "image/png": "[encoded data removed]",
      "text/latex": [
       "$$f{\\left (x \\right )} - 1$$"
      ],
      "text/plain": [
       "f(x) - 1"
      ]
     },
     "execution_count": 87,
     "metadata": {},
     "output_type": "execute_result"
    }
   ],
   "source": [
    "cancel((f(x)**2-1)/(f(x)+1)) #  #能对自定义函数表达式进行约分"
   ]
  },
  {
   "cell_type": "code",
   "execution_count": 88,
   "metadata": {},
   "outputs": [
    {
     "data": {
      "image/png": "[encoded data removed]",
      "text/latex": [
       "$$\\sin{\\left (2 x \\right )} + 1$$"
      ],
      "text/plain": [
       "sin(2⋅x) + 1"
      ]
     },
     "execution_count": 88,
     "metadata": {},
     "output_type": "execute_result"
    }
   ],
   "source": [
    "\"\"\" trigsimp()对表达式中的三角函数进行化简。它有两个可选参数--deep\n",
    "和recursive，默认值都为False。当deep参数为True时，将对表达式中的\n",
    "所有子表达式进行简化运算；当recursive 参数为True时，将递归使用\n",
    "trigsimp()进行最大限度的化简\"\"\"\n",
    "trigsimp(sin(x)**2+2*sin(x)*cos(x)+cos(x)**2)"
   ]
  },
  {
   "cell_type": "code",
   "execution_count": 89,
   "metadata": {},
   "outputs": [
    {
     "data": {
      "image/png": "[encoded data removed]",
      "text/latex": [
       "$$f{\\left (\\sin{\\left (2 x \\right )} + 1 \\right )}$$"
      ],
      "text/plain": [
       "f(sin(2⋅x) + 1)"
      ]
     },
     "execution_count": 89,
     "metadata": {},
     "output_type": "execute_result"
    }
   ],
   "source": [
    "#也能对自定义函数中的三角函数化简\n",
    "trigsimp(f(sin(x)**2+2*sin(x)*cos(x)+cos(x)**2)) "
   ]
  },
  {
   "cell_type": "code",
   "execution_count": 91,
   "metadata": {},
   "outputs": [
    {
     "data": {
      "image/png": "[encoded data removed]",
      "text/latex": [
       "$$\\left(2 \\cos^{2}{\\left (x \\right )} - 1\\right) \\sin{\\left (y \\right )} + 2 \\sin{\\left (x \\right )} \\cos{\\left (x \\right )} \\cos{\\left (y \\right )}$$"
      ],
      "text/plain": [
       "⎛     2       ⎞                                \n",
       "⎝2⋅cos (x) - 1⎠⋅sin(y) + 2⋅sin(x)⋅cos(x)⋅cos(y)"
      ]
     },
     "execution_count": 91,
     "metadata": {},
     "output_type": "execute_result"
    }
   ],
   "source": [
    "\"\"\"expand_trig()可以对三角函数的表达式进行展开。它实际上是对\n",
    "expand()的封装，通过将 expand()的trig参数设置为True,实现三角函数的展\n",
    "开计算。输入“expand_trig??” 来査看它调用expand()时的参数\"\"\"\n",
    "expand_trig(sin(2*x+y))"
   ]
  },
  {
   "cell_type": "code",
   "execution_count": 93,
   "metadata": {},
   "outputs": [
    {
     "data": {
      "image/png": "[encoded data removed]",
      "text/latex": [
       "$$\\log{\\left (x \\right )} + 2 \\log{\\left (y \\right )}$$"
      ],
      "text/plain": [
       "log(x) + 2⋅log(y)"
      ]
     },
     "execution_count": 93,
     "metadata": {},
     "output_type": "execute_result"
    }
   ],
   "source": [
    "\"\"\" expand()通用的展开运算，根据用户设置的标志参数对表达式进行展幵。\n",
    "默认情况下，以下的标志参数为 True\"\"\"\n",
    "\" mul展开乘法\"\n",
    "\" log:展开对数函数参数中的乘积和幂运算\"\n",
    "x,y=symbols(\"x,y\",positive=True)\n",
    "expand(log(x*y**2))"
   ]
  },
  {
   "cell_type": "code",
   "execution_count": 94,
   "metadata": {},
   "outputs": [
    {
     "data": {
      "image/png": "[encoded data removed]",
      "text/latex": [
       "$$x^{3} + 3 x^{2} y + 3 x y^{2} + y^{3}$$"
      ],
      "text/plain": [
       " 3      2          2    3\n",
       "x  + 3⋅x ⋅y + 3⋅x⋅y  + y "
      ]
     },
     "execution_count": 94,
     "metadata": {},
     "output_type": "execute_result"
    }
   ],
   "source": [
    "\"multinomial:展开加法式的整数次幂\"\n",
    "expand((x+y)**3)"
   ]
  },
  {
   "cell_type": "code",
   "execution_count": 95,
   "metadata": {},
   "outputs": [
    {
     "data": {
      "image/png": "[encoded data removed]",
      "text/latex": [
       "$$x^{y} x^{z}$$"
      ],
      "text/plain": [
       " y  z\n",
       "x ⋅x "
      ]
     },
     "execution_count": 95,
     "metadata": {},
     "output_type": "execute_result"
    }
   ],
   "source": [
    "\"power_base:展开幂函数的底数乘积\"\n",
    "expand(x**(y+z)) "
   ]
  },
  {
   "cell_type": "code",
   "execution_count": 96,
   "metadata": {},
   "outputs": [
    {
     "data": {
      "image/png": "[encoded data removed]",
      "text/latex": [
       "$$x \\left(\\log{\\left (y \\right )} + \\log{\\left (z \\right )}\\right)$$"
      ],
      "text/plain": [
       "x⋅(log(y) + log(z))"
      ]
     },
     "execution_count": 96,
     "metadata": {},
     "output_type": "execute_result"
    }
   ],
   "source": [
    "\"\"\"可以将默认为True的标志参数设置为False,强制不展开对应的表达式。\n",
    "在下面的例子中， 将mul设置为False,因此不对乘法进行展开\"\"\"\n",
    "x,y,z=symbols(\"x,y,z\", positive=True)\n",
    "expand(x*log(y*z), mul=False)"
   ]
  },
  {
   "cell_type": "code",
   "execution_count": 97,
   "metadata": {},
   "outputs": [
    {
     "data": {
      "image/png": "[encoded data removed]",
      "text/latex": [
       "$$\\Re{\\left(x\\right)} \\Re{\\left(y\\right)} + i \\Re{\\left(x\\right)} \\Im{y} + i \\Re{\\left(y\\right)} \\Im{x} - \\Im{x} \\Im{y}$$"
      ],
      "text/plain": [
       "re(x)⋅re(y) + ⅈ⋅re(x)⋅im(y) + ⅈ⋅re(y)⋅im(x) - im(x)⋅im(y)"
      ]
     },
     "execution_count": 97,
     "metadata": {},
     "output_type": "execute_result"
    }
   ],
   "source": [
    "\" expand()的以下标志参数默认为False\"\n",
    "\" complex:展开复数的实部和虚部，默认不展开复数的实部和虚部\"\n",
    "x,y=symbols(\"x,y\",complex=True)\n",
    "expand(x*y, complex=True)"
   ]
  },
  {
   "cell_type": "code",
   "execution_count": 98,
   "metadata": {},
   "outputs": [
    {
     "data": {
      "image/png": "[encoded data removed]",
      "text/latex": [
       "$$x \\Gamma{\\left(x \\right)}$$"
      ],
      "text/plain": [
       "x⋅Γ(x)"
      ]
     },
     "execution_count": 98,
     "metadata": {},
     "output_type": "execute_result"
    }
   ],
   "source": [
    "\" func:对一些特殊函数进行展开\"\n",
    "expand(gamma (1+x),func=True)"
   ]
  },
  {
   "cell_type": "code",
   "execution_count": 99,
   "metadata": {},
   "outputs": [
    {
     "data": {
      "image/png": "[encoded data removed]",
      "text/latex": [
       "$$\\sin{\\left (x \\right )} \\cos{\\left (y \\right )} + \\sin{\\left (y \\right )} \\cos{\\left (x \\right )}$$"
      ],
      "text/plain": [
       "sin(x)⋅cos(y) + sin(y)⋅cos(x)"
      ]
     },
     "execution_count": 99,
     "metadata": {},
     "output_type": "execute_result"
    }
   ],
   "source": [
    "\" trig:展开三角函数\"\n",
    "expand(sin(x+y), trig=True)"
   ]
  },
  {
   "cell_type": "code",
   "execution_count": 100,
   "metadata": {},
   "outputs": [
    {
     "data": {
      "text/plain": [
       "'expand_log()、expand mul()、expand_complex()、expand_trig()、\\nexpand_func()等函数则通过将相应的标志参数设置为True,对expand()进\\n行封装'"
      ]
     },
     "execution_count": 100,
     "metadata": {},
     "output_type": "execute_result"
    }
   ],
   "source": [
    "\"\"\"expand_log()、expand mul()、expand_complex()、expand_trig()、\n",
    "expand_func()等函数则通过将相应的标志参数设置为True,对expand()进\n",
    "行封装\"\"\""
   ]
  },
  {
   "cell_type": "code",
   "execution_count": 101,
   "metadata": {},
   "outputs": [
    {
     "data": {
      "image/png": "[encoded data removed]",
      "text/latex": [
       "$$\\left(3 x - 2 y\\right) \\left(5 x - 1\\right)$$"
      ],
      "text/plain": [
       "(3⋅x - 2⋅y)⋅(5⋅x - 1)"
      ]
     },
     "execution_count": 101,
     "metadata": {},
     "output_type": "execute_result"
    }
   ],
   "source": [
    "\"factor()可以对多项式表达式进行因式分解\"\n",
    "factor(15*x**2+2*y-3*x-10*x*y)"
   ]
  },
  {
   "cell_type": "code",
   "execution_count": 102,
   "metadata": {},
   "outputs": [
    {
     "data": {
      "image/png": "[encoded data removed]",
      "text/latex": [
       "$$\\left(x + y\\right)^{20}$$"
      ],
      "text/plain": [
       "       20\n",
       "(x + y)  "
      ]
     },
     "execution_count": 102,
     "metadata": {},
     "output_type": "execute_result"
    }
   ],
   "source": [
    "factor(expand((x+y)**20))"
   ]
  },
  {
   "cell_type": "code",
   "execution_count": 103,
   "metadata": {},
   "outputs": [],
   "source": [
    "\"\"\" collect()收集表达式中指定符号的有理指数次幂的系数。例如，希望\n",
    "获得如下表达式中x的各次幂的系数\"\"\"\n",
    "a,b = symbols('a,b')\n",
    "eq = (1+a*x)**3 + (1+b*x)**2"
   ]
  },
  {
   "cell_type": "code",
   "execution_count": 105,
   "metadata": {},
   "outputs": [
    {
     "data": {
      "image/png": "[encoded data removed]",
      "text/latex": [
       "$$a^{3} x^{3} + 3 a^{2} x^{2} + 3 a x + b^{2} x^{2} + 2 b x + 2$$"
      ],
      "text/plain": [
       " 3  3      2  2            2  2            \n",
       "a ⋅x  + 3⋅a ⋅x  + 3⋅a⋅x + b ⋅x  + 2⋅b⋅x + 2"
      ]
     },
     "execution_count": 105,
     "metadata": {},
     "output_type": "execute_result"
    }
   ],
   "source": [
    "\"首先需要对表达式eq进行展开，得到的表达式eq2是一系列乘式的和\"\n",
    "eq2 = expand(eq)\n",
    "eq2"
   ]
  },
  {
   "cell_type": "code",
   "execution_count": 106,
   "metadata": {},
   "outputs": [
    {
     "data": {
      "image/png": "[encoded data removed]",
      "text/latex": [
       "$$a^{3} x^{3} + x^{2} \\left(3 a^{2} + b^{2}\\right) + x \\left(3 a + 2 b\\right) + 2$$"
      ],
      "text/plain": [
       " 3  3    2 ⎛   2    2⎞                    \n",
       "a ⋅x  + x ⋅⎝3⋅a  + b ⎠ + x⋅(3⋅a + 2⋅b) + 2"
      ]
     },
     "execution_count": 106,
     "metadata": {},
     "output_type": "execute_result"
    }
   ],
   "source": [
    "\"然后调用collect(),对表达式eq2中X的幂的系数进行收集\"\n",
    "collect(eq2,x)"
   ]
  },
  {
   "cell_type": "code",
   "execution_count": 107,
   "metadata": {},
   "outputs": [
    {
     "data": {
      "image/png": "[encoded data removed]",
      "text/latex": [
       "$$2$$"
      ],
      "text/plain": [
       "2"
      ]
     },
     "execution_count": 107,
     "metadata": {},
     "output_type": "execute_result"
    }
   ],
   "source": [
    "\"\"\"默认情况下，collect()返回的是一个整理之后的表达式，如果我们希\n",
    "望得到x的各次幂的系数，可以设置evaluate参数为False,让它返回一个\n",
    "以X的幂为键、值为系数的字典\"\"\"\n",
    "p = collect(eq2, x, evaluate=False)\n",
    "p[S(1)] #常数项，注意需要用SymPy中的数值1,或者使用p[x**0]"
   ]
  },
  {
   "cell_type": "code",
   "execution_count": 108,
   "metadata": {},
   "outputs": [
    {
     "data": {
      "image/png": "[encoded data removed]",
      "text/latex": [
       "$$3 a^{2} + b^{2}$$"
      ],
      "text/plain": [
       "   2    2\n",
       "3⋅a  + b "
      ]
     },
     "execution_count": 108,
     "metadata": {},
     "output_type": "execute_result"
    }
   ],
   "source": [
    "p[x**2] # x的2次项系数 "
   ]
  },
  {
   "cell_type": "code",
   "execution_count": 109,
   "metadata": {},
   "outputs": [
    {
     "data": {
      "image/png": "[encoded data removed]",
      "text/latex": [
       "$$\\left(a + b\\right) \\sin{\\left (2 x \\right )}$$"
      ],
      "text/plain": [
       "(a + b)⋅sin(2⋅x)"
      ]
     },
     "execution_count": 109,
     "metadata": {},
     "output_type": "execute_result"
    }
   ],
   "source": [
    "\"\"\" collect()也可以收集表达式的各次幂的系数，例如下面的程序收\n",
    "集表达式“sin(2*x)”的系数\"\"\"\n",
    "collect(a*sin(2*x) + b*sin(2*x), sin(2*x))"
   ]
  },
  {
   "cell_type": "code",
   "execution_count": 110,
   "metadata": {},
   "outputs": [
    {
     "data": {
      "image/png": "[encoded data removed]",
      "text/latex": [
       "$$\\left [ \\frac{1}{2 a} \\left(- b + \\sqrt{- 4 a c + b^{2}}\\right), \\quad - \\frac{1}{2 a} \\left(b + \\sqrt{- 4 a c + b^{2}}\\right)\\right ]$$"
      ],
      "text/plain": [
       "⎡        _____________   ⎛       _____________⎞ ⎤\n",
       "⎢       ╱           2    ⎜      ╱           2 ⎟ ⎥\n",
       "⎢-b + ╲╱  -4⋅a⋅c + b    -⎝b + ╲╱  -4⋅a⋅c + b  ⎠ ⎥\n",
       "⎢─────────────────────, ────────────────────────⎥\n",
       "⎣         2⋅a                     2⋅a           ⎦"
      ]
     },
     "execution_count": 110,
     "metadata": {},
     "output_type": "execute_result"
    }
   ],
   "source": [
    "\"方程\"\n",
    "\"\"\"在SymPy中，表达式可以直接表示值为0的方程。也可以使用Eq()创\n",
    "建方程。solve()可以对方程进行符号求解，它的第一个参数是表示方\n",
    "程的表达式，其后的参数是表示方程中未知变量的符号。下面的例子\n",
    "使用solve()对一元二次方程进行求解\"\"\"\n",
    "a,b,c = symbols(\"a,b,c\") \n",
    "solve(a*x**2+b*x+c, x)"
   ]
  },
  {
   "cell_type": "code",
   "execution_count": 111,
   "metadata": {},
   "outputs": [
    {
     "data": {
      "image/png": "[encoded data removed]",
      "text/latex": [
       "$$\\left [ \\frac{1}{2 a} \\left(- b + \\sqrt{- 4 a c + b^{2}}\\right), \\quad - \\frac{1}{2 a} \\left(b + \\sqrt{- 4 a c + b^{2}}\\right)\\right ]$$"
      ],
      "text/plain": [
       "⎡        _____________   ⎛       _____________⎞ ⎤\n",
       "⎢       ╱           2    ⎜      ╱           2 ⎟ ⎥\n",
       "⎢-b + ╲╱  -4⋅a⋅c + b    -⎝b + ╲╱  -4⋅a⋅c + b  ⎠ ⎥\n",
       "⎢─────────────────────, ────────────────────────⎥\n",
       "⎣         2⋅a                     2⋅a           ⎦"
      ]
     },
     "execution_count": 111,
     "metadata": {},
     "output_type": "execute_result"
    }
   ],
   "source": [
    "\" 使用 Eq 创建一个方程对象并求解\"\n",
    "my_eq = Eq(a*x**2+b*x+c,0)\n",
    "solve(my_eq, x)"
   ]
  },
  {
   "cell_type": "code",
   "execution_count": 112,
   "metadata": {},
   "outputs": [
    {
     "data": {
      "image/png": "[encoded data removed]",
      "text/latex": [
       "$$\\left [ \\left ( - \\frac{\\sqrt{3} i}{3}, \\quad - \\frac{2 i}{3} \\sqrt{3}\\right ), \\quad \\left ( \\frac{\\sqrt{3} i}{3}, \\quad \\frac{2 i}{3} \\sqrt{3}\\right )\\right ]$$"
      ],
      "text/plain": [
       "⎡⎛-√3⋅ⅈ   -2⋅√3⋅ⅈ ⎞  ⎛√3⋅ⅈ  2⋅√3⋅ⅈ⎞⎤\n",
       "⎢⎜──────, ────────⎟, ⎜────, ──────⎟⎥\n",
       "⎣⎝  3        3    ⎠  ⎝ 3      3   ⎠⎦"
      ]
     },
     "execution_count": 112,
     "metadata": {},
     "output_type": "execute_result"
    }
   ],
   "source": [
    "\"\"\"由于方程的解可能有多组，因此solve()返回一个列表保存所有的解。\n",
    "可以传递包含多个表达式的元组或列表，让solve()对方程组进行求解，\n",
    "得到的解是两层嵌套的列表，其中每个元组表示方程组的一组解\"\"\"\n",
    "#对方程组求解（用元组将几个方程组成一个组）\n",
    "solve((x**2+x*y+1, y**2+x*y+2), x, y )\n",
    "#有两组解"
   ]
  },
  {
   "cell_type": "code",
   "execution_count": 113,
   "metadata": {},
   "outputs": [
    {
     "data": {
      "image/png": "[encoded data removed]",
      "text/latex": [
       "$$\\frac{d}{d x} \\sin{\\left (x \\right )}$$"
      ],
      "text/plain": [
       "d         \n",
       "──(sin(x))\n",
       "dx        "
      ]
     },
     "execution_count": 113,
     "metadata": {},
     "output_type": "execute_result"
    }
   ],
   "source": [
    "\"微分\"\n",
    "\"\"\"Derivative是表示导函数的类，它的第一个参数是需要进行求导的数学函数，\n",
    "第二个参数是求导的自变量.注意Derivative所得到的是一个导函数，\n",
    "它并不会进行求导运算\"\"\"\n",
    "t = Derivative(sin(x),x)  #创建了一个导函数对象\n",
    "t"
   ]
  },
  {
   "cell_type": "code",
   "execution_count": 114,
   "metadata": {},
   "outputs": [
    {
     "data": {
      "image/png": "[encoded data removed]",
      "text/latex": [
       "$$\\cos{\\left (x \\right )}$$"
      ],
      "text/plain": [
       "cos(x)"
      ]
     },
     "execution_count": 114,
     "metadata": {},
     "output_type": "execute_result"
    }
   ],
   "source": [
    "\"如果希望它进行实际的运算，计算出导函数，可以调用其doit()方法\"\n",
    "t.doit()"
   ]
  },
  {
   "cell_type": "code",
   "execution_count": 115,
   "metadata": {},
   "outputs": [
    {
     "data": {
      "image/png": "[encoded data removed]",
      "text/latex": [
       "$$2 x \\cos{\\left (x^{2} \\right )}$$"
      ],
      "text/plain": [
       "       ⎛ 2⎞\n",
       "2⋅x⋅cos⎝x ⎠"
      ]
     },
     "execution_count": 115,
     "metadata": {},
     "output_type": "execute_result"
    }
   ],
   "source": [
    "\"也可以直接使用diff()函数或表达式的diff()方法来计算导函数\"\n",
    "diff(sin(x*x), x)"
   ]
  },
  {
   "cell_type": "code",
   "execution_count": 116,
   "metadata": {},
   "outputs": [
    {
     "data": {
      "image/png": "[encoded data removed]",
      "text/latex": [
       "$$2 \\cos{\\left (2 x \\right )}$$"
      ],
      "text/plain": [
       "2⋅cos(2⋅x)"
      ]
     },
     "execution_count": 116,
     "metadata": {},
     "output_type": "execute_result"
    }
   ],
   "source": [
    "sin(2*x).diff(x)"
   ]
  },
  {
   "cell_type": "code",
   "execution_count": 117,
   "metadata": {},
   "outputs": [
    {
     "data": {
      "image/png": "[encoded data removed]",
      "text/latex": [
       "$$- 4 \\sin{\\left (2 x \\right )}$$"
      ],
      "text/plain": [
       "-4⋅sin(2⋅x)"
      ]
     },
     "execution_count": 117,
     "metadata": {},
     "output_type": "execute_result"
    }
   ],
   "source": [
    "diff(sin(2*x), x, 2)"
   ]
  },
  {
   "cell_type": "code",
   "execution_count": 118,
   "metadata": {},
   "outputs": [
    {
     "data": {
      "image/png": "[encoded data removed]",
      "text/latex": [
       "$$- 8 \\cos{\\left (2 x \\right )}$$"
      ],
      "text/plain": [
       "-8⋅cos(2⋅x)"
      ]
     },
     "execution_count": 118,
     "metadata": {},
     "output_type": "execute_result"
    }
   ],
   "source": [
    "diff(sin(2*x), x, 3)"
   ]
  },
  {
   "cell_type": "code",
   "execution_count": 119,
   "metadata": {},
   "outputs": [
    {
     "data": {
      "image/png": "[encoded data removed]",
      "text/latex": [
       "$$\\frac{d}{d x} f{\\left (x \\right )}$$"
      ],
      "text/plain": [
       "d       \n",
       "──(f(x))\n",
       "dx      "
      ]
     },
     "execution_count": 119,
     "metadata": {},
     "output_type": "execute_result"
    }
   ],
   "source": [
    "\"使用Derivative对象可以表示自定义的数学函数的导函数，例如\"\n",
    "Derivative(f(x), x)"
   ]
  },
  {
   "cell_type": "code",
   "execution_count": 120,
   "metadata": {},
   "outputs": [
    {
     "data": {
      "image/png": "[encoded data removed]",
      "text/latex": [
       "$$\\frac{d}{d x} f{\\left (x \\right )}$$"
      ],
      "text/plain": [
       "d       \n",
       "──(f(x))\n",
       "dx      "
      ]
     },
     "execution_count": 120,
     "metadata": {},
     "output_type": "execute_result"
    }
   ],
   "source": [
    "\"\"\"由于SymPy不知道如何对自定义的数学函数进行求导，因此它的diff()\n",
    "方法会返回和上面相同的结果\"\"\"\n",
    "f(x).diff(x) #方法中的x表示对x符号进行求导"
   ]
  },
  {
   "cell_type": "code",
   "execution_count": 121,
   "metadata": {},
   "outputs": [
    {
     "data": {
      "image/png": "[encoded data removed]",
      "text/latex": [
       "$$\\frac{d^{3}}{d x^{3}}  f{\\left (x \\right )}$$"
      ],
      "text/plain": [
       "  3      \n",
       " d       \n",
       "───(f(x))\n",
       "  3      \n",
       "dx       "
      ]
     },
     "execution_count": 121,
     "metadata": {},
     "output_type": "execute_result"
    }
   ],
   "source": [
    "\" 添加更多的符号参数可以表示高阶导函数，例如\"\n",
    "Derivative(f(x), x, 3) #表示f(x)对x求三阶导数（或者偏导）"
   ]
  },
  {
   "cell_type": "code",
   "execution_count": 122,
   "metadata": {},
   "outputs": [
    {
     "data": {
      "image/png": "[encoded data removed]",
      "text/latex": [
       "$$\\frac{\\partial^{5}}{\\partial x^{2}\\partial y^{3}}  f{\\left (x,y \\right )}$$"
      ],
      "text/plain": [
       "    5           \n",
       "   ∂            \n",
       "───────(f(x, y))\n",
       "  3   2         \n",
       "∂y  ∂x          "
      ]
     },
     "execution_count": 122,
     "metadata": {},
     "output_type": "execute_result"
    }
   ],
   "source": [
    "\"也可以表示多个变量的导函数，例如\"\n",
    "Derivative(f(x,y), x,2,y,3) #对x求2阶偏导且对y求3阶偏导数（5阶数）"
   ]
  },
  {
   "cell_type": "code",
   "execution_count": 123,
   "metadata": {},
   "outputs": [
    {
     "data": {
      "image/png": "[encoded data removed]",
      "text/latex": [
       "$$x \\left(x^{2} y^{2} \\cos{\\left (x y \\right )} + 6 x y \\sin{\\left (x y \\right )} - 6 \\cos{\\left (x y \\right )}\\right)$$"
      ],
      "text/plain": [
       "  ⎛ 2  2                                       ⎞\n",
       "x⋅⎝x ⋅y ⋅cos(x⋅y) + 6⋅x⋅y⋅sin(x⋅y) - 6⋅cos(x⋅y)⎠"
      ]
     },
     "execution_count": 123,
     "metadata": {},
     "output_type": "execute_result"
    }
   ],
   "source": [
    "\"\"\" diff()求解的格式和Derivative声明的格式类似，例如下面的语句计算\n",
    "sin(xy)对x两次求导、对y三次求导的结果\"\"\"\n",
    "diff(sin(x*y), x,2,y,3)"
   ]
  },
  {
   "cell_type": "code",
   "execution_count": 124,
   "metadata": {},
   "outputs": [
    {
     "data": {
      "image/png": "[encoded data removed]",
      "text/latex": [
       "$$f{\\left (x \\right )} = C_{1} e^{x}$$"
      ],
      "text/plain": [
       "           x\n",
       "f(x) = C₁⋅ℯ "
      ]
     },
     "execution_count": 124,
     "metadata": {},
     "output_type": "execute_result"
    }
   ],
   "source": [
    "\"微分方程\"\n",
    "\"\"\"dsolve()可以对微分方程进行符号求解。它的第一个参数是一个带未知\n",
    "函数的表达式，第二个参数是需要进行求解的未知函数。例如下面的程\n",
    "序对微分方程f'(x) - f(x) = 0进行求解。 得到的结果是一个自然指数函\n",
    "数，它有一个待定系数c1。\"\"\"\n",
    "f = Function(\"f\")\n",
    "dsolve(Derivative(f(x), x) - f(x), f(x))"
   ]
  },
  {
   "cell_type": "code",
   "execution_count": 128,
   "metadata": {},
   "outputs": [
    {
     "data": {
      "text/latex": [
       "\\[ \\frac{\\partial f(x) } {\\partial x} + f(x) +f^2(x) = 0 \\]"
      ],
      "text/plain": [
       "<IPython.core.display.Latex object>"
      ]
     },
     "execution_count": 128,
     "metadata": {},
     "output_type": "execute_result"
    }
   ],
   "source": [
    "\"\"\"用dsolve()解微分方程时可以传递一个hint参数，指定微分方程的解法\n",
    "。该参数的默认值为“default”,表示由SymPy自动挑选解法。可以将hint参\n",
    "数设置为“best”，让dsolve()尝试所有己知解法，并返回最简单的解，例\n",
    "如下面对微分方程 \"\"\"\n",
    "Latex(r\"\\[ \\frac{\\partial f(x) } {\\partial x} + f(x) +f^2(x) = 0 \\]\")"
   ]
  },
  {
   "cell_type": "code",
   "execution_count": 130,
   "metadata": {},
   "outputs": [
    {
     "data": {
      "image/png": "[encoded data removed]",
      "text/latex": [
       "$$f{\\left (x \\right )} = - \\frac{C_{1}}{C_{1} - e^{x}}$$"
      ],
      "text/plain": [
       "         -C₁  \n",
       "f(x) = ───────\n",
       "             x\n",
       "       C₁ - ℯ "
      ]
     },
     "execution_count": 130,
     "metadata": {},
     "output_type": "execute_result"
    }
   ],
   "source": [
    "\"\"\"进行求解。得到的结果是一个一般方程，它描述了f(x)和自变量之间的关\n",
    "系。一般把这种函数称为隐函数\"\"\"\n",
    "x = symbols(\"x\", real=True) # 定义符号x 为实数\n",
    "eq1 = dsolve(f(x).diff(x) + f(x)**2 + f(x), f(x))\n",
    "eq1"
   ]
  },
  {
   "cell_type": "code",
   "execution_count": 131,
   "metadata": {},
   "outputs": [
    {
     "data": {
      "image/png": "[encoded data removed]",
      "text/latex": [
       "$$f{\\left (x \\right )} = C_{1} - 2 C_{1} x - C_{1} x^{2} - \\frac{C_{1} x^{3}}{3} \\left(C_{1} + 3\\right) - \\frac{C_{1} x^{4}}{12} - \\frac{C_{1} x^{5}}{60} \\left(C_{1} + 64\\right) + \\mathcal{O}\\left(x^{6}\\right)$$"
      ],
      "text/plain": [
       "                                 3                4       5                  \n",
       "                         2   C₁⋅x ⋅(C₁ + 3)   C₁⋅x    C₁⋅x ⋅(C₁ + 64)    ⎛ 6⎞\n",
       "f(x) = C₁ - 2⋅C₁⋅x - C₁⋅x  - ────────────── - ───── - ─────────────── + O⎝x ⎠\n",
       "                                   3            12           60              "
      ]
     },
     "execution_count": 131,
     "metadata": {},
     "output_type": "execute_result"
    }
   ],
   "source": [
    "\" 如果设置hint参数为“best”,就能得到更简单的显函数表达式\"\n",
    "eq2 = dsolve(f(x).diff(x) + f(x)**2 + f(x), f(x), hint=\"best\")\n",
    "eq2"
   ]
  },
  {
   "cell_type": "code",
   "execution_count": 133,
   "metadata": {},
   "outputs": [
    {
     "data": {
      "text/latex": [
       "\\[ \\int\\,fdx \\]"
      ],
      "text/plain": [
       "<IPython.core.display.Latex object>"
      ]
     },
     "execution_count": 133,
     "metadata": {},
     "output_type": "execute_result"
    }
   ],
   "source": [
    "\"积分\"\n",
    "\" integrate()可以计算定积分和不定积分\"\n",
    "Latex(r\"\\[ \\int\\,fdx \\]\")"
   ]
  },
  {
   "cell_type": "code",
   "execution_count": 134,
   "metadata": {},
   "outputs": [
    {
     "data": {
      "text/latex": [
       "\\[ \\int_a^b\\,fdx \\]"
      ],
      "text/plain": [
       "<IPython.core.display.Latex object>"
      ]
     },
     "execution_count": 134,
     "metadata": {},
     "output_type": "execute_result"
    }
   ],
   "source": [
    "\"integrate(f,(x,a,b)):计算定积分\"\n",
    "Latex(r\"\\[ \\int_a^b\\,fdx \\]\")"
   ]
  },
  {
   "cell_type": "code",
   "execution_count": 138,
   "metadata": {},
   "outputs": [
    {
     "data": {
      "text/latex": [
       "\\[ \\int \\int \\, fdx\\,dy\\]"
      ],
      "text/plain": [
       "<IPython.core.display.Latex object>"
      ]
     },
     "execution_count": 138,
     "metadata": {},
     "output_type": "execute_result"
    }
   ],
   "source": [
    "\"如果要对多个变量计算多重积分，只需要将被积分的变量依次列出即可\"\n",
    "\"integrate(f,x,y):计算双重不定积分\"\n",
    "Latex(r\"\\[ \\int \\int \\, fdx\\,dy\\]\")"
   ]
  },
  {
   "cell_type": "code",
   "execution_count": 139,
   "metadata": {},
   "outputs": [
    {
     "data": {
      "text/latex": [
       "\\[ \\int_c^d \\int_a^b fdx\\,dy \\]"
      ],
      "text/plain": [
       "<IPython.core.display.Latex object>"
      ]
     },
     "execution_count": 139,
     "metadata": {},
     "output_type": "execute_result"
    }
   ],
   "source": [
    "\"integrate(f,(x,a,b),(y,c,d)):计算二重定积分\"\n",
    "Latex(r\"\\[ \\int_c^d \\int_a^b fdx\\,dy \\]\")"
   ]
  },
  {
   "cell_type": "code",
   "execution_count": 140,
   "metadata": {},
   "outputs": [
    {
     "data": {
      "image/png": "[encoded data removed]",
      "text/latex": [
       "$$\\int x \\sin{\\left (x \\right )}\\, dx$$"
      ],
      "text/plain": [
       "⌠            \n",
       "⎮ x⋅sin(x) dx\n",
       "⌡            "
      ]
     },
     "execution_count": 140,
     "metadata": {},
     "output_type": "execute_result"
    }
   ],
   "source": [
    "\"\"\"和Derivative对象表示微分表达式类似, Integral对象表示积分表达式，\n",
    "它的参数和integrate() 类似，例如\"\"\"\n",
    "e = Integral(x*sin(x), x)\n",
    "e"
   ]
  },
  {
   "cell_type": "code",
   "execution_count": 141,
   "metadata": {},
   "outputs": [
    {
     "data": {
      "image/png": "[encoded data removed]",
      "text/latex": [
       "$$- x \\cos{\\left (x \\right )} + \\sin{\\left (x \\right )}$$"
      ],
      "text/plain": [
       "-x⋅cos(x) + sin(x)"
      ]
     },
     "execution_count": 141,
     "metadata": {},
     "output_type": "execute_result"
    }
   ],
   "source": [
    "\"调用积分对象的doit()方法可以对其进行求值计算\"\n",
    "e.doit()"
   ]
  },
  {
   "cell_type": "code",
   "execution_count": 142,
   "metadata": {},
   "outputs": [
    {
     "data": {
      "image/png": "[encoded data removed]",
      "text/latex": [
       "$$\\operatorname{Si}{\\left (1 \\right )}$$"
      ],
      "text/plain": [
       "Si(1)"
      ]
     },
     "execution_count": 142,
     "metadata": {},
     "output_type": "execute_result"
    }
   ],
   "source": [
    "\"\"\"有些积分表达式无法进行符号化简，这时可以调用其evalf()方法或用\n",
    "求值函数N()对其进行数值运算\"\"\"\n",
    "e2 = Integral(sin(x)/x, (x, 0, 1)) \n",
    "e2.doit()"
   ]
  },
  {
   "cell_type": "code",
   "execution_count": 143,
   "metadata": {},
   "outputs": [
    {
     "data": {
      "image/png": "[encoded data removed]",
      "text/latex": [
       "$$0.946083070367183$$"
      ],
      "text/plain": [
       "0.946083070367183"
      ]
     },
     "execution_count": 143,
     "metadata": {},
     "output_type": "execute_result"
    }
   ],
   "source": [
    "\"由于无法进行符号定积分，可用evalf()和N()对其进行数值运算\"\n",
    "e2.evalf()"
   ]
  },
  {
   "cell_type": "code",
   "execution_count": 144,
   "metadata": {},
   "outputs": [
    {
     "data": {
      "image/png": "[encoded data removed]",
      "text/latex": [
       "$$0.946083070367183$$"
      ],
      "text/plain": [
       "0.946083070367183"
      ]
     },
     "execution_count": 144,
     "metadata": {},
     "output_type": "execute_result"
    }
   ],
   "source": [
    "N(e2)"
   ]
  },
  {
   "cell_type": "code",
   "execution_count": 146,
   "metadata": {},
   "outputs": [
    {
     "data": {
      "image/png": "[encoded data removed]",
      "text/latex": [
       "$$0.946083070367183014941353313823$$"
      ],
      "text/plain": [
       "0.946083070367183014941353313823"
      ]
     },
     "execution_count": 146,
     "metadata": {},
     "output_type": "execute_result"
    }
   ],
   "source": [
    "N(e2, 30) # 可指定精度"
   ]
  },
  {
   "cell_type": "code",
   "execution_count": 154,
   "metadata": {},
   "outputs": [
    {
     "data": {
      "text/latex": [
       "\\[ \\int_0^\\infty \\frac{sin(x)}{x}\\,dx = \\pi/2 \\]"
      ],
      "text/plain": [
       "<IPython.core.display.Latex object>"
      ]
     },
     "execution_count": 154,
     "metadata": {},
     "output_type": "execute_result"
    }
   ],
   "source": [
    "\" SymPy的数值计算功能还不够强大，不能对应如下这种情况的无限积分\"\n",
    "Latex(r\"\\[ \\int_0^\\infty \\frac{sin(x)}{x}\\,dx = \\pi/2 \\]\")"
   ]
  },
  {
   "cell_type": "code",
   "execution_count": 155,
   "metadata": {},
   "outputs": [
    {
     "data": {
      "image/png": "[encoded data removed]",
      "text/latex": [
       "$$-4.0$$"
      ],
      "text/plain": [
       "-0.e+0"
      ]
     },
     "execution_count": 155,
     "metadata": {},
     "output_type": "execute_result"
    }
   ],
   "source": [
    "N(Integral(sin(x)/x, (x, 0, oo))) # oo表示正无穷"
   ]
  },
  {
   "cell_type": "code",
   "execution_count": 156,
   "metadata": {},
   "outputs": [
    {
     "data": {
      "image/png": "[encoded data removed]",
      "text/latex": [
       "$$1.0$$"
      ],
      "text/plain": [
       "0.e+0"
      ]
     },
     "execution_count": 156,
     "metadata": {},
     "output_type": "execute_result"
    }
   ],
   "source": [
    "\"\"\"将积分上限修改为10000也没能计算出近似结果，上限为1000时得到了 \n",
    "π/2的近似值，不过还远远不够精确\"\"\"\n",
    "N(Integral(sin(x)/x, (x, 0, 10000))) "
   ]
  },
  {
   "cell_type": "code",
   "execution_count": 157,
   "metadata": {},
   "outputs": [
    {
     "data": {
      "image/png": "[encoded data removed]",
      "text/latex": [
       "$$1.57023312196877$$"
      ],
      "text/plain": [
       "1.57023312196877"
      ]
     },
     "execution_count": 157,
     "metadata": {},
     "output_type": "execute_result"
    }
   ],
   "source": [
    "N(Integral(sin(x)/x, (x, 0, 1000)))"
   ]
  },
  {
   "cell_type": "code",
   "execution_count": 158,
   "metadata": {},
   "outputs": [
    {
     "data": {
      "image/png": "[encoded data removed]",
      "text/latex": [
       "$$\\frac{2}{9} \\sin{\\left (\\frac{9}{10} \\right )} + \\frac{2}{7} \\sin{\\left (\\frac{7}{10} \\right )} + \\frac{2}{5} \\sin{\\left (\\frac{1}{2} \\right )} + \\frac{2}{3} \\sin{\\left (\\frac{3}{10} \\right )} + 2 \\sin{\\left (\\frac{1}{10} \\right )}$$"
      ],
      "text/plain": [
       "2⋅sin(9/10)   2⋅sin(7/10)   2⋅sin(1/2)   2⋅sin(3/10)              \n",
       "─────────── + ─────────── + ────────── + ─────────── + 2⋅sin(1/10)\n",
       "     9             7            5             3                   "
      ]
     },
     "execution_count": 158,
     "metadata": {},
     "output_type": "execute_result"
    }
   ],
   "source": [
    "\"\"\"as_sum()方法可以将定积分转换为近似求和公式，它将积分区域\n",
    "分割成N个小矩形的面积之和\"\"\"\n",
    "e=Integral(sin(x)/x,(x,0,1))\n",
    "e.as_sum(5)"
   ]
  },
  {
   "cell_type": "code",
   "execution_count": 159,
   "metadata": {},
   "outputs": [
    {
     "data": {
      "image/png": "[encoded data removed]",
      "text/latex": [
       "$$0.946585362780408$$"
      ],
      "text/plain": [
       "0.946585362780408"
      ]
     },
     "execution_count": 159,
     "metadata": {},
     "output_type": "execute_result"
    }
   ],
   "source": [
    "N(e.as_sum(5))"
   ]
  },
  {
   "cell_type": "code",
   "execution_count": 160,
   "metadata": {},
   "outputs": [
    {
     "data": {
      "image/png": "[encoded data removed]",
      "text/latex": [
       "$$\\pi^{2}$$"
      ],
      "text/plain": [
       " 2\n",
       "π "
      ]
     },
     "execution_count": 160,
     "metadata": {},
     "output_type": "execute_result"
    }
   ],
   "source": [
    "\"用SymPy做计算器\"\n",
    "\"\"\"SymPy有三种内建的数值类型：浮点数、有理数和整数。\n",
    "有理数类用一对整数表示一个有理数：分子和分母，所以\n",
    "Rational(1,2)代表1/2, Rational(5,2) 代表5/2等等。\n",
    "有些特殊的常数，像e和pi，它们被视为符号(1+pi将不被数值求解，\n",
    "它将保持为1+pi)，并且可以有任意精度\"\"\"\n",
    "pi ** 2"
   ]
  },
  {
   "cell_type": "code",
   "execution_count": 161,
   "metadata": {},
   "outputs": [
    {
     "data": {
      "image/png": "[encoded data removed]",
      "text/latex": [
       "$$3.14159265358979$$"
      ],
      "text/plain": [
       "3.14159265358979"
      ]
     },
     "execution_count": 161,
     "metadata": {},
     "output_type": "execute_result"
    }
   ],
   "source": [
    "pi.evalf()"
   ]
  },
  {
   "cell_type": "code",
   "execution_count": 162,
   "metadata": {},
   "outputs": [
    {
     "data": {
      "image/png": "[encoded data removed]",
      "text/latex": [
       "$$5.8598744820488384738229308546321653819544164930751$$"
      ],
      "text/plain": [
       "5.8598744820488384738229308546321653819544164930751"
      ]
     },
     "execution_count": 162,
     "metadata": {},
     "output_type": "execute_result"
    }
   ],
   "source": [
    "(pi+exp(1)).evalf(50)"
   ]
  },
  {
   "cell_type": "code",
   "execution_count": 164,
   "metadata": {},
   "outputs": [
    {
     "data": {
      "image/png": "[encoded data removed]",
      "text/latex": [
       "$$\\mathrm{True}$$"
      ],
      "text/plain": [
       "True"
      ]
     },
     "execution_count": 164,
     "metadata": {},
     "output_type": "execute_result"
    }
   ],
   "source": [
    "\"evalf将表达式求解为浮点数。这还有一个类表示数学上的无限，叫作oo\"\n",
    "oo > 99999"
   ]
  },
  {
   "cell_type": "code",
   "execution_count": 165,
   "metadata": {},
   "outputs": [
    {
     "data": {
      "image/png": "[encoded data removed]",
      "text/latex": [
       "$$\\infty$$"
      ],
      "text/plain": [
       "∞"
      ]
     },
     "execution_count": 165,
     "metadata": {},
     "output_type": "execute_result"
    }
   ],
   "source": [
    "oo + 10000"
   ]
  },
  {
   "cell_type": "code",
   "execution_count": 166,
   "metadata": {},
   "outputs": [
    {
     "data": {
      "image/png": "[encoded data removed]",
      "text/latex": [
       "$$1$$"
      ],
      "text/plain": [
       "1"
      ]
     },
     "execution_count": 166,
     "metadata": {},
     "output_type": "execute_result"
    }
   ],
   "source": [
    "\"极限\"\n",
    "\"\"\"极限在sympy中使用很简单，它们的语法是limit(function, variable, \n",
    "point)，所以计算当x趋近于0时f(x)的极限，可以给出limit(f, x, 0)\"\"\"\n",
    "from sympy import *\n",
    "x=Symbol(\"x\")\n",
    "limit(sin(x)/x, x, 0)"
   ]
  },
  {
   "cell_type": "code",
   "execution_count": 167,
   "metadata": {},
   "outputs": [
    {
     "data": {
      "image/png": "[encoded data removed]",
      "text/latex": [
       "$$0$$"
      ],
      "text/plain": [
       "0"
      ]
     },
     "execution_count": 167,
     "metadata": {},
     "output_type": "execute_result"
    }
   ],
   "source": [
    "\"也可以计算在无穷的极限\"\n",
    "limit(sin(x)/x, x, oo)"
   ]
  },
  {
   "cell_type": "code",
   "execution_count": 168,
   "metadata": {},
   "outputs": [
    {
     "data": {
      "image/png": "[encoded data removed]",
      "text/latex": [
       "$$1 + \\frac{x^{2}}{2} + \\frac{5 x^{4}}{24} + \\frac{61 x^{6}}{720} + \\frac{277 x^{8}}{8064} + \\mathcal{O}\\left(x^{10}\\right)$$"
      ],
      "text/plain": [
       "     2      4       6        8         \n",
       "    x    5⋅x    61⋅x    277⋅x     ⎛ 10⎞\n",
       "1 + ── + ──── + ───── + ────── + O⎝x  ⎠\n",
       "    2     24     720     8064          "
      ]
     },
     "execution_count": 168,
     "metadata": {},
     "output_type": "execute_result"
    }
   ],
   "source": [
    "\"级数展开\"\n",
    "\" 使用.series(var, point, order)\"\n",
    "(1/cos(x)).series(x, 0, 10)"
   ]
  },
  {
   "cell_type": "code",
   "execution_count": 169,
   "metadata": {},
   "outputs": [
    {
     "data": {
      "image/png": "[encoded data removed]",
      "text/latex": [
       "$$\\frac{1}{y} - \\frac{x}{y^{2}} + \\frac{x^{2}}{y^{3}} - \\frac{x^{3}}{y^{4}} + \\frac{x^{4}}{y^{5}} + \\mathcal{O}\\left(x^{5}\\right)$$"
      ],
      "text/plain": [
       "          2    3    4        \n",
       "1   x    x    x    x     ⎛ 5⎞\n",
       "─ - ── + ── - ── + ── + O⎝x ⎠\n",
       "y    2    3    4    5        \n",
       "    y    y    y    y         "
      ]
     },
     "execution_count": 169,
     "metadata": {},
     "output_type": "execute_result"
    }
   ],
   "source": [
    "e = 1/(x + y)\n",
    "s = e.series(x, 0, 5)\n",
    "s"
   ]
  },
  {
   "cell_type": "code",
   "execution_count": 170,
   "metadata": {},
   "outputs": [
    {
     "name": "stdout",
     "output_type": "stream",
     "text": [
      "          2    3    4        \n",
      "1   x    x    x    x     ⎛ 5⎞\n",
      "─ - ── + ── - ── + ── + O⎝x ⎠\n",
      "y    2    3    4    5        \n",
      "    y    y    y    y         \n"
     ]
    }
   ],
   "source": [
    "pprint(s)"
   ]
  },
  {
   "cell_type": "code",
   "execution_count": 171,
   "metadata": {},
   "outputs": [
    {
     "data": {
      "image/png": "[encoded data removed]",
      "text/latex": [
       "$$n^{2}$$"
      ],
      "text/plain": [
       " 2\n",
       "n "
      ]
     },
     "execution_count": 171,
     "metadata": {},
     "output_type": "execute_result"
    }
   ],
   "source": [
    "\"求和\"\n",
    "\"计算给定求和变量界限的f的总和(Summation)\"\n",
    "\"\"\" summation(f, (i, a, b))变量i从a到b计算f的和.如果不能计算总和，它将\n",
    "打印相应的求和公式。求值可引入额外的极限计算\"\"\"\n",
    "from sympy import summation, oo, symbols, log\n",
    "i, n, m = symbols('i n m', integer=True) \n",
    "summation(2*i - 1, (i, 1, n))"
   ]
  },
  {
   "cell_type": "code",
   "execution_count": 172,
   "metadata": {},
   "outputs": [
    {
     "data": {
      "image/png": "[encoded data removed]",
      "text/latex": [
       "$$2$$"
      ],
      "text/plain": [
       "2"
      ]
     },
     "execution_count": 172,
     "metadata": {},
     "output_type": "execute_result"
    }
   ],
   "source": [
    "summation(1/2**i, (i, 0, oo))"
   ]
  },
  {
   "cell_type": "code",
   "execution_count": 173,
   "metadata": {},
   "outputs": [
    {
     "data": {
      "image/png": "[encoded data removed]",
      "text/latex": [
       "$$\\sum_{n=2}^{\\infty} \\log^{- n}{\\left (n \\right )}$$"
      ],
      "text/plain": [
       "  ∞           \n",
       " ___          \n",
       " ╲            \n",
       "  ╲      -n   \n",
       "  ╱   log  (n)\n",
       " ╱            \n",
       " ‾‾‾          \n",
       "n = 2         "
      ]
     },
     "execution_count": 173,
     "metadata": {},
     "output_type": "execute_result"
    }
   ],
   "source": [
    "summation(1/log(n)**n, (n, 2, oo))"
   ]
  },
  {
   "cell_type": "code",
   "execution_count": 174,
   "metadata": {},
   "outputs": [
    {
     "data": {
      "image/png": "[encoded data removed]",
      "text/latex": [
       "$$\\frac{m^{3}}{6} + \\frac{m^{2}}{2} + \\frac{m}{3}$$"
      ],
      "text/plain": [
       " 3    2    \n",
       "m    m    m\n",
       "── + ── + ─\n",
       "6    2    3"
      ]
     },
     "execution_count": 174,
     "metadata": {},
     "output_type": "execute_result"
    }
   ],
   "source": [
    "summation(i, (i, 0, n), (n, 0, m))"
   ]
  },
  {
   "cell_type": "code",
   "execution_count": 175,
   "metadata": {},
   "outputs": [
    {
     "data": {
      "image/png": "[encoded data removed]",
      "text/latex": [
       "$$\\frac{n^{2}}{2} + \\frac{n}{2}$$"
      ],
      "text/plain": [
       " 2    \n",
       "n    n\n",
       "── + ─\n",
       "2    2"
      ]
     },
     "execution_count": 175,
     "metadata": {},
     "output_type": "execute_result"
    }
   ],
   "source": [
    "summation(i, (i, 0, n))"
   ]
  },
  {
   "cell_type": "code",
   "execution_count": 176,
   "metadata": {},
   "outputs": [
    {
     "data": {
      "image/png": "[encoded data removed]",
      "text/latex": [
       "$$\\frac{m^{3}}{6} + \\frac{m^{2}}{2} + \\frac{m}{3}$$"
      ],
      "text/plain": [
       " 3    2    \n",
       "m    m    m\n",
       "── + ── + ─\n",
       "6    2    3"
      ]
     },
     "execution_count": 176,
     "metadata": {},
     "output_type": "execute_result"
    }
   ],
   "source": [
    "summation(n**2/2 + n/2, (n, 0, m))"
   ]
  },
  {
   "cell_type": "code",
   "execution_count": 177,
   "metadata": {},
   "outputs": [
    {
     "data": {
      "image/png": "[encoded data removed]",
      "text/latex": [
       "$$e^{x}$$"
      ],
      "text/plain": [
       " x\n",
       "ℯ "
      ]
     },
     "execution_count": 177,
     "metadata": {},
     "output_type": "execute_result"
    }
   ],
   "source": [
    "from sympy.abc import x\n",
    "from sympy import factorial\n",
    "summation(x**n/factorial(n), (n, 0, oo))"
   ]
  },
  {
   "cell_type": "code",
   "execution_count": 178,
   "metadata": {},
   "outputs": [
    {
     "data": {
      "text/latex": [
       "$$\\left[\\begin{matrix}1 & x\\\\y & 1\\end{matrix}\\right]$$"
      ],
      "text/plain": [
       "⎡1  x⎤\n",
       "⎢    ⎥\n",
       "⎣y  1⎦"
      ]
     },
     "execution_count": 178,
     "metadata": {},
     "output_type": "execute_result"
    }
   ],
   "source": [
    "\"矩阵\"\n",
    "\"矩阵从Matrix类创建,它可以包含符号\"\n",
    "x = Symbol('x')\n",
    "y = Symbol('y')\n",
    "A = Matrix([[1,x], [y,1]])\n",
    "A"
   ]
  },
  {
   "cell_type": "code",
   "execution_count": 179,
   "metadata": {},
   "outputs": [
    {
     "data": {
      "text/latex": [
       "$$\\left[\\begin{matrix}x y + 1 & 2 x\\\\2 y & x y + 1\\end{matrix}\\right]$$"
      ],
      "text/plain": [
       "⎡x⋅y + 1    2⋅x  ⎤\n",
       "⎢                ⎥\n",
       "⎣  2⋅y    x⋅y + 1⎦"
      ]
     },
     "execution_count": 179,
     "metadata": {},
     "output_type": "execute_result"
    }
   ],
   "source": [
    "A ** 2"
   ]
  },
  {
   "cell_type": "code",
   "execution_count": 181,
   "metadata": {},
   "outputs": [
    {
     "data": {
      "image/png": "[encoded data removed]",
      "text/latex": [
       "$$\\left \\{ p : 5\\right \\}$$"
      ],
      "text/plain": [
       "{p: 5}"
      ]
     },
     "execution_count": 181,
     "metadata": {},
     "output_type": "execute_result"
    }
   ],
   "source": [
    "\"模式匹配\"\n",
    "\"\"\" 使用.match()方法，和Wild类对表达式实行模式匹配。这个方法将返\n",
    "回一个发生替换的字典，如下\"\"\"\n",
    "from sympy import Symbol, Wild \n",
    "x = Symbol('x') \n",
    "p = Wild('p') \n",
    "(5*x**2).match(p*x**2)"
   ]
  },
  {
   "cell_type": "code",
   "execution_count": 182,
   "metadata": {},
   "outputs": [
    {
     "data": {
      "image/png": "[encoded data removed]",
      "text/latex": [
       "$$\\left \\{ p : 1, \\quad q : 2\\right \\}$$"
      ],
      "text/plain": [
       "{p: 1, q: 2}"
      ]
     },
     "execution_count": 182,
     "metadata": {},
     "output_type": "execute_result"
    }
   ],
   "source": [
    "q = Wild('q') \n",
    "(x**2).match(p*x**q)"
   ]
  },
  {
   "cell_type": "code",
   "execution_count": 184,
   "metadata": {},
   "outputs": [
    {
     "name": "stdout",
     "output_type": "stream",
     "text": [
      "None\n"
     ]
    }
   ],
   "source": [
    "\"如果匹配失败，将返回None\"\n",
    "print((x+1).match(p**x))"
   ]
  },
  {
   "cell_type": "code",
   "execution_count": 186,
   "metadata": {},
   "outputs": [
    {
     "name": "stdout",
     "output_type": "stream",
     "text": [
      "None\n"
     ]
    }
   ],
   "source": [
    "\"可以指定Wild类的排除参数去保证一些东西不出现在结果之中\"\n",
    "p = Wild('p', exclude=[1,x])\n",
    "print((x+1).match(x+p)) # 1 is excluded"
   ]
  },
  {
   "cell_type": "code",
   "execution_count": 187,
   "metadata": {},
   "outputs": [
    {
     "name": "stdout",
     "output_type": "stream",
     "text": [
      "None\n"
     ]
    }
   ],
   "source": [
    "print((x+1).match(p+1)) # x is excluded"
   ]
  },
  {
   "cell_type": "code",
   "execution_count": 188,
   "metadata": {},
   "outputs": [
    {
     "name": "stdout",
     "output_type": "stream",
     "text": [
      "{p_: -1}\n"
     ]
    }
   ],
   "source": [
    "print((x+1).match(x+2+p)) # -1 is not"
   ]
  },
  {
   "cell_type": "code",
   "execution_count": 1,
   "metadata": {},
   "outputs": [
    {
     "data": {
      "text/plain": [
       "Point2D(5*(3 + sqrt(13))/(2*sqrt(2) + sqrt(13) + 5), 10/(2*sqrt(2) + sqrt(13) + 5))"
      ]
     },
     "execution_count": 1,
     "metadata": {},
     "output_type": "execute_result"
    }
   ],
   "source": [
    "\"Numpy.geometry平面几何模块\"\n",
    "\"\"\"这个模块可以创建二维几何图形的对象，如直线，线段，圆等，并计\n",
    "算这些对象的各种信息，例如椭圆的面积，判断一组点是否共线，或者\n",
    "求两条直线的交点等等\"\"\"\n",
    "\"下面有几个简单的例子\"\n",
    "from sympy import *\n",
    "#创建了3个表示平面上的点的对象\n",
    "A=Point(0,0)\n",
    "B=Point(5,0)\n",
    "C=Point(3,2)\n",
    "#用上面创建的三个点当三角形的顶点，创建了一个表示三角形的对象t\n",
    "t=Triangle(A,B,C)\n",
    "#三角形对象的incenter属性用于获取其内心（内切圆的圆心）\n",
    "D=t.incenter\n",
    "D"
   ]
  },
  {
   "cell_type": "code",
   "execution_count": 2,
   "metadata": {},
   "outputs": [],
   "source": [
    "\"\"\"#利用Circle()创建了经过C，D，B三个点的圆，另外Circle()也可以通过\n",
    "指定圆心和半径来创建一个圆。还有要注意的是circle()返回的对象是\n",
    "一个类似元组对象，所以引用这个对象的时候要使用引用元组的方法\"\"\"\n",
    "p=Circle(C,D,B)"
   ]
  },
  {
   "cell_type": "code",
   "execution_count": null,
   "metadata": {},
   "outputs": [],
   "source": [
    "# 利用这种方式作图真是太慢了\n",
    "\"\"\"#首先用Line()创建了一个直线对象，类似的无限的直线对象；\n",
    "利用圆的intersection()方法，可以计算出圆与直线的两个交点；\n",
    "最后使用Segment()将传入的这个交点生成一个弦对象（弦对象是\n",
    "一种有长度的线段）\"\"\"\n",
    "i=Segment(*p.intersection(Line(A,B)))\n",
    "\"\"\"#利用弦对象的length属性获取其长度（表示方法复杂），\n",
    "然后用evalf()方法计算出\"\"\"\n",
    "i.length.evalf()\n",
    "j=Segment(*p.intersection(Line(A,C)))\n",
    "j.length.evalf()\n",
    "# 利用这种方式作图真是太慢了"
   ]
  }
 ],
 "metadata": {
  "kernelspec": {
   "display_name": "Python 3",
   "language": "python",
   "name": "python3"
  },
  "language_info": {
   "codemirror_mode": {
    "name": "ipython",
    "version": 3
   },
   "file_extension": ".py",
   "mimetype": "text/x-python",
   "name": "python",
   "nbconvert_exporter": "python",
   "pygments_lexer": "ipython3",
   "version": "3.6.4"
  }
 },
 "nbformat": 4,
 "nbformat_minor": 2
}
